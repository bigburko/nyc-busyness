{
 "cells": [
  {
   "cell_type": "markdown",
   "id": "049ab8ac",
   "metadata": {},
   "source": [
    "## Imports and Setup"
   ]
  },
  {
   "cell_type": "code",
   "execution_count": 1,
   "id": "5618c296",
   "metadata": {},
   "outputs": [
    {
     "name": "stdout",
     "output_type": "stream",
     "text": [
      "📦 Libraries imported successfully\n",
      "   📍 GeoPandas version: 1.1.1\n",
      "   📊 Pandas version: 2.2.3\n"
     ]
    }
   ],
   "source": [
    "import json\n",
    "import geopandas as gpd\n",
    "import pandas as pd\n",
    "from pathlib import Path\n",
    "import warnings\n",
    "\n",
    "warnings.filterwarnings('ignore')\n",
    "\n",
    "print(\"📦 Libraries imported successfully\")\n",
    "print(f\"   📍 GeoPandas version: {gpd.__version__}\")\n",
    "print(f\"   📊 Pandas version: {pd.__version__}\")"
   ]
  },
  {
   "cell_type": "markdown",
   "id": "12d628f5",
   "metadata": {},
   "source": [
    "## Load GeoJSON File"
   ]
  },
  {
   "cell_type": "code",
   "execution_count": 2,
   "id": "a67f916e",
   "metadata": {},
   "outputs": [
    {
     "name": "stdout",
     "output_type": "stream",
     "text": [
      "📖 Loading census tract geometries...\n",
      "✅ Loaded 310 census tracts\n",
      "   📊 Columns: ['GEOID', 'CTLabel', 'NTAName', 'NTA2020', 'CDTA2020', 'CDTANAME', 'BoroName', 'CT2020', 'BoroCT2020', 'geometry']\n",
      "   🗺️  Original CRS: EPSG:4326\n",
      "✅ GEOID column found\n",
      "   📝 Sample GEOIDs: [36061000100, 36061001401, 36061001402]\n"
     ]
    }
   ],
   "source": [
    "# Path to your GeoJSON file\n",
    "geojson_path = \"../census tract geofiles/manhattan_census_tracts.geojson\"\n",
    "\n",
    "# Load the GeoJSON file\n",
    "print(\"📖 Loading census tract geometries...\")\n",
    "\n",
    "gdf = gpd.read_file(geojson_path)\n",
    "\n",
    "print(f\"✅ Loaded {len(gdf)} census tracts\")\n",
    "print(f\"   📊 Columns: {list(gdf.columns)}\")\n",
    "print(f\"   🗺️  Original CRS: {gdf.crs}\")\n",
    "\n",
    "# Check for GEOID column\n",
    "if 'GEOID' in gdf.columns:\n",
    "    print(f\"✅ GEOID column found\")\n",
    "    print(f\"   📝 Sample GEOIDs: {gdf['GEOID'].head(3).tolist()}\")\n",
    "else:\n",
    "    print(f\"❌ GEOID column not found! Available: {list(gdf.columns)}\")"
   ]
  },
  {
   "cell_type": "markdown",
   "id": "8617b95a",
   "metadata": {},
   "source": [
    "## Convert to WGS84 and Compute Centroids"
   ]
  },
  {
   "cell_type": "code",
   "execution_count": 3,
   "id": "7de439ac",
   "metadata": {},
   "outputs": [
    {
     "name": "stdout",
     "output_type": "stream",
     "text": [
      "✅ Already in WGS84 coordinate system\n",
      "🎯 Computing tract centroids...\n",
      "✅ Computed 310 centroids\n",
      "   📍 Lat range: 40.688954 to 40.875966\n",
      "   📍 Lng range: -74.042340 to -73.910374\n"
     ]
    }
   ],
   "source": [
    "# Convert to WGS84 (EPSG:4326) for Google Maps compatibility\n",
    "if gdf.crs != \"EPSG:4326\":\n",
    "    print(f\"🔄 Converting from {gdf.crs} to EPSG:4326 (WGS84)\")\n",
    "    gdf = gdf.to_crs(epsg=4326)\n",
    "else:\n",
    "    print(f\"✅ Already in WGS84 coordinate system\")\n",
    "\n",
    "# Compute centroids\n",
    "print(\"🎯 Computing tract centroids...\")\n",
    "\n",
    "centroids = gdf.geometry.centroid\n",
    "latitudes = centroids.y.round(6)  # 6 decimal places = ~11cm precision\n",
    "longitudes = centroids.x.round(6)\n",
    "\n",
    "# Create centroids DataFrame\n",
    "centroids_df = pd.DataFrame({\n",
    "    'GEOID': gdf['GEOID'].astype(str),\n",
    "    'latitude': latitudes,\n",
    "    'longitude': longitudes\n",
    "})\n",
    "\n",
    "print(f\"✅ Computed {len(centroids_df)} centroids\")\n",
    "print(f\"   📍 Lat range: {latitudes.min():.6f} to {latitudes.max():.6f}\")\n",
    "print(f\"   📍 Lng range: {longitudes.min():.6f} to {longitudes.max():.6f}\")"
   ]
  },
  {
   "cell_type": "markdown",
   "id": "482fb067",
   "metadata": {},
   "source": [
    "## Validate Coordinates"
   ]
  },
  {
   "cell_type": "code",
   "execution_count": 4,
   "id": "8055a522",
   "metadata": {},
   "outputs": [
    {
     "name": "stdout",
     "output_type": "stream",
     "text": [
      "🔍 Validating coordinates...\n",
      "✅ Valid coordinates: 310 / 310\n",
      "🎉 All coordinates within expected NYC bounds!\n",
      "\n",
      "📋 Sample Data:\n",
      "         GEOID   latitude  longitude\n",
      "0  36061000100  40.695673 -74.042340\n",
      "1  36061001401  40.715160 -73.987332\n",
      "2  36061001402  40.717513 -73.985882\n",
      "3  36061001800  40.719046 -73.990842\n",
      "4  36061002201  40.719116 -73.981844\n"
     ]
    }
   ],
   "source": [
    "# Validate coordinates are within NYC bounds\n",
    "print(\"🔍 Validating coordinates...\")\n",
    "\n",
    "nyc_bounds = {\n",
    "    'lat_min': 40.4, 'lat_max': 40.9,\n",
    "    'lng_min': -74.3, 'lng_max': -73.7\n",
    "}\n",
    "\n",
    "valid_coords = (\n",
    "    (centroids_df['latitude'] >= nyc_bounds['lat_min']) &\n",
    "    (centroids_df['latitude'] <= nyc_bounds['lat_max']) &\n",
    "    (centroids_df['longitude'] >= nyc_bounds['lng_min']) &\n",
    "    (centroids_df['longitude'] <= nyc_bounds['lng_max'])\n",
    ")\n",
    "\n",
    "valid_count = valid_coords.sum()\n",
    "invalid_count = (~valid_coords).sum()\n",
    "\n",
    "print(f\"✅ Valid coordinates: {valid_count} / {len(centroids_df)}\")\n",
    "if invalid_count > 0:\n",
    "    print(f\"⚠️  Invalid coordinates: {invalid_count}\")\n",
    "else:\n",
    "    print(f\"🎉 All coordinates within expected NYC bounds!\")\n",
    "\n",
    "# Display sample data\n",
    "print(f\"\\n📋 Sample Data:\")\n",
    "print(centroids_df.head())"
   ]
  },
  {
   "cell_type": "markdown",
   "id": "aa54bac6",
   "metadata": {},
   "source": [
    "## Export as JSON"
   ]
  },
  {
   "cell_type": "code",
   "execution_count": 5,
   "id": "b7d46ad1",
   "metadata": {},
   "outputs": [
    {
     "name": "stdout",
     "output_type": "stream",
     "text": [
      "📤 Creating JSON export...\n",
      "✅ Created JSON structure with 310 tracts\n",
      "\n",
      "✅ JSON exported successfully!\n",
      "   📁 File: tract_centroids.json\n",
      "   📏 Size: 22,262 bytes\n",
      "   📊 Contains: 310 tract centroids\n"
     ]
    }
   ],
   "source": [
    "# Create JSON structure for Next.js TypeScript\n",
    "print(\"📤 Creating JSON export...\")\n",
    "\n",
    "tract_centroids = {}\n",
    "\n",
    "for _, row in centroids_df.iterrows():\n",
    "    tract_centroids[row['GEOID']] = {\n",
    "        'lat': float(row['latitude']),\n",
    "        'lng': float(row['longitude'])\n",
    "    }\n",
    "\n",
    "print(f\"✅ Created JSON structure with {len(tract_centroids)} tracts\")\n",
    "\n",
    "# Export to JSON file\n",
    "output_path = \"tract_centroids.json\"\n",
    "\n",
    "with open(output_path, 'w', encoding='utf-8') as f:\n",
    "    json.dump(tract_centroids, f, indent=2, ensure_ascii=False)\n",
    "\n",
    "file_size = Path(output_path).stat().st_size\n",
    "print(f\"\\n✅ JSON exported successfully!\")\n",
    "print(f\"   📁 File: {output_path}\")\n",
    "print(f\"   📏 Size: {file_size:,} bytes\")\n",
    "print(f\"   📊 Contains: {len(tract_centroids)} tract centroids\")"
   ]
  },
  {
   "cell_type": "markdown",
   "id": "7d28fb8f",
   "metadata": {},
   "source": [
    "## Test and Usage Examples"
   ]
  },
  {
   "cell_type": "code",
   "execution_count": 6,
   "id": "34b6724b",
   "metadata": {},
   "outputs": [
    {
     "name": "stdout",
     "output_type": "stream",
     "text": [
      "🔍 JSON loads correctly: 310 entries\n",
      "\n",
      "📝 Sample entries:\n",
      "   36061000100: lat=40.695673, lng=-74.042340\n",
      "   36061001401: lat=40.715160, lng=-73.987332\n",
      "   36061001402: lat=40.717513, lng=-73.985882\n",
      "\n",
      "🚀 Next.js TypeScript Usage:\n",
      "```typescript\n",
      "import tractCentroids from './tract_centroids.json';\n",
      "\n",
      "// Get coordinates\n",
      "const coords = tractCentroids['36061000100'];\n",
      "\n",
      "// Google Maps Static API URL\n",
      "const mapUrl = `https://maps.googleapis.com/maps/api/staticmap?\n",
      "center=${coords.lat},${coords.lng}&zoom=16&size=400x400&\n",
      "markers=color:red|${coords.lat},${coords.lng}&\n",
      "key=${process.env.NEXT_PUBLIC_GOOGLE_MAPS_API_KEY}`;\n",
      "```\n",
      "\n",
      "🎯 Ready for integration with your Brickwyze frontend!\n"
     ]
    }
   ],
   "source": [
    "# Test the exported JSON\n",
    "with open(\"tract_centroids.json\", 'r') as f:\n",
    "    loaded_data = json.load(f)\n",
    "\n",
    "print(f\"🔍 JSON loads correctly: {len(loaded_data)} entries\")\n",
    "\n",
    "# Show sample entries\n",
    "sample_geoids = list(loaded_data.keys())[:3]\n",
    "print(f\"\\n📝 Sample entries:\")\n",
    "for geoid in sample_geoids:\n",
    "    coords = loaded_data[geoid]\n",
    "    print(f\"   {geoid}: lat={coords['lat']:.6f}, lng={coords['lng']:.6f}\")\n",
    "\n",
    "print(f\"\\n🚀 Next.js TypeScript Usage:\")\n",
    "print(f\"```typescript\")\n",
    "print(f\"import tractCentroids from './tract_centroids.json';\")\n",
    "print(f\"\")\n",
    "print(f\"// Get coordinates\")\n",
    "print(f\"const coords = tractCentroids['{sample_geoids[0]}'];\")\n",
    "print(f\"\")\n",
    "print(f\"// Google Maps Static API URL\")\n",
    "print(f\"const mapUrl = `https://maps.googleapis.com/maps/api/staticmap?\")\n",
    "print(f\"center=${{coords.lat}},${{coords.lng}}&zoom=16&size=400x400&\")\n",
    "print(f\"markers=color:red|${{coords.lat}},${{coords.lng}}&\")\n",
    "print(f\"key=${{process.env.NEXT_PUBLIC_GOOGLE_MAPS_API_KEY}}`;\")\n",
    "print(f\"```\")\n",
    "\n",
    "print(f\"\\n🎯 Ready for integration with your Brickwyze frontend!\")"
   ]
  }
 ],
 "metadata": {
  "kernelspec": {
   "display_name": "comp47350py311",
   "language": "python",
   "name": "python3"
  },
  "language_info": {
   "codemirror_mode": {
    "name": "ipython",
    "version": 3
   },
   "file_extension": ".py",
   "mimetype": "text/x-python",
   "name": "python",
   "nbconvert_exporter": "python",
   "pygments_lexer": "ipython3",
   "version": "3.11.11"
  }
 },
 "nbformat": 4,
 "nbformat_minor": 5
}
