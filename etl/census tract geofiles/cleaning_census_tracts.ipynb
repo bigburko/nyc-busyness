{
 "cells": [
  {
   "cell_type": "markdown",
   "id": "2c0ccc20",
   "metadata": {},
   "source": [
    "1. Load & Filter to Manhattan Only"
   ]
  },
  {
   "cell_type": "code",
   "execution_count": null,
   "id": "b634ac3c",
   "metadata": {},
   "outputs": [],
   "source": [
    "import pandas as pd\n",
    "\n",
    "df = pd.read_csv(\"2020_Census_Tracts_20250605.csv\")\n",
    "df = df[df[\"BoroName\"] == \"Manhattan\"].copy()\n"
   ]
  }
 ],
 "metadata": {
  "language_info": {
   "name": "python"
  }
 },
 "nbformat": 4,
 "nbformat_minor": 5
}
