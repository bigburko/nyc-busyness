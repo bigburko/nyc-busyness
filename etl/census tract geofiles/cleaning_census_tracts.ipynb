{
 "cells": [
  {
   "cell_type": "markdown",
   "id": "2c0ccc20",
   "metadata": {},
   "source": [
    "1. Load & Filter to Manhattan Only"
   ]
  },
  {
   "cell_type": "code",
   "execution_count": 7,
   "id": "b634ac3c",
   "metadata": {},
   "outputs": [],
   "source": [
    "import pandas as pd\n",
    "import geopandas as gpd\n",
    "from shapely import wkt\n",
    "\n",
    "# Load the CSV and parse the geometry\n",
    "df = pd.read_csv(\"2020_Census_Tracts_20250605.csv\")\n",
    "df[\"geometry\"] = df[\"the_geom\"].apply(wkt.loads)\n",
    "\n",
    "# Convert to GeoDataFrame\n",
    "gdf = gpd.GeoDataFrame(df, geometry=\"geometry\", crs=\"EPSG:4326\")  # Assuming WGS84\n",
    "\n",
    "gdf_manhattan = gdf[gdf[\"BoroName\"] == \"Manhattan\"].copy()\n",
    "\n",
    "# Drop unnecessary columns if desired\n",
    "columns_to_keep = [\n",
    "    \"geometry\", \"GEOID\", \"CTLabel\", \"NTAName\", \"NTA2020\", \"CDTA2020\", \"CDTANAME\",\n",
    "    \"BoroName\", \"CT2020\", \"BoroCT2020\"\n",
    "]\n",
    "gdf_manhattan = gdf_manhattan[columns_to_keep]\n",
    "\n",
    "gdf_manhattan.to_file(\"manhattan_census_tracts.geojson\", driver=\"GeoJSON\")\n",
    "\n"
   ]
  }
 ],
 "metadata": {
  "kernelspec": {
   "display_name": "comp47350py311",
   "language": "python",
   "name": "python3"
  },
  "language_info": {
   "codemirror_mode": {
    "name": "ipython",
    "version": 3
   },
   "file_extension": ".py",
   "mimetype": "text/x-python",
   "name": "python",
   "nbconvert_exporter": "python",
   "pygments_lexer": "ipython3",
   "version": "3.11.11"
  }
 },
 "nbformat": 4,
 "nbformat_minor": 5
}
