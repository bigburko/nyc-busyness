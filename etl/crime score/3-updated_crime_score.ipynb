{
 "cells": [
  {
   "cell_type": "code",
   "execution_count": 2,
   "id": "776bd10a",
   "metadata": {},
   "outputs": [
    {
     "name": "stdout",
     "output_type": "stream",
     "text": [
      "✅ Saved: crime_scores_by_tract.csv with shape: (310, 2)\n"
     ]
    }
   ],
   "source": [
    "# Import required packages\n",
    "import pandas as pd\n",
    "import geopandas as gpd\n",
    "from shapely.geometry import Point\n",
    "from sklearn.preprocessing import MinMaxScaler\n",
    "\n",
    "# Load cleaned NYPD complaints data\n",
    "complaints = pd.read_csv(\"nypd_complaints_cleaned.csv\")\n",
    "\n",
    "# Filter relevant columns and drop missing coordinates\n",
    "manhattan_complaints = complaints[[\"Date\", \"Crime_Type\", \"Severity\", \"Latitude\", \"Longitude\", \"severity_weight\"]]\n",
    "manhattan_complaints = manhattan_complaints.dropna(subset=[\"Latitude\", \"Longitude\"])\n",
    "\n",
    "# Convert to GeoDataFrame\n",
    "gdf = gpd.GeoDataFrame(\n",
    "    manhattan_complaints,\n",
    "    geometry=gpd.points_from_xy(manhattan_complaints[\"Longitude\"], manhattan_complaints[\"Latitude\"]),\n",
    "    crs=\"EPSG:4326\"\n",
    ")\n",
    "\n",
    "# Load full census tract geometries (must include all GEOIDs)\n",
    "tracts = gpd.read_file(\"../census tract geofiles/manhattan_census_tracts.geojson\").to_crs(epsg=4326)\n",
    "\n",
    "# Spatial join: match each crime point to the tract it falls within\n",
    "joined = gpd.sjoin(gdf, tracts[[\"GEOID\", \"geometry\"]], how=\"inner\", predicate=\"within\")\n",
    "\n",
    "# Group by GEOID and sum severity weights\n",
    "crime_by_tract = joined.groupby(\"GEOID\")[\"severity_weight\"].sum().reset_index(name=\"weighted_crime\")\n",
    "\n",
    "# Normalize weighted crimes to 1–10 scale (10 = safest)\n",
    "scaler = MinMaxScaler(feature_range=(1, 10))\n",
    "crime_by_tract[\"crime_score\"] = (11 - scaler.fit_transform(crime_by_tract[[\"weighted_crime\"]])).round(1)\n",
    "\n",
    "# Merge with full list of tracts to ensure all are present\n",
    "all_tracts = tracts[[\"GEOID\"]].drop_duplicates()\n",
    "final_scores = all_tracts.merge(crime_by_tract[[\"GEOID\", \"crime_score\"]], on=\"GEOID\", how=\"left\")\n",
    "\n",
    "# Fill missing scores with 10 (safest)\n",
    "final_scores[\"crime_score\"] = final_scores[\"crime_score\"].fillna(10)\n",
    "\n",
    "# Export to CSV\n",
    "final_scores.to_csv(\"crime_scores_by_tract.csv\", index=False)\n",
    "print(\"✅ Saved: crime_scores_by_tract.csv with shape:\", final_scores.shape)\n"
   ]
  }
 ],
 "metadata": {
  "kernelspec": {
   "display_name": "comp47350py311",
   "language": "python",
   "name": "python3"
  },
  "language_info": {
   "codemirror_mode": {
    "name": "ipython",
    "version": 3
   },
   "file_extension": ".py",
   "mimetype": "text/x-python",
   "name": "python",
   "nbconvert_exporter": "python",
   "pygments_lexer": "ipython3",
   "version": "3.11.11"
  }
 },
 "nbformat": 4,
 "nbformat_minor": 5
}
