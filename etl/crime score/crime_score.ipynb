{
 "cells": [
  {
   "cell_type": "code",
   "execution_count": 1,
   "id": "4d7ae2f9",
   "metadata": {},
   "outputs": [],
   "source": [
    "# Import required packages\n",
    "import pandas as pd\n",
    "import geopandas as gpd\n",
    "from shapely.geometry import Point\n",
    "from sklearn.preprocessing import MinMaxScaler"
   ]
  },
  {
   "cell_type": "code",
   "execution_count": 4,
   "id": "fcfd9206",
   "metadata": {},
   "outputs": [],
   "source": [
    "# Load the cleaned NYPD data\n",
    "complaints = pd.read_csv(\"nypd_complaints_cleaned.csv\")"
   ]
  },
  {
   "cell_type": "code",
   "execution_count": 5,
   "id": "0c6fe49f",
   "metadata": {},
   "outputs": [],
   "source": [
    "# Keep only relevant columns\n",
    "manhattan_complaints = complaints[[\"Date\", \"Crime_Type\", \"Severity\", \"Latitude\", \"Longitude\", \"severity_weight\"]]"
   ]
  },
  {
   "cell_type": "code",
   "execution_count": 6,
   "id": "8efd1a89",
   "metadata": {},
   "outputs": [],
   "source": [
    "# Remove null coordinates\n",
    "manhattan_complaints = manhattan_complaints.dropna(subset=[\"Latitude\", \"Longitude\"])"
   ]
  },
  {
   "cell_type": "code",
   "execution_count": 7,
   "id": "8313c160",
   "metadata": {},
   "outputs": [],
   "source": [
    "# Convert to GeoDataFrame\n",
    "gdf = gpd.GeoDataFrame(\n",
    "    manhattan_complaints,\n",
    "    geometry=gpd.points_from_xy(manhattan_complaints.Longitude, manhattan_complaints.Latitude),\n",
    "    crs=\"EPSG:4326\"\n",
    ")"
   ]
  },
  {
   "cell_type": "code",
   "execution_count": 8,
   "id": "8551d30e",
   "metadata": {},
   "outputs": [],
   "source": [
    "# Load target zones\n",
    "zones = gpd.read_file(\"manhattan_bids.geojson\")"
   ]
  },
  {
   "cell_type": "code",
   "execution_count": 18,
   "id": "596d5bf2",
   "metadata": {},
   "outputs": [],
   "source": [
    "# Check if BID IDs need fixing\n",
    "if zones['bid'].nunique() == 1 and zones['bid'].iloc[0] == 0:\n",
    "    # Create unique BID IDs\n",
    "    zones['bid'] = range(1, len(zones) + 1)\n",
    "    # Save corrected BID file\n",
    "    zones.to_file(\"manhattan_bids_fixed.geojson\", driver=\"GeoJSON\")"
   ]
  },
  {
   "cell_type": "code",
   "execution_count": 19,
   "id": "74e41d31",
   "metadata": {},
   "outputs": [
    {
     "name": "stderr",
     "output_type": "stream",
     "text": [
      "C:\\Users\\lukej\\AppData\\Local\\Temp\\ipykernel_25808\\3919246293.py:3: UserWarning: Geometry is in a geographic CRS. Results from 'buffer' are likely incorrect. Use 'GeoSeries.to_crs()' to re-project geometries to a projected CRS before this operation.\n",
      "\n",
      "  zones_buffered.geometry = zones_buffered.geometry.buffer(0.0005)  # ~50m buffer\n"
     ]
    }
   ],
   "source": [
    "# Create buffered zones for better spatial matching\n",
    "zones_buffered = zones.copy()\n",
    "zones_buffered.geometry = zones_buffered.geometry.buffer(0.0005)  # ~50m buffer"
   ]
  },
  {
   "cell_type": "code",
   "execution_count": 20,
   "id": "2926a4f6",
   "metadata": {},
   "outputs": [],
   "source": [
    "# Spatial join to count crimes per zone\n",
    "joined = gpd.sjoin(gdf, zones_buffered, how=\"inner\", predicate=\"within\")"
   ]
  },
  {
   "cell_type": "code",
   "execution_count": 21,
   "id": "5bcb2e14",
   "metadata": {},
   "outputs": [],
   "source": [
    "# Weight by severity and calculate scores\n",
    "weighted_counts = joined.groupby(\"bid\")[\"severity_weight\"].sum().reset_index(name=\"weighted_crime\")"
   ]
  },
  {
   "cell_type": "code",
   "execution_count": 23,
   "id": "1cb97af3",
   "metadata": {},
   "outputs": [],
   "source": [
    "# Normalise to 1-10 scale (10 = lowest crime)\n",
    "weighted_counts[\"crime_score\"] = (\n",
    "    11 - scaler.fit_transform(weighted_counts[[\"weighted_crime\"]])\n",
    ").round(1)"
   ]
  },
  {
   "cell_type": "code",
   "execution_count": 24,
   "id": "79b3ba40",
   "metadata": {},
   "outputs": [],
   "source": [
    "# Export results\n",
    "weighted_counts.to_csv(\"manhattan_crime_scores.csv\", index=False)"
   ]
  },
  {
   "cell_type": "code",
   "execution_count": 30,
   "id": "03a525cb",
   "metadata": {},
   "outputs": [
    {
     "name": "stdout",
     "output_type": "stream",
     "text": [
      " bid  crime_score\n",
      "   1          6.2\n",
      "   2          1.0\n",
      "   3          7.5\n",
      "   4          6.6\n",
      "   5          8.4\n",
      "   6          7.8\n",
      "   7          1.0\n",
      "   8          9.1\n",
      "   9          6.4\n",
      "  10          7.8\n",
      "  11          9.8\n",
      "  12         10.0\n",
      "  13          3.8\n",
      "  14          6.9\n",
      "  15          7.8\n",
      "  16          4.2\n",
      "  17          3.0\n",
      "  18          5.7\n",
      "  19          9.4\n",
      "  20          6.6\n",
      "  21          7.9\n",
      "  22          9.2\n",
      "  23          8.3\n",
      "  24          9.2\n",
      "  25          8.3\n",
      "  26          7.7\n"
     ]
    }
   ],
   "source": [
    "# Show every crime score for each bid\n",
    "print(pd.read_csv(\"manhattan_crime_scores.csv\")[['bid', 'crime_score']].to_string(index=False))"
   ]
  }
 ],
 "metadata": {
  "kernelspec": {
   "display_name": "base",
   "language": "python",
   "name": "python3"
  },
  "language_info": {
   "codemirror_mode": {
    "name": "ipython",
    "version": 3
   },
   "file_extension": ".py",
   "mimetype": "text/x-python",
   "name": "python",
   "nbconvert_exporter": "python",
   "pygments_lexer": "ipython3",
   "version": "3.12.4"
  }
 },
 "nbformat": 4,
 "nbformat_minor": 5
}
