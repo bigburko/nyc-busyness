{
 "cells": [
  {
   "cell_type": "code",
   "execution_count": null,
   "id": "1f56678e",
   "metadata": {},
   "outputs": [
    {
     "name": "stdout",
     "output_type": "stream",
     "text": [
      "Collecting geopandas\n",
      "  Using cached geopandas-1.0.1-py3-none-any.whl.metadata (2.2 kB)\n",
      "Requirement already satisfied: numpy>=1.22 in c:\\users\\lukej\\anaconda3\\lib\\site-packages (from geopandas) (1.26.4)\n",
      "Collecting pyogrio>=0.7.2 (from geopandas)\n",
      "  Using cached pyogrio-0.11.0-cp312-cp312-win_amd64.whl.metadata (5.4 kB)\n",
      "Requirement already satisfied: packaging in c:\\users\\lukej\\anaconda3\\lib\\site-packages (from geopandas) (24.2)\n",
      "Requirement already satisfied: pandas>=1.4.0 in c:\\users\\lukej\\anaconda3\\lib\\site-packages (from geopandas) (2.2.3)\n",
      "Collecting pyproj>=3.3.0 (from geopandas)\n",
      "  Using cached pyproj-3.7.1-cp312-cp312-win_amd64.whl.metadata (31 kB)\n",
      "Collecting shapely>=2.0.0 (from geopandas)\n",
      "  Using cached shapely-2.1.1-cp312-cp312-win_amd64.whl.metadata (7.0 kB)\n",
      "Requirement already satisfied: python-dateutil>=2.8.2 in c:\\users\\lukej\\anaconda3\\lib\\site-packages (from pandas>=1.4.0->geopandas) (2.9.0.post0)\n",
      "Requirement already satisfied: pytz>=2020.1 in c:\\users\\lukej\\anaconda3\\lib\\site-packages (from pandas>=1.4.0->geopandas) (2024.1)\n",
      "Requirement already satisfied: tzdata>=2022.7 in c:\\users\\lukej\\anaconda3\\lib\\site-packages (from pandas>=1.4.0->geopandas) (2023.3)\n",
      "Requirement already satisfied: certifi in c:\\users\\lukej\\anaconda3\\lib\\site-packages (from pyogrio>=0.7.2->geopandas) (2024.12.14)\n",
      "Requirement already satisfied: six>=1.5 in c:\\users\\lukej\\anaconda3\\lib\\site-packages (from python-dateutil>=2.8.2->pandas>=1.4.0->geopandas) (1.16.0)\n",
      "Using cached geopandas-1.0.1-py3-none-any.whl (323 kB)\n",
      "Using cached pyogrio-0.11.0-cp312-cp312-win_amd64.whl (19.2 MB)\n",
      "Using cached pyproj-3.7.1-cp312-cp312-win_amd64.whl (6.3 MB)\n",
      "Using cached shapely-2.1.1-cp312-cp312-win_amd64.whl (1.7 MB)\n",
      "Installing collected packages: shapely, pyproj, pyogrio, geopandas\n",
      "Successfully installed geopandas-1.0.1 pyogrio-0.11.0 pyproj-3.7.1 shapely-2.1.1\n"
     ]
    }
   ],
   "source": [
    "# Install geopandas package in the notebook\n",
    "!pip install geopandas"
   ]
  },
  {
   "cell_type": "code",
   "execution_count": 18,
   "id": "3d613c91",
   "metadata": {},
   "outputs": [],
   "source": [
    "# Import the required packages\n",
    "import pandas as pd\n",
    "import geopandas as gpd\n",
    "from shapely import wkt\n",
    "import json\n"
   ]
  },
  {
   "cell_type": "code",
   "execution_count": 19,
   "id": "bd4e54d1",
   "metadata": {},
   "outputs": [],
   "source": [
    "# Read the csv\n",
    "df = pd.read_csv('NYC_BIDS.csv', keep_default_na=True, delimiter=',', skipinitialspace=True)"
   ]
  },
  {
   "cell_type": "code",
   "execution_count": 21,
   "id": "2bca2e05",
   "metadata": {},
   "outputs": [
    {
     "name": "stdout",
     "output_type": "stream",
     "text": [
      "Available boroughs: ['Queens' 'Brooklyn' 'Manhattan' 'Bronx' 'Staten Island']\n",
      "Manhattan BIDs found: 26\n"
     ]
    }
   ],
   "source": [
    "# Filter by Manhattan\n",
    "print(\"Available boroughs:\", df['F_ALL_BI_1'].unique())\n",
    "manhattan_bids = df[df['F_ALL_BI_1'].str.upper() == 'MANHATTAN'].copy()\n",
    "print(f\"Manhattan BIDs found: {len(manhattan_bids)}\")"
   ]
  },
  {
   "cell_type": "code",
   "execution_count": 25,
   "id": "f2a8bdc9",
   "metadata": {},
   "outputs": [
    {
     "name": "stdout",
     "output_type": "stream",
     "text": [
      "Essential columns defined: {'the_geom': 'geometry', 'Id': 'bid', 'F_ALL_BI_2': 'name', 'F_ALL_BI_1': 'boro_name'}\n"
     ]
    }
   ],
   "source": [
    "# Trim  columns\n",
    "essential_columns = {\n",
    "    'the_geom': 'geometry',     # For spatial join with crime points\n",
    "    'Id': 'bid',               # For joining final crime scores  \n",
    "    'F_ALL_BI_2': 'name',      # BID names for display\n",
    "    'F_ALL_BI_1': 'boro_name'  # Verification column\n",
    "}\n",
    "\n",
    "print(\"Essential columns defined:\", essential_columns)"
   ]
  },
  {
   "cell_type": "code",
   "execution_count": 29,
   "id": "41376caa",
   "metadata": {},
   "outputs": [
    {
     "name": "stdout",
     "output_type": "stream",
     "text": [
      "Available columns to keep: ['the_geom', 'Id', 'F_ALL_BI_2', 'F_ALL_BI_1']\n",
      "Final columns after renaming: ['geometry', 'bid', 'name', 'boro_name']\n",
      "Dataset shape: (26, 4)\n"
     ]
    }
   ],
   "source": [
    "# Keep only available essential columns\n",
    "available_columns = {old: new for old, new in essential_columns.items() if old in manhattan_bids.columns}\n",
    "print(f\"Available columns to keep: {list(available_columns.keys())}\")\n",
    "\n",
    "# Select only the columns that exist in the data\n",
    "manhattan_bids_trimmed = manhattan_bids[list(available_columns.keys())].copy()\n",
    "\n",
    "# Rename columns to cleaner names  \n",
    "manhattan_bids_trimmed = manhattan_bids_trimmed.rename(columns=available_columns)\n",
    "print(f\"Final columns after renaming: {list(manhattan_bids_trimmed.columns)}\")\n",
    "print(f\"Dataset shape: {manhattan_bids_trimmed.shape}\")"
   ]
  },
  {
   "cell_type": "code",
   "execution_count": null,
   "id": "a4c69c20",
   "metadata": {},
   "outputs": [
    {
     "name": "stdout",
     "output_type": "stream",
     "text": [
      "Step 5: Converting to GeoDataFrame and saving...\n",
      "Saved: manhattan_bids.geojson\n",
      "Ready for crime analysis with 26 Manhattan BIDs\n"
     ]
    }
   ],
   "source": [
    "# Parse WKT geometry \n",
    "manhattan_bids_trimmed['geometry_parsed'] = manhattan_bids_trimmed['geometry'].apply(wkt.loads)\n",
    "\n",
    "# Create GeoDataFrame\n",
    "gdf = gpd.GeoDataFrame(\n",
    "    manhattan_bids_trimmed.drop('geometry', axis=1), \n",
    "    geometry='geometry_parsed',\n",
    "    crs='EPSG:4326'\n",
    ")\n",
    "\n",
    "# Save as GeoJSON\n",
    "gdf.to_file(\"manhattan_bids.geojson\", driver=\"GeoJSON\")"
   ]
  }
 ],
 "metadata": {
  "kernelspec": {
   "display_name": "base",
   "language": "python",
   "name": "python3"
  },
  "language_info": {
   "codemirror_mode": {
    "name": "ipython",
    "version": 3
   },
   "file_extension": ".py",
   "mimetype": "text/x-python",
   "name": "python",
   "nbconvert_exporter": "python",
   "pygments_lexer": "ipython3",
   "version": "3.12.4"
  }
 },
 "nbformat": 4,
 "nbformat_minor": 5
}
