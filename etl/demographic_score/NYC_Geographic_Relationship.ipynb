{
 "cells": [
  {
   "cell_type": "code",
   "execution_count": 2,
   "metadata": {},
   "outputs": [],
   "source": [
    "import pandas as pd\n",
    "crosswalk = pd.read_excel(\"/Users/jennifercasavantes/Downloads/nyc_2020_census_block_ct_nta_cdta_relationships.xlsx\")\n"
   ]
  },
  {
   "cell_type": "code",
   "execution_count": 4,
   "metadata": {},
   "outputs": [],
   "source": [
    "manhattan_crosswalk = crosswalk[crosswalk[\"BoroName\"] == \"Manhattan\"]"
   ]
  },
  {
   "cell_type": "code",
   "execution_count": 6,
   "metadata": {},
   "outputs": [],
   "source": [
    "manhattan_crosswalk = manhattan_crosswalk[[\"BoroCT2020\", \"CT2020\", \"NTACode\", \"CDTACode\"]]"
   ]
  },
  {
   "cell_type": "code",
   "execution_count": 7,
   "metadata": {},
   "outputs": [],
   "source": [
    "manhattan_crosswalk = manhattan_crosswalk.drop_duplicates()\n",
    "manhattan_crosswalk.to_csv(\"manhattan_geo_crosswalk.csv\", index=False)"
   ]
  }
 ],
 "metadata": {
  "kernelspec": {
   "display_name": "comp47350py311",
   "language": "python",
   "name": "python3"
  },
  "language_info": {
   "codemirror_mode": {
    "name": "ipython",
    "version": 3
   },
   "file_extension": ".py",
   "mimetype": "text/x-python",
   "name": "python",
   "nbconvert_exporter": "python",
   "pygments_lexer": "ipython3",
   "version": "3.11.11"
  }
 },
 "nbformat": 4,
 "nbformat_minor": 2
}
