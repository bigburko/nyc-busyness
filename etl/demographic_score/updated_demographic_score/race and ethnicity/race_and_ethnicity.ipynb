{
 "cells": [
  {
   "cell_type": "code",
   "execution_count": 6,
   "id": "010093a2",
   "metadata": {},
   "outputs": [],
   "source": [
    "# Import pandas\n",
    "import pandas as pd"
   ]
  },
  {
   "cell_type": "code",
   "execution_count": 7,
   "id": "a3b7804c",
   "metadata": {},
   "outputs": [
    {
     "name": "stdout",
     "output_type": "stream",
     "text": [
      "Data loaded: (2717, 370)\n"
     ]
    }
   ],
   "source": [
    "# Load dataframe and get the shape of the data\n",
    "df = pd.read_csv('nyc_detailed-race-and-ethnicity-data_2020_core-geographies.csv', \n",
    "                 header=3, low_memory=False)\n",
    "\n",
    "print(f\"Data loaded: {df.shape}\")"
   ]
  },
  {
   "cell_type": "code",
   "execution_count": 8,
   "id": "3822afff",
   "metadata": {},
   "outputs": [
    {
     "name": "stdout",
     "output_type": "stream",
     "text": [
      "Manhattan census tracts found: 310\n"
     ]
    }
   ],
   "source": [
    "# Filter to Manhattan Census tracts\n",
    "manhattan_tracts = df[\n",
    "    (df['GeoType'] == 'CT2020') &\n",
    "    (df['GeoID'].astype(str).str.startswith('36061'))\n",
    "]\n",
    "\n",
    "print(f\"Manhattan census tracts found: {len(manhattan_tracts)}\")"
   ]
  },
  {
   "cell_type": "code",
   "execution_count": 9,
   "id": "1464f2a0",
   "metadata": {},
   "outputs": [],
   "source": [
    "# Define demographic columns\n",
    "demographic_columns = {\n",
    "    # Key information\n",
    "    'GeoID': 'geo_id',\n",
    "    'GeoName': 'geo_name',\n",
    "    'Pop': 'total_population',\n",
    "    \n",
    "    # Hispanic/Latino groups\n",
    "    'HMex': 'mexican_count',\n",
    "    'HCA': 'central_american_total',\n",
    "    'HCACstRcn': 'costa_rican_count',\n",
    "    'HCAGutmln': 'guatemalan_count',\n",
    "    'HCAHndrn': 'honduran_count',\n",
    "    'HCANcrgn': 'nicaraguan_count',\n",
    "    'HCAPnmn': 'panamanian_count',\n",
    "    'HCASlvdrn': 'salvadoran_count',\n",
    "    'HSA': 'south_american_total',\n",
    "    'HSAArgntn': 'argentinean_count',\n",
    "    'HSABlvn': 'bolivian_count',\n",
    "    'HSAChln': 'chilean_count',\n",
    "    'HSAClmbn': 'colombian_count',\n",
    "    'HSAEcudrn': 'ecuadorian_count',\n",
    "    'HSAPrguyn': 'paraguayan_count',\n",
    "    'HSAPrvn': 'peruvian_count',\n",
    "    'HSAUrgyn': 'uruguayan_count',\n",
    "    'HSAVnzuln': 'venezuelan_count',\n",
    "    'HCH': 'caribbean_hispanic_total',\n",
    "    'HCHCuban': 'cuban_count',\n",
    "    'HCHDmncn': 'dominican_count',\n",
    "    'HCHPrtRcn': 'puerto_rican_count',\n",
    "    \n",
    "    # European groups\n",
    "    'WEur': 'white_european_total',\n",
    "    'WEurIrsh': 'irish_count',\n",
    "    'WEurItln': 'italian_count',\n",
    "    'WEurGrmn': 'german_count',\n",
    "    'WEurPolish': 'polish_count',\n",
    "    'WEurRsn': 'russian_count',\n",
    "    'WEurEnglsh': 'english_count',\n",
    "    'WEurFrnch': 'french_count',\n",
    "    \n",
    "    # Asian groups  \n",
    "    'AEA': 'east_asian_total',\n",
    "    'AEAChnsNoT': 'chinese_count',\n",
    "    'AEAJpns': 'japanese_count',\n",
    "    'AEAKrn': 'korean_count',\n",
    "    'AEATwns': 'taiwanese_count',\n",
    "    'ASA': 'south_asian_total',\n",
    "    'ASAAsnInd': 'asian_indian_count',\n",
    "    'ASABngldsh': 'bangladeshi_count',\n",
    "    'ASANpls': 'nepalese_count',\n",
    "    'ASAPkstn': 'pakistani_count',\n",
    "    'ASASrLnkn': 'sri_lankan_count',\n",
    "    'ASEA': 'southeast_asian_total',\n",
    "    'ASEAFlpn': 'filipino_count',\n",
    "    'ASEAVtnms': 'vietnamese_count',\n",
    "    'ASEAThai': 'thai_count',\n",
    "    'ASEACmbdn': 'cambodian_count',\n",
    "    \n",
    "    # Black/African groups\n",
    "    'BAfrAm': 'black_african_american_total',\n",
    "    'BSSAf': 'sub_saharan_african_total',\n",
    "    'BSSAfNgrn': 'nigerian_count',\n",
    "    'BSSAfGhn': 'ghanaian_count',\n",
    "    'BSSAfEthpn': 'ethiopian_count',\n",
    "    'BSSAfKnyn': 'kenyan_count',\n",
    "    'BCrb': 'black_caribbean_total',\n",
    "    'BCrbJmcn': 'jamaican_count',\n",
    "    'BCrbHtn': 'haitian_count',\n",
    "    'BCrbBrbdn': 'barbadian_count',\n",
    "    'BCrbTrTob': 'trinidadian_tobagonian_count',\n",
    "    \n",
    "    # Middle Eastern/North African\n",
    "    'WMENA': 'middle_eastern_north_african_total',\n",
    "    'WMENAArab': 'arab_count',\n",
    "    'WMENAEgptn': 'egyptian_count',\n",
    "    'WMENAIrn': 'iranian_count',\n",
    "    'WMENALbns': 'lebanese_count',\n",
    "    \n",
    "    # American Indian/Alaska Native\n",
    "    'AIANAlkNtv': 'alaska_native_count',\n",
    "    'AIANAIn': 'american_indian_total',\n",
    "    \n",
    "    # Pacific Islander\n",
    "    'NHPIPly': 'pacific_islander_total'\n",
    "}"
   ]
  },
  {
   "cell_type": "code",
   "execution_count": 10,
   "id": "5969d64d",
   "metadata": {},
   "outputs": [
    {
     "name": "stdout",
     "output_type": "stream",
     "text": [
      "Demographic columns available: 67\n"
     ]
    }
   ],
   "source": [
    "# Filter available columns\n",
    "columns = [col for col in demographic_columns.keys() if col in manhattan_tracts.columns]\n",
    "print(f\"Demographic columns available: {len(columns)}\")"
   ]
  },
  {
   "cell_type": "code",
   "execution_count": null,
   "id": "26de46f6",
   "metadata": {},
   "outputs": [
    {
     "name": "stdout",
     "output_type": "stream",
     "text": [
      "Data selected: (310, 67)\n"
     ]
    }
   ],
   "source": [
    "# Select data columns and display the shape\n",
    "data = manhattan_tracts[columns].copy()\n",
    "print(f\"Data selected: {data.shape}\")"
   ]
  },
  {
   "cell_type": "code",
   "execution_count": 12,
   "id": "d5580a76",
   "metadata": {},
   "outputs": [],
   "source": [
    "# Create a renaming dictionary to create human readable names\n",
    "data = data.rename(columns={k: demographic_columns[k] for k in columns})"
   ]
  },
  {
   "cell_type": "code",
   "execution_count": 13,
   "id": "cd40c3e9",
   "metadata": {},
   "outputs": [],
   "source": [
    "# Identify Numeric columns\n",
    "numeric_columns = [col for col in data.columns if col not in ['geo_id', 'geo_name']]"
   ]
  },
  {
   "cell_type": "code",
   "execution_count": 14,
   "id": "3cc2aa16",
   "metadata": {},
   "outputs": [],
   "source": [
    "# Remove commas and convert to numeric\n",
    "for col in numeric_columns:\n",
    "    data[col] = data[col].astype(str).str.replace(',', '').str.replace(' ', '')\n",
    "    data[col] = pd.to_numeric(data[col], errors='coerce')"
   ]
  },
  {
   "cell_type": "code",
   "execution_count": 15,
   "id": "a723bc97",
   "metadata": {},
   "outputs": [],
   "source": [
    "# Identify demographic columns for NaN filling\n",
    "demographic_columns_final = [col for col in data.columns if col not in ['geo_id', 'geo_name']]"
   ]
  },
  {
   "cell_type": "code",
   "execution_count": 17,
   "id": "651d9f2b",
   "metadata": {},
   "outputs": [],
   "source": [
    "# Fill NaN values with zero\n",
    "for col in demographic_columns_final:\n",
    "    data[col] = data[col].fillna(0)\n",
    "    "
   ]
  },
  {
   "cell_type": "code",
   "execution_count": 18,
   "id": "7b513388",
   "metadata": {},
   "outputs": [
    {
     "name": "stdout",
     "output_type": "stream",
     "text": [
      "Final dataset: (310, 67)\n",
      "Total columns: 67\n"
     ]
    }
   ],
   "source": [
    "# Clean final data\n",
    "data = data.dropna(subset=['geo_id'])\n",
    "print(f\"Final dataset: {data.shape}\")\n",
    "print(f\"Total columns: {len(data.columns)}\")"
   ]
  },
  {
   "cell_type": "code",
   "execution_count": 19,
   "id": "37da885b",
   "metadata": {},
   "outputs": [],
   "source": [
    "# Save data to csv\n",
    "data.to_csv('manhattan_race_ethnicity.csv', index=False)"
   ]
  },
  {
   "cell_type": "code",
   "execution_count": null,
   "id": "fc643e94",
   "metadata": {},
   "outputs": [
    {
     "name": "stdout",
     "output_type": "stream",
     "text": [
      "Manhattan census tracts: 310\n",
      "Total Manhattan population: 1,694,251\n"
     ]
    }
   ],
   "source": [
    "# Display census tracts and manhattan population\n",
    "print(f\"Manhattan census tracts: {len(data)}\")\n",
    "print(f\"Total Manhattan population: {data['total_population'].sum():,}\")"
   ]
  },
  {
   "cell_type": "code",
   "execution_count": null,
   "id": "ef323a09",
   "metadata": {},
   "outputs": [
    {
     "name": "stdout",
     "output_type": "stream",
     "text": [
      "All demographic groups (64 total):\n"
     ]
    }
   ],
   "source": [
    "# Prepare demographics summary\n",
    "demographics = [col for col in data.columns if col not in ['geo_id', 'geo_name', 'total_population']]\n",
    "print(f\"All demographic groups ({len(demographics)} total):\")"
   ]
  },
  {
   "cell_type": "code",
   "execution_count": 23,
   "id": "dac22ada",
   "metadata": {},
   "outputs": [
    {
     "name": "stdout",
     "output_type": "stream",
     "text": [
      "  mexican_count: 41,471.0 people across 273 tracts\n",
      "  central_american_total: 7,613.0 people across 53 tracts\n",
      "  costa_rican_count: 70.0 people across 3 tracts\n",
      "  guatemalan_count: 855.0 people across 25 tracts\n",
      "  honduran_count: 2,692.0 people across 69 tracts\n",
      "  nicaraguan_count: 425.0 people across 14 tracts\n",
      "  panamanian_count: 470.0 people across 17 tracts\n",
      "  salvadoran_count: 2,296.0 people across 57 tracts\n",
      "  south_american_total: 37,373.0 people across 184 tracts\n",
      "  argentinean_count: 3,253.0 people across 94 tracts\n",
      "  bolivian_count: 0.0 people across 0 tracts\n",
      "  chilean_count: 463.0 people across 16 tracts\n",
      "  colombian_count: 9,763.0 people across 209 tracts\n",
      "  ecuadorian_count: 12,793.0 people across 150 tracts\n",
      "  paraguayan_count: 0.0 people across 0 tracts\n",
      "  peruvian_count: 2,878.0 people across 90 tracts\n",
      "  uruguayan_count: 0.0 people across 0 tracts\n",
      "  venezuelan_count: 2,124.0 people across 67 tracts\n",
      "  caribbean_hispanic_total: 252,999.0 people across 249 tracts\n",
      "  cuban_count: 10,433.0 people across 210 tracts\n",
      "  dominican_count: 151,619.0 people across 245 tracts\n",
      "  puerto_rican_count: 91,361.0 people across 283 tracts\n",
      "  white_european_total: 554,719.0 people across 299 tracts\n",
      "  irish_count: 143,989.0 people across 295 tracts\n",
      "  italian_count: 108,143.0 people across 296 tracts\n",
      "  german_count: 124,077.0 people across 294 tracts\n",
      "  russian_count: 51,606.0 people across 271 tracts\n",
      "  english_count: 117,045.0 people across 297 tracts\n",
      "  french_count: 41,869.0 people across 278 tracts\n",
      "  east_asian_total: 163,067.0 people across 265 tracts\n",
      "  chinese_count: 119,266.0 people across 295 tracts\n",
      "  japanese_count: 17,733.0 people across 238 tracts\n",
      "  korean_count: 23,881.0 people across 241 tracts\n",
      "  taiwanese_count: 4,041.0 people across 106 tracts\n",
      "  south_asian_total: 45,966.0 people across 189 tracts\n",
      "  asian_indian_count: 42,895.0 people across 287 tracts\n",
      "  bangladeshi_count: 1,534.0 people across 38 tracts\n",
      "  nepalese_count: 0.0 people across 0 tracts\n",
      "  pakistani_count: 2,665.0 people across 76 tracts\n",
      "  sri_lankan_count: 53.0 people across 2 tracts\n",
      "  southeast_asian_total: 19,566.0 people across 120 tracts\n",
      "  filipino_count: 16,411.0 people across 243 tracts\n",
      "  vietnamese_count: 2,984.0 people across 85 tracts\n",
      "  thai_count: 788.0 people across 24 tracts\n",
      "  cambodian_count: 24.0 people across 1 tracts\n",
      "  black_african_american_total: 126,424.0 people across 286 tracts\n",
      "  sub_saharan_african_total: 17,077.0 people across 82 tracts\n",
      "  nigerian_count: 1,603.0 people across 48 tracts\n",
      "  ghanaian_count: 367.0 people across 14 tracts\n",
      "  ethiopian_count: 506.0 people across 17 tracts\n",
      "  kenyan_count: 0.0 people across 0 tracts\n",
      "  black_caribbean_total: 17,549.0 people across 96 tracts\n",
      "  jamaican_count: 7,611.0 people across 135 tracts\n",
      "  haitian_count: 5,343.0 people across 106 tracts\n",
      "  barbadian_count: 116.0 people across 4 tracts\n",
      "  trinidadian_tobagonian_count: 1,323.0 people across 42 tracts\n",
      "  middle_eastern_north_african_total: 32,261.0 people across 174 tracts\n",
      "  arab_count: 719.0 people across 23 tracts\n",
      "  egyptian_count: 1,660.0 people across 49 tracts\n",
      "  iranian_count: 5,547.0 people across 136 tracts\n",
      "  lebanese_count: 4,715.0 people across 128 tracts\n",
      "  alaska_native_count: 0.0 people across 0 tracts\n",
      "  american_indian_total: 1,091.0 people across 9 tracts\n",
      "  pacific_islander_total: 206.0 people across 1 tracts\n"
     ]
    }
   ],
   "source": [
    "# Display all demographics\n",
    "for group in demographics:\n",
    "    total = data[group].sum()\n",
    "    tracts_with_pop = (data[group] > 0).sum()\n",
    "    print(f\"  {group}: {total:,} people across {tracts_with_pop} tracts\")"
   ]
  }
 ],
 "metadata": {
  "kernelspec": {
   "display_name": "base",
   "language": "python",
   "name": "python3"
  },
  "language_info": {
   "codemirror_mode": {
    "name": "ipython",
    "version": 3
   },
   "file_extension": ".py",
   "mimetype": "text/x-python",
   "name": "python",
   "nbconvert_exporter": "python",
   "pygments_lexer": "ipython3",
   "version": "3.12.4"
  }
 },
 "nbformat": 4,
 "nbformat_minor": 5
}
