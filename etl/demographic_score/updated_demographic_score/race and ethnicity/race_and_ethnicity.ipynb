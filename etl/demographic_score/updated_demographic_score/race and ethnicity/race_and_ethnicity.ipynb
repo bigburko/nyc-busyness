{
 "cells": [
  {
   "cell_type": "code",
   "execution_count": 17,
   "id": "2c4ca5e2",
   "metadata": {},
   "outputs": [],
   "source": [
    "# Import pandas\n",
    "import pandas as pd"
   ]
  },
  {
   "cell_type": "code",
   "execution_count": 19,
   "id": "f96f113f",
   "metadata": {},
   "outputs": [
    {
     "name": "stdout",
     "output_type": "stream",
     "text": [
      "Existing data loaded: (310, 183)\n"
     ]
    }
   ],
   "source": [
    "# Load the dataframe and print the shape of the data\n",
    "data = pd.read_csv('manhattan_race_ethnicity_complete_hierarchy.csv')\n",
    "print(f\"Existing data loaded: {data.shape}\")"
   ]
  },
  {
   "cell_type": "code",
   "execution_count": 20,
   "id": "85a657a0",
   "metadata": {},
   "outputs": [
    {
     "name": "stdout",
     "output_type": "stream",
     "text": [
      "Ethnicity key loaded: (187, 4)\n"
     ]
    }
   ],
   "source": [
    "# Load the ethnicity key and print the shape of the ethnicity key\n",
    "ethnicity_key = pd.read_csv('ethnicity_key.csv')\n",
    "print(f\"Ethnicity key loaded: {ethnicity_key.shape}\")"
   ]
  },
  {
   "cell_type": "code",
   "execution_count": 22,
   "id": "995fd581",
   "metadata": {},
   "outputs": [],
   "source": [
    "# Define racial group structure\n",
    "racial_groups = {\n",
    "    'H': [],      # Hispanic/Latino\n",
    "    'W': [],      # White  \n",
    "    'B': [],      # Black\n",
    "    'A': [],      # Asian\n",
    "    'AIANA': [],  # American Indian/Alaska Native\n",
    "    'NHPI': [],   # Native Hawaiian/Pacific Islander\n",
    "    'SOR': []     # Some Other Race\n",
    "}"
   ]
  },
  {
   "cell_type": "code",
   "execution_count": 23,
   "id": "75afb71f",
   "metadata": {},
   "outputs": [],
   "source": [
    "# Map columns to racial groups\n",
    "for col in data.columns:\n",
    "    if col not in ['geo_id', 'geo_name', 'total_population']:\n",
    "        matching_rows = ethnicity_key[ethnicity_key['Code'] == col]\n",
    "        if len(matching_rows) > 0:\n",
    "            race = matching_rows.iloc[0]['Race']\n",
    "            if race in racial_groups:\n",
    "                racial_groups[race].append(col)"
   ]
  },
  {
   "cell_type": "code",
   "execution_count": 24,
   "id": "e1cbc708",
   "metadata": {},
   "outputs": [
    {
     "name": "stdout",
     "output_type": "stream",
     "text": [
      "H: 27 columns\n",
      "W: 68 columns\n",
      "B: 34 columns\n",
      "A: 28 columns\n",
      "AIANA: 15 columns\n",
      "NHPI: 5 columns\n",
      "SOR: 3 columns\n"
     ]
    }
   ],
   "source": [
    "# Display mapping results\n",
    "for race, cols in racial_groups.items():\n",
    "    print(f\"{race}: {len(cols)} columns\")"
   ]
  },
  {
   "cell_type": "code",
   "execution_count": 25,
   "id": "7ff470a8",
   "metadata": {},
   "outputs": [],
   "source": [
    "# Calculate racial totals\n",
    "racial_totals = {}\n",
    "for race_code, columns in racial_groups.items():\n",
    "    if columns:\n",
    "        racial_total = data[columns].sum(axis=1)\n",
    "        racial_totals[race_code] = racial_total"
   ]
  },
  {
   "cell_type": "code",
   "execution_count": 26,
   "id": "d7d546dd",
   "metadata": {},
   "outputs": [
    {
     "name": "stdout",
     "output_type": "stream",
     "text": [
      "H: 680,618.0 people across 291 tracts\n",
      "W: 1,820,164.0 people across 301 tracts\n",
      "B: 289,552.0 people across 287 tracts\n",
      "A: 465,032.0 people across 297 tracts\n",
      "AIANA: 6,909.0 people across 81 tracts\n",
      "NHPI: 1,320.0 people across 5 tracts\n",
      "SOR: 5,165.0 people across 132 tracts\n"
     ]
    }
   ],
   "source": [
    "# Display calculated totals\n",
    "for race_code, racial_total in racial_totals.items():\n",
    "    total_pop = racial_total.sum()\n",
    "    tracts_with_pop = (racial_total > 0).sum()\n",
    "    print(f\"{race_code}: {total_pop:,} people across {tracts_with_pop} tracts\")"
   ]
  },
  {
   "cell_type": "code",
   "execution_count": 27,
   "id": "41e82a94",
   "metadata": {},
   "outputs": [],
   "source": [
    "# Initialise new dataset\n",
    "new_data = data[['geo_id', 'geo_name', 'total_population']].copy()"
   ]
  },
  {
   "cell_type": "code",
   "execution_count": 28,
   "id": "e91f745b",
   "metadata": {},
   "outputs": [],
   "source": [
    "# Define race order\n",
    "race_order = [\n",
    "    ('H', 'HISPANIC/LATINO'),\n",
    "    ('W', 'WHITE'), \n",
    "    ('B', 'BLACK/AFRICAN AMERICAN'),\n",
    "    ('A', 'ASIAN'),\n",
    "    ('AIANA', 'AMERICAN INDIAN/ALASKA NATIVE'),\n",
    "    ('NHPI', 'NATIVE HAWAIIAN/PACIFIC ISLANDER'),\n",
    "    ('SOR', 'SOME OTHER RACE')\n",
    "]"
   ]
  },
  {
   "cell_type": "code",
   "execution_count": 29,
   "id": "2d5e2ac4",
   "metadata": {},
   "outputs": [
    {
     "name": "stdout",
     "output_type": "stream",
     "text": [
      "New dataset structure: (310, 190)\n"
     ]
    },
    {
     "name": "stderr",
     "output_type": "stream",
     "text": [
      "C:\\Users\\lukej\\AppData\\Local\\Temp\\ipykernel_19036\\1233376928.py:10: PerformanceWarning: DataFrame is highly fragmented.  This is usually the result of calling `frame.insert` many times, which has poor performance.  Consider joining all columns at once using pd.concat(axis=1) instead. To get a de-fragmented frame, use `newframe = frame.copy()`\n",
      "  new_data[col] = data[col]\n",
      "C:\\Users\\lukej\\AppData\\Local\\Temp\\ipykernel_19036\\1233376928.py:10: PerformanceWarning: DataFrame is highly fragmented.  This is usually the result of calling `frame.insert` many times, which has poor performance.  Consider joining all columns at once using pd.concat(axis=1) instead. To get a de-fragmented frame, use `newframe = frame.copy()`\n",
      "  new_data[col] = data[col]\n",
      "C:\\Users\\lukej\\AppData\\Local\\Temp\\ipykernel_19036\\1233376928.py:10: PerformanceWarning: DataFrame is highly fragmented.  This is usually the result of calling `frame.insert` many times, which has poor performance.  Consider joining all columns at once using pd.concat(axis=1) instead. To get a de-fragmented frame, use `newframe = frame.copy()`\n",
      "  new_data[col] = data[col]\n",
      "C:\\Users\\lukej\\AppData\\Local\\Temp\\ipykernel_19036\\1233376928.py:10: PerformanceWarning: DataFrame is highly fragmented.  This is usually the result of calling `frame.insert` many times, which has poor performance.  Consider joining all columns at once using pd.concat(axis=1) instead. To get a de-fragmented frame, use `newframe = frame.copy()`\n",
      "  new_data[col] = data[col]\n",
      "C:\\Users\\lukej\\AppData\\Local\\Temp\\ipykernel_19036\\1233376928.py:10: PerformanceWarning: DataFrame is highly fragmented.  This is usually the result of calling `frame.insert` many times, which has poor performance.  Consider joining all columns at once using pd.concat(axis=1) instead. To get a de-fragmented frame, use `newframe = frame.copy()`\n",
      "  new_data[col] = data[col]\n",
      "C:\\Users\\lukej\\AppData\\Local\\Temp\\ipykernel_19036\\1233376928.py:10: PerformanceWarning: DataFrame is highly fragmented.  This is usually the result of calling `frame.insert` many times, which has poor performance.  Consider joining all columns at once using pd.concat(axis=1) instead. To get a de-fragmented frame, use `newframe = frame.copy()`\n",
      "  new_data[col] = data[col]\n",
      "C:\\Users\\lukej\\AppData\\Local\\Temp\\ipykernel_19036\\1233376928.py:10: PerformanceWarning: DataFrame is highly fragmented.  This is usually the result of calling `frame.insert` many times, which has poor performance.  Consider joining all columns at once using pd.concat(axis=1) instead. To get a de-fragmented frame, use `newframe = frame.copy()`\n",
      "  new_data[col] = data[col]\n",
      "C:\\Users\\lukej\\AppData\\Local\\Temp\\ipykernel_19036\\1233376928.py:10: PerformanceWarning: DataFrame is highly fragmented.  This is usually the result of calling `frame.insert` many times, which has poor performance.  Consider joining all columns at once using pd.concat(axis=1) instead. To get a de-fragmented frame, use `newframe = frame.copy()`\n",
      "  new_data[col] = data[col]\n",
      "C:\\Users\\lukej\\AppData\\Local\\Temp\\ipykernel_19036\\1233376928.py:10: PerformanceWarning: DataFrame is highly fragmented.  This is usually the result of calling `frame.insert` many times, which has poor performance.  Consider joining all columns at once using pd.concat(axis=1) instead. To get a de-fragmented frame, use `newframe = frame.copy()`\n",
      "  new_data[col] = data[col]\n",
      "C:\\Users\\lukej\\AppData\\Local\\Temp\\ipykernel_19036\\1233376928.py:10: PerformanceWarning: DataFrame is highly fragmented.  This is usually the result of calling `frame.insert` many times, which has poor performance.  Consider joining all columns at once using pd.concat(axis=1) instead. To get a de-fragmented frame, use `newframe = frame.copy()`\n",
      "  new_data[col] = data[col]\n",
      "C:\\Users\\lukej\\AppData\\Local\\Temp\\ipykernel_19036\\1233376928.py:10: PerformanceWarning: DataFrame is highly fragmented.  This is usually the result of calling `frame.insert` many times, which has poor performance.  Consider joining all columns at once using pd.concat(axis=1) instead. To get a de-fragmented frame, use `newframe = frame.copy()`\n",
      "  new_data[col] = data[col]\n",
      "C:\\Users\\lukej\\AppData\\Local\\Temp\\ipykernel_19036\\1233376928.py:10: PerformanceWarning: DataFrame is highly fragmented.  This is usually the result of calling `frame.insert` many times, which has poor performance.  Consider joining all columns at once using pd.concat(axis=1) instead. To get a de-fragmented frame, use `newframe = frame.copy()`\n",
      "  new_data[col] = data[col]\n",
      "C:\\Users\\lukej\\AppData\\Local\\Temp\\ipykernel_19036\\1233376928.py:10: PerformanceWarning: DataFrame is highly fragmented.  This is usually the result of calling `frame.insert` many times, which has poor performance.  Consider joining all columns at once using pd.concat(axis=1) instead. To get a de-fragmented frame, use `newframe = frame.copy()`\n",
      "  new_data[col] = data[col]\n",
      "C:\\Users\\lukej\\AppData\\Local\\Temp\\ipykernel_19036\\1233376928.py:10: PerformanceWarning: DataFrame is highly fragmented.  This is usually the result of calling `frame.insert` many times, which has poor performance.  Consider joining all columns at once using pd.concat(axis=1) instead. To get a de-fragmented frame, use `newframe = frame.copy()`\n",
      "  new_data[col] = data[col]\n",
      "C:\\Users\\lukej\\AppData\\Local\\Temp\\ipykernel_19036\\1233376928.py:10: PerformanceWarning: DataFrame is highly fragmented.  This is usually the result of calling `frame.insert` many times, which has poor performance.  Consider joining all columns at once using pd.concat(axis=1) instead. To get a de-fragmented frame, use `newframe = frame.copy()`\n",
      "  new_data[col] = data[col]\n",
      "C:\\Users\\lukej\\AppData\\Local\\Temp\\ipykernel_19036\\1233376928.py:10: PerformanceWarning: DataFrame is highly fragmented.  This is usually the result of calling `frame.insert` many times, which has poor performance.  Consider joining all columns at once using pd.concat(axis=1) instead. To get a de-fragmented frame, use `newframe = frame.copy()`\n",
      "  new_data[col] = data[col]\n",
      "C:\\Users\\lukej\\AppData\\Local\\Temp\\ipykernel_19036\\1233376928.py:10: PerformanceWarning: DataFrame is highly fragmented.  This is usually the result of calling `frame.insert` many times, which has poor performance.  Consider joining all columns at once using pd.concat(axis=1) instead. To get a de-fragmented frame, use `newframe = frame.copy()`\n",
      "  new_data[col] = data[col]\n",
      "C:\\Users\\lukej\\AppData\\Local\\Temp\\ipykernel_19036\\1233376928.py:10: PerformanceWarning: DataFrame is highly fragmented.  This is usually the result of calling `frame.insert` many times, which has poor performance.  Consider joining all columns at once using pd.concat(axis=1) instead. To get a de-fragmented frame, use `newframe = frame.copy()`\n",
      "  new_data[col] = data[col]\n",
      "C:\\Users\\lukej\\AppData\\Local\\Temp\\ipykernel_19036\\1233376928.py:10: PerformanceWarning: DataFrame is highly fragmented.  This is usually the result of calling `frame.insert` many times, which has poor performance.  Consider joining all columns at once using pd.concat(axis=1) instead. To get a de-fragmented frame, use `newframe = frame.copy()`\n",
      "  new_data[col] = data[col]\n",
      "C:\\Users\\lukej\\AppData\\Local\\Temp\\ipykernel_19036\\1233376928.py:10: PerformanceWarning: DataFrame is highly fragmented.  This is usually the result of calling `frame.insert` many times, which has poor performance.  Consider joining all columns at once using pd.concat(axis=1) instead. To get a de-fragmented frame, use `newframe = frame.copy()`\n",
      "  new_data[col] = data[col]\n",
      "C:\\Users\\lukej\\AppData\\Local\\Temp\\ipykernel_19036\\1233376928.py:10: PerformanceWarning: DataFrame is highly fragmented.  This is usually the result of calling `frame.insert` many times, which has poor performance.  Consider joining all columns at once using pd.concat(axis=1) instead. To get a de-fragmented frame, use `newframe = frame.copy()`\n",
      "  new_data[col] = data[col]\n",
      "C:\\Users\\lukej\\AppData\\Local\\Temp\\ipykernel_19036\\1233376928.py:10: PerformanceWarning: DataFrame is highly fragmented.  This is usually the result of calling `frame.insert` many times, which has poor performance.  Consider joining all columns at once using pd.concat(axis=1) instead. To get a de-fragmented frame, use `newframe = frame.copy()`\n",
      "  new_data[col] = data[col]\n",
      "C:\\Users\\lukej\\AppData\\Local\\Temp\\ipykernel_19036\\1233376928.py:10: PerformanceWarning: DataFrame is highly fragmented.  This is usually the result of calling `frame.insert` many times, which has poor performance.  Consider joining all columns at once using pd.concat(axis=1) instead. To get a de-fragmented frame, use `newframe = frame.copy()`\n",
      "  new_data[col] = data[col]\n",
      "C:\\Users\\lukej\\AppData\\Local\\Temp\\ipykernel_19036\\1233376928.py:10: PerformanceWarning: DataFrame is highly fragmented.  This is usually the result of calling `frame.insert` many times, which has poor performance.  Consider joining all columns at once using pd.concat(axis=1) instead. To get a de-fragmented frame, use `newframe = frame.copy()`\n",
      "  new_data[col] = data[col]\n",
      "C:\\Users\\lukej\\AppData\\Local\\Temp\\ipykernel_19036\\1233376928.py:10: PerformanceWarning: DataFrame is highly fragmented.  This is usually the result of calling `frame.insert` many times, which has poor performance.  Consider joining all columns at once using pd.concat(axis=1) instead. To get a de-fragmented frame, use `newframe = frame.copy()`\n",
      "  new_data[col] = data[col]\n",
      "C:\\Users\\lukej\\AppData\\Local\\Temp\\ipykernel_19036\\1233376928.py:10: PerformanceWarning: DataFrame is highly fragmented.  This is usually the result of calling `frame.insert` many times, which has poor performance.  Consider joining all columns at once using pd.concat(axis=1) instead. To get a de-fragmented frame, use `newframe = frame.copy()`\n",
      "  new_data[col] = data[col]\n",
      "C:\\Users\\lukej\\AppData\\Local\\Temp\\ipykernel_19036\\1233376928.py:10: PerformanceWarning: DataFrame is highly fragmented.  This is usually the result of calling `frame.insert` many times, which has poor performance.  Consider joining all columns at once using pd.concat(axis=1) instead. To get a de-fragmented frame, use `newframe = frame.copy()`\n",
      "  new_data[col] = data[col]\n",
      "C:\\Users\\lukej\\AppData\\Local\\Temp\\ipykernel_19036\\1233376928.py:10: PerformanceWarning: DataFrame is highly fragmented.  This is usually the result of calling `frame.insert` many times, which has poor performance.  Consider joining all columns at once using pd.concat(axis=1) instead. To get a de-fragmented frame, use `newframe = frame.copy()`\n",
      "  new_data[col] = data[col]\n",
      "C:\\Users\\lukej\\AppData\\Local\\Temp\\ipykernel_19036\\1233376928.py:10: PerformanceWarning: DataFrame is highly fragmented.  This is usually the result of calling `frame.insert` many times, which has poor performance.  Consider joining all columns at once using pd.concat(axis=1) instead. To get a de-fragmented frame, use `newframe = frame.copy()`\n",
      "  new_data[col] = data[col]\n",
      "C:\\Users\\lukej\\AppData\\Local\\Temp\\ipykernel_19036\\1233376928.py:10: PerformanceWarning: DataFrame is highly fragmented.  This is usually the result of calling `frame.insert` many times, which has poor performance.  Consider joining all columns at once using pd.concat(axis=1) instead. To get a de-fragmented frame, use `newframe = frame.copy()`\n",
      "  new_data[col] = data[col]\n",
      "C:\\Users\\lukej\\AppData\\Local\\Temp\\ipykernel_19036\\1233376928.py:10: PerformanceWarning: DataFrame is highly fragmented.  This is usually the result of calling `frame.insert` many times, which has poor performance.  Consider joining all columns at once using pd.concat(axis=1) instead. To get a de-fragmented frame, use `newframe = frame.copy()`\n",
      "  new_data[col] = data[col]\n",
      "C:\\Users\\lukej\\AppData\\Local\\Temp\\ipykernel_19036\\1233376928.py:10: PerformanceWarning: DataFrame is highly fragmented.  This is usually the result of calling `frame.insert` many times, which has poor performance.  Consider joining all columns at once using pd.concat(axis=1) instead. To get a de-fragmented frame, use `newframe = frame.copy()`\n",
      "  new_data[col] = data[col]\n",
      "C:\\Users\\lukej\\AppData\\Local\\Temp\\ipykernel_19036\\1233376928.py:10: PerformanceWarning: DataFrame is highly fragmented.  This is usually the result of calling `frame.insert` many times, which has poor performance.  Consider joining all columns at once using pd.concat(axis=1) instead. To get a de-fragmented frame, use `newframe = frame.copy()`\n",
      "  new_data[col] = data[col]\n",
      "C:\\Users\\lukej\\AppData\\Local\\Temp\\ipykernel_19036\\1233376928.py:10: PerformanceWarning: DataFrame is highly fragmented.  This is usually the result of calling `frame.insert` many times, which has poor performance.  Consider joining all columns at once using pd.concat(axis=1) instead. To get a de-fragmented frame, use `newframe = frame.copy()`\n",
      "  new_data[col] = data[col]\n",
      "C:\\Users\\lukej\\AppData\\Local\\Temp\\ipykernel_19036\\1233376928.py:7: PerformanceWarning: DataFrame is highly fragmented.  This is usually the result of calling `frame.insert` many times, which has poor performance.  Consider joining all columns at once using pd.concat(axis=1) instead. To get a de-fragmented frame, use `newframe = frame.copy()`\n",
      "  new_data[race_code] = racial_totals[race_code]\n",
      "C:\\Users\\lukej\\AppData\\Local\\Temp\\ipykernel_19036\\1233376928.py:10: PerformanceWarning: DataFrame is highly fragmented.  This is usually the result of calling `frame.insert` many times, which has poor performance.  Consider joining all columns at once using pd.concat(axis=1) instead. To get a de-fragmented frame, use `newframe = frame.copy()`\n",
      "  new_data[col] = data[col]\n",
      "C:\\Users\\lukej\\AppData\\Local\\Temp\\ipykernel_19036\\1233376928.py:10: PerformanceWarning: DataFrame is highly fragmented.  This is usually the result of calling `frame.insert` many times, which has poor performance.  Consider joining all columns at once using pd.concat(axis=1) instead. To get a de-fragmented frame, use `newframe = frame.copy()`\n",
      "  new_data[col] = data[col]\n",
      "C:\\Users\\lukej\\AppData\\Local\\Temp\\ipykernel_19036\\1233376928.py:10: PerformanceWarning: DataFrame is highly fragmented.  This is usually the result of calling `frame.insert` many times, which has poor performance.  Consider joining all columns at once using pd.concat(axis=1) instead. To get a de-fragmented frame, use `newframe = frame.copy()`\n",
      "  new_data[col] = data[col]\n",
      "C:\\Users\\lukej\\AppData\\Local\\Temp\\ipykernel_19036\\1233376928.py:10: PerformanceWarning: DataFrame is highly fragmented.  This is usually the result of calling `frame.insert` many times, which has poor performance.  Consider joining all columns at once using pd.concat(axis=1) instead. To get a de-fragmented frame, use `newframe = frame.copy()`\n",
      "  new_data[col] = data[col]\n",
      "C:\\Users\\lukej\\AppData\\Local\\Temp\\ipykernel_19036\\1233376928.py:10: PerformanceWarning: DataFrame is highly fragmented.  This is usually the result of calling `frame.insert` many times, which has poor performance.  Consider joining all columns at once using pd.concat(axis=1) instead. To get a de-fragmented frame, use `newframe = frame.copy()`\n",
      "  new_data[col] = data[col]\n",
      "C:\\Users\\lukej\\AppData\\Local\\Temp\\ipykernel_19036\\1233376928.py:10: PerformanceWarning: DataFrame is highly fragmented.  This is usually the result of calling `frame.insert` many times, which has poor performance.  Consider joining all columns at once using pd.concat(axis=1) instead. To get a de-fragmented frame, use `newframe = frame.copy()`\n",
      "  new_data[col] = data[col]\n",
      "C:\\Users\\lukej\\AppData\\Local\\Temp\\ipykernel_19036\\1233376928.py:10: PerformanceWarning: DataFrame is highly fragmented.  This is usually the result of calling `frame.insert` many times, which has poor performance.  Consider joining all columns at once using pd.concat(axis=1) instead. To get a de-fragmented frame, use `newframe = frame.copy()`\n",
      "  new_data[col] = data[col]\n",
      "C:\\Users\\lukej\\AppData\\Local\\Temp\\ipykernel_19036\\1233376928.py:10: PerformanceWarning: DataFrame is highly fragmented.  This is usually the result of calling `frame.insert` many times, which has poor performance.  Consider joining all columns at once using pd.concat(axis=1) instead. To get a de-fragmented frame, use `newframe = frame.copy()`\n",
      "  new_data[col] = data[col]\n",
      "C:\\Users\\lukej\\AppData\\Local\\Temp\\ipykernel_19036\\1233376928.py:10: PerformanceWarning: DataFrame is highly fragmented.  This is usually the result of calling `frame.insert` many times, which has poor performance.  Consider joining all columns at once using pd.concat(axis=1) instead. To get a de-fragmented frame, use `newframe = frame.copy()`\n",
      "  new_data[col] = data[col]\n",
      "C:\\Users\\lukej\\AppData\\Local\\Temp\\ipykernel_19036\\1233376928.py:10: PerformanceWarning: DataFrame is highly fragmented.  This is usually the result of calling `frame.insert` many times, which has poor performance.  Consider joining all columns at once using pd.concat(axis=1) instead. To get a de-fragmented frame, use `newframe = frame.copy()`\n",
      "  new_data[col] = data[col]\n",
      "C:\\Users\\lukej\\AppData\\Local\\Temp\\ipykernel_19036\\1233376928.py:10: PerformanceWarning: DataFrame is highly fragmented.  This is usually the result of calling `frame.insert` many times, which has poor performance.  Consider joining all columns at once using pd.concat(axis=1) instead. To get a de-fragmented frame, use `newframe = frame.copy()`\n",
      "  new_data[col] = data[col]\n",
      "C:\\Users\\lukej\\AppData\\Local\\Temp\\ipykernel_19036\\1233376928.py:10: PerformanceWarning: DataFrame is highly fragmented.  This is usually the result of calling `frame.insert` many times, which has poor performance.  Consider joining all columns at once using pd.concat(axis=1) instead. To get a de-fragmented frame, use `newframe = frame.copy()`\n",
      "  new_data[col] = data[col]\n",
      "C:\\Users\\lukej\\AppData\\Local\\Temp\\ipykernel_19036\\1233376928.py:10: PerformanceWarning: DataFrame is highly fragmented.  This is usually the result of calling `frame.insert` many times, which has poor performance.  Consider joining all columns at once using pd.concat(axis=1) instead. To get a de-fragmented frame, use `newframe = frame.copy()`\n",
      "  new_data[col] = data[col]\n",
      "C:\\Users\\lukej\\AppData\\Local\\Temp\\ipykernel_19036\\1233376928.py:10: PerformanceWarning: DataFrame is highly fragmented.  This is usually the result of calling `frame.insert` many times, which has poor performance.  Consider joining all columns at once using pd.concat(axis=1) instead. To get a de-fragmented frame, use `newframe = frame.copy()`\n",
      "  new_data[col] = data[col]\n",
      "C:\\Users\\lukej\\AppData\\Local\\Temp\\ipykernel_19036\\1233376928.py:10: PerformanceWarning: DataFrame is highly fragmented.  This is usually the result of calling `frame.insert` many times, which has poor performance.  Consider joining all columns at once using pd.concat(axis=1) instead. To get a de-fragmented frame, use `newframe = frame.copy()`\n",
      "  new_data[col] = data[col]\n",
      "C:\\Users\\lukej\\AppData\\Local\\Temp\\ipykernel_19036\\1233376928.py:10: PerformanceWarning: DataFrame is highly fragmented.  This is usually the result of calling `frame.insert` many times, which has poor performance.  Consider joining all columns at once using pd.concat(axis=1) instead. To get a de-fragmented frame, use `newframe = frame.copy()`\n",
      "  new_data[col] = data[col]\n",
      "C:\\Users\\lukej\\AppData\\Local\\Temp\\ipykernel_19036\\1233376928.py:10: PerformanceWarning: DataFrame is highly fragmented.  This is usually the result of calling `frame.insert` many times, which has poor performance.  Consider joining all columns at once using pd.concat(axis=1) instead. To get a de-fragmented frame, use `newframe = frame.copy()`\n",
      "  new_data[col] = data[col]\n",
      "C:\\Users\\lukej\\AppData\\Local\\Temp\\ipykernel_19036\\1233376928.py:10: PerformanceWarning: DataFrame is highly fragmented.  This is usually the result of calling `frame.insert` many times, which has poor performance.  Consider joining all columns at once using pd.concat(axis=1) instead. To get a de-fragmented frame, use `newframe = frame.copy()`\n",
      "  new_data[col] = data[col]\n",
      "C:\\Users\\lukej\\AppData\\Local\\Temp\\ipykernel_19036\\1233376928.py:10: PerformanceWarning: DataFrame is highly fragmented.  This is usually the result of calling `frame.insert` many times, which has poor performance.  Consider joining all columns at once using pd.concat(axis=1) instead. To get a de-fragmented frame, use `newframe = frame.copy()`\n",
      "  new_data[col] = data[col]\n",
      "C:\\Users\\lukej\\AppData\\Local\\Temp\\ipykernel_19036\\1233376928.py:10: PerformanceWarning: DataFrame is highly fragmented.  This is usually the result of calling `frame.insert` many times, which has poor performance.  Consider joining all columns at once using pd.concat(axis=1) instead. To get a de-fragmented frame, use `newframe = frame.copy()`\n",
      "  new_data[col] = data[col]\n",
      "C:\\Users\\lukej\\AppData\\Local\\Temp\\ipykernel_19036\\1233376928.py:10: PerformanceWarning: DataFrame is highly fragmented.  This is usually the result of calling `frame.insert` many times, which has poor performance.  Consider joining all columns at once using pd.concat(axis=1) instead. To get a de-fragmented frame, use `newframe = frame.copy()`\n",
      "  new_data[col] = data[col]\n",
      "C:\\Users\\lukej\\AppData\\Local\\Temp\\ipykernel_19036\\1233376928.py:10: PerformanceWarning: DataFrame is highly fragmented.  This is usually the result of calling `frame.insert` many times, which has poor performance.  Consider joining all columns at once using pd.concat(axis=1) instead. To get a de-fragmented frame, use `newframe = frame.copy()`\n",
      "  new_data[col] = data[col]\n",
      "C:\\Users\\lukej\\AppData\\Local\\Temp\\ipykernel_19036\\1233376928.py:10: PerformanceWarning: DataFrame is highly fragmented.  This is usually the result of calling `frame.insert` many times, which has poor performance.  Consider joining all columns at once using pd.concat(axis=1) instead. To get a de-fragmented frame, use `newframe = frame.copy()`\n",
      "  new_data[col] = data[col]\n",
      "C:\\Users\\lukej\\AppData\\Local\\Temp\\ipykernel_19036\\1233376928.py:10: PerformanceWarning: DataFrame is highly fragmented.  This is usually the result of calling `frame.insert` many times, which has poor performance.  Consider joining all columns at once using pd.concat(axis=1) instead. To get a de-fragmented frame, use `newframe = frame.copy()`\n",
      "  new_data[col] = data[col]\n",
      "C:\\Users\\lukej\\AppData\\Local\\Temp\\ipykernel_19036\\1233376928.py:10: PerformanceWarning: DataFrame is highly fragmented.  This is usually the result of calling `frame.insert` many times, which has poor performance.  Consider joining all columns at once using pd.concat(axis=1) instead. To get a de-fragmented frame, use `newframe = frame.copy()`\n",
      "  new_data[col] = data[col]\n",
      "C:\\Users\\lukej\\AppData\\Local\\Temp\\ipykernel_19036\\1233376928.py:10: PerformanceWarning: DataFrame is highly fragmented.  This is usually the result of calling `frame.insert` many times, which has poor performance.  Consider joining all columns at once using pd.concat(axis=1) instead. To get a de-fragmented frame, use `newframe = frame.copy()`\n",
      "  new_data[col] = data[col]\n",
      "C:\\Users\\lukej\\AppData\\Local\\Temp\\ipykernel_19036\\1233376928.py:10: PerformanceWarning: DataFrame is highly fragmented.  This is usually the result of calling `frame.insert` many times, which has poor performance.  Consider joining all columns at once using pd.concat(axis=1) instead. To get a de-fragmented frame, use `newframe = frame.copy()`\n",
      "  new_data[col] = data[col]\n",
      "C:\\Users\\lukej\\AppData\\Local\\Temp\\ipykernel_19036\\1233376928.py:10: PerformanceWarning: DataFrame is highly fragmented.  This is usually the result of calling `frame.insert` many times, which has poor performance.  Consider joining all columns at once using pd.concat(axis=1) instead. To get a de-fragmented frame, use `newframe = frame.copy()`\n",
      "  new_data[col] = data[col]\n",
      "C:\\Users\\lukej\\AppData\\Local\\Temp\\ipykernel_19036\\1233376928.py:7: PerformanceWarning: DataFrame is highly fragmented.  This is usually the result of calling `frame.insert` many times, which has poor performance.  Consider joining all columns at once using pd.concat(axis=1) instead. To get a de-fragmented frame, use `newframe = frame.copy()`\n",
      "  new_data[race_code] = racial_totals[race_code]\n",
      "C:\\Users\\lukej\\AppData\\Local\\Temp\\ipykernel_19036\\1233376928.py:10: PerformanceWarning: DataFrame is highly fragmented.  This is usually the result of calling `frame.insert` many times, which has poor performance.  Consider joining all columns at once using pd.concat(axis=1) instead. To get a de-fragmented frame, use `newframe = frame.copy()`\n",
      "  new_data[col] = data[col]\n",
      "C:\\Users\\lukej\\AppData\\Local\\Temp\\ipykernel_19036\\1233376928.py:10: PerformanceWarning: DataFrame is highly fragmented.  This is usually the result of calling `frame.insert` many times, which has poor performance.  Consider joining all columns at once using pd.concat(axis=1) instead. To get a de-fragmented frame, use `newframe = frame.copy()`\n",
      "  new_data[col] = data[col]\n",
      "C:\\Users\\lukej\\AppData\\Local\\Temp\\ipykernel_19036\\1233376928.py:10: PerformanceWarning: DataFrame is highly fragmented.  This is usually the result of calling `frame.insert` many times, which has poor performance.  Consider joining all columns at once using pd.concat(axis=1) instead. To get a de-fragmented frame, use `newframe = frame.copy()`\n",
      "  new_data[col] = data[col]\n",
      "C:\\Users\\lukej\\AppData\\Local\\Temp\\ipykernel_19036\\1233376928.py:10: PerformanceWarning: DataFrame is highly fragmented.  This is usually the result of calling `frame.insert` many times, which has poor performance.  Consider joining all columns at once using pd.concat(axis=1) instead. To get a de-fragmented frame, use `newframe = frame.copy()`\n",
      "  new_data[col] = data[col]\n",
      "C:\\Users\\lukej\\AppData\\Local\\Temp\\ipykernel_19036\\1233376928.py:10: PerformanceWarning: DataFrame is highly fragmented.  This is usually the result of calling `frame.insert` many times, which has poor performance.  Consider joining all columns at once using pd.concat(axis=1) instead. To get a de-fragmented frame, use `newframe = frame.copy()`\n",
      "  new_data[col] = data[col]\n",
      "C:\\Users\\lukej\\AppData\\Local\\Temp\\ipykernel_19036\\1233376928.py:10: PerformanceWarning: DataFrame is highly fragmented.  This is usually the result of calling `frame.insert` many times, which has poor performance.  Consider joining all columns at once using pd.concat(axis=1) instead. To get a de-fragmented frame, use `newframe = frame.copy()`\n",
      "  new_data[col] = data[col]\n",
      "C:\\Users\\lukej\\AppData\\Local\\Temp\\ipykernel_19036\\1233376928.py:10: PerformanceWarning: DataFrame is highly fragmented.  This is usually the result of calling `frame.insert` many times, which has poor performance.  Consider joining all columns at once using pd.concat(axis=1) instead. To get a de-fragmented frame, use `newframe = frame.copy()`\n",
      "  new_data[col] = data[col]\n",
      "C:\\Users\\lukej\\AppData\\Local\\Temp\\ipykernel_19036\\1233376928.py:10: PerformanceWarning: DataFrame is highly fragmented.  This is usually the result of calling `frame.insert` many times, which has poor performance.  Consider joining all columns at once using pd.concat(axis=1) instead. To get a de-fragmented frame, use `newframe = frame.copy()`\n",
      "  new_data[col] = data[col]\n",
      "C:\\Users\\lukej\\AppData\\Local\\Temp\\ipykernel_19036\\1233376928.py:10: PerformanceWarning: DataFrame is highly fragmented.  This is usually the result of calling `frame.insert` many times, which has poor performance.  Consider joining all columns at once using pd.concat(axis=1) instead. To get a de-fragmented frame, use `newframe = frame.copy()`\n",
      "  new_data[col] = data[col]\n",
      "C:\\Users\\lukej\\AppData\\Local\\Temp\\ipykernel_19036\\1233376928.py:10: PerformanceWarning: DataFrame is highly fragmented.  This is usually the result of calling `frame.insert` many times, which has poor performance.  Consider joining all columns at once using pd.concat(axis=1) instead. To get a de-fragmented frame, use `newframe = frame.copy()`\n",
      "  new_data[col] = data[col]\n",
      "C:\\Users\\lukej\\AppData\\Local\\Temp\\ipykernel_19036\\1233376928.py:10: PerformanceWarning: DataFrame is highly fragmented.  This is usually the result of calling `frame.insert` many times, which has poor performance.  Consider joining all columns at once using pd.concat(axis=1) instead. To get a de-fragmented frame, use `newframe = frame.copy()`\n",
      "  new_data[col] = data[col]\n",
      "C:\\Users\\lukej\\AppData\\Local\\Temp\\ipykernel_19036\\1233376928.py:10: PerformanceWarning: DataFrame is highly fragmented.  This is usually the result of calling `frame.insert` many times, which has poor performance.  Consider joining all columns at once using pd.concat(axis=1) instead. To get a de-fragmented frame, use `newframe = frame.copy()`\n",
      "  new_data[col] = data[col]\n",
      "C:\\Users\\lukej\\AppData\\Local\\Temp\\ipykernel_19036\\1233376928.py:10: PerformanceWarning: DataFrame is highly fragmented.  This is usually the result of calling `frame.insert` many times, which has poor performance.  Consider joining all columns at once using pd.concat(axis=1) instead. To get a de-fragmented frame, use `newframe = frame.copy()`\n",
      "  new_data[col] = data[col]\n",
      "C:\\Users\\lukej\\AppData\\Local\\Temp\\ipykernel_19036\\1233376928.py:10: PerformanceWarning: DataFrame is highly fragmented.  This is usually the result of calling `frame.insert` many times, which has poor performance.  Consider joining all columns at once using pd.concat(axis=1) instead. To get a de-fragmented frame, use `newframe = frame.copy()`\n",
      "  new_data[col] = data[col]\n",
      "C:\\Users\\lukej\\AppData\\Local\\Temp\\ipykernel_19036\\1233376928.py:10: PerformanceWarning: DataFrame is highly fragmented.  This is usually the result of calling `frame.insert` many times, which has poor performance.  Consider joining all columns at once using pd.concat(axis=1) instead. To get a de-fragmented frame, use `newframe = frame.copy()`\n",
      "  new_data[col] = data[col]\n",
      "C:\\Users\\lukej\\AppData\\Local\\Temp\\ipykernel_19036\\1233376928.py:7: PerformanceWarning: DataFrame is highly fragmented.  This is usually the result of calling `frame.insert` many times, which has poor performance.  Consider joining all columns at once using pd.concat(axis=1) instead. To get a de-fragmented frame, use `newframe = frame.copy()`\n",
      "  new_data[race_code] = racial_totals[race_code]\n",
      "C:\\Users\\lukej\\AppData\\Local\\Temp\\ipykernel_19036\\1233376928.py:10: PerformanceWarning: DataFrame is highly fragmented.  This is usually the result of calling `frame.insert` many times, which has poor performance.  Consider joining all columns at once using pd.concat(axis=1) instead. To get a de-fragmented frame, use `newframe = frame.copy()`\n",
      "  new_data[col] = data[col]\n",
      "C:\\Users\\lukej\\AppData\\Local\\Temp\\ipykernel_19036\\1233376928.py:10: PerformanceWarning: DataFrame is highly fragmented.  This is usually the result of calling `frame.insert` many times, which has poor performance.  Consider joining all columns at once using pd.concat(axis=1) instead. To get a de-fragmented frame, use `newframe = frame.copy()`\n",
      "  new_data[col] = data[col]\n",
      "C:\\Users\\lukej\\AppData\\Local\\Temp\\ipykernel_19036\\1233376928.py:10: PerformanceWarning: DataFrame is highly fragmented.  This is usually the result of calling `frame.insert` many times, which has poor performance.  Consider joining all columns at once using pd.concat(axis=1) instead. To get a de-fragmented frame, use `newframe = frame.copy()`\n",
      "  new_data[col] = data[col]\n",
      "C:\\Users\\lukej\\AppData\\Local\\Temp\\ipykernel_19036\\1233376928.py:10: PerformanceWarning: DataFrame is highly fragmented.  This is usually the result of calling `frame.insert` many times, which has poor performance.  Consider joining all columns at once using pd.concat(axis=1) instead. To get a de-fragmented frame, use `newframe = frame.copy()`\n",
      "  new_data[col] = data[col]\n",
      "C:\\Users\\lukej\\AppData\\Local\\Temp\\ipykernel_19036\\1233376928.py:10: PerformanceWarning: DataFrame is highly fragmented.  This is usually the result of calling `frame.insert` many times, which has poor performance.  Consider joining all columns at once using pd.concat(axis=1) instead. To get a de-fragmented frame, use `newframe = frame.copy()`\n",
      "  new_data[col] = data[col]\n",
      "C:\\Users\\lukej\\AppData\\Local\\Temp\\ipykernel_19036\\1233376928.py:7: PerformanceWarning: DataFrame is highly fragmented.  This is usually the result of calling `frame.insert` many times, which has poor performance.  Consider joining all columns at once using pd.concat(axis=1) instead. To get a de-fragmented frame, use `newframe = frame.copy()`\n",
      "  new_data[race_code] = racial_totals[race_code]\n",
      "C:\\Users\\lukej\\AppData\\Local\\Temp\\ipykernel_19036\\1233376928.py:10: PerformanceWarning: DataFrame is highly fragmented.  This is usually the result of calling `frame.insert` many times, which has poor performance.  Consider joining all columns at once using pd.concat(axis=1) instead. To get a de-fragmented frame, use `newframe = frame.copy()`\n",
      "  new_data[col] = data[col]\n",
      "C:\\Users\\lukej\\AppData\\Local\\Temp\\ipykernel_19036\\1233376928.py:10: PerformanceWarning: DataFrame is highly fragmented.  This is usually the result of calling `frame.insert` many times, which has poor performance.  Consider joining all columns at once using pd.concat(axis=1) instead. To get a de-fragmented frame, use `newframe = frame.copy()`\n",
      "  new_data[col] = data[col]\n",
      "C:\\Users\\lukej\\AppData\\Local\\Temp\\ipykernel_19036\\1233376928.py:10: PerformanceWarning: DataFrame is highly fragmented.  This is usually the result of calling `frame.insert` many times, which has poor performance.  Consider joining all columns at once using pd.concat(axis=1) instead. To get a de-fragmented frame, use `newframe = frame.copy()`\n",
      "  new_data[col] = data[col]\n"
     ]
    }
   ],
   "source": [
    "# Make new dataset structure\n",
    "for race_code, race_name in race_order:\n",
    "    columns = racial_groups[race_code]\n",
    "    \n",
    "    if columns:\n",
    "        if race_code in racial_totals:\n",
    "            new_data[race_code] = racial_totals[race_code]\n",
    "        \n",
    "        for col in columns:\n",
    "            new_data[col] = data[col]\n",
    "\n",
    "print(f\"New dataset structure: {new_data.shape}\")"
   ]
  },
  {
   "cell_type": "code",
   "execution_count": 30,
   "id": "2ac35994",
   "metadata": {},
   "outputs": [
    {
     "name": "stdout",
     "output_type": "stream",
     "text": [
      "Enhanced dataset saved to: manhattan_race_ethnicity.csv\n"
     ]
    }
   ],
   "source": [
    "# Save new dataset\n",
    "new_data.to_csv('manhattan_race_ethnicity.csv', index=False)\n",
    "print(\"Enhanced dataset saved to: manhattan_race_ethnicity.csv\")"
   ]
  },
  {
   "cell_type": "code",
   "execution_count": 31,
   "id": "716d359b",
   "metadata": {},
   "outputs": [
    {
     "name": "stdout",
     "output_type": "stream",
     "text": [
      "\n",
      "HISPANIC/LATINO\n",
      "  MAIN TOTAL (H): 680,618.0 people across 291 tracts\n",
      "    ├── Mexican (HMex): 41,471.0 people across 273 tracts\n",
      "    ├── Central American (HCA): 7,613.0 people across 53 tracts\n",
      "    ├── Costa Rican (HCACstRcn): 70.0 people across 3 tracts\n",
      "    ├── Guatemalan (HCAGutmln): 855.0 people across 25 tracts\n",
      "    ├── Honduran (HCAHndrn): 2,692.0 people across 69 tracts\n",
      "    ├── Nicaraguan (HCANcrgn): 425.0 people across 14 tracts\n",
      "    ├── Panamanian (HCAPnmn): 470.0 people across 17 tracts\n",
      "    ├── Salvadoran (HCASlvdrn): 2,296.0 people across 57 tracts\n",
      "    ├── South American (HSA): 37,373.0 people across 184 tracts\n",
      "    ├── Argentinean (HSAArgntn): 3,253.0 people across 94 tracts\n",
      "    └── ... and 17 more subcategories\n",
      "\n",
      "WHITE\n",
      "  MAIN TOTAL (W): 1,820,164.0 people across 301 tracts\n",
      "    ├── European (WEur): 554,719.0 people across 299 tracts\n",
      "    ├── Albanian (WEurAlbn): 2,046.0 people across 64 tracts\n",
      "    ├── Armenian (WEurArmn): 1,569.0 people across 53 tracts\n",
      "    ├── Austrian (WEurAstrn): 10,140.0 people across 168 tracts\n",
      "    ├── Belarusian (WEurBlrsn): 119.0 people across 5 tracts\n",
      "    ├── Belgian (WEurBlgn): 771.0 people across 26 tracts\n",
      "    ├── British (WEurBrtsh): 5,502.0 people across 143 tracts\n",
      "    ├── Bulgarian (WEurBlgrn): 77.0 people across 3 tracts\n",
      "    └── ... and 58 more subcategories\n",
      "\n",
      "BLACK/AFRICAN AMERICAN\n",
      "  MAIN TOTAL (B): 289,552.0 people across 287 tracts\n",
      "    ├── African American (BAfrAm): 126,424.0 people across 286 tracts\n",
      "    ├── Sub-Saharan African (BSSAf): 17,077.0 people across 82 tracts\n",
      "    ├── Burkinabe (BSSAfBrknb): 49.0 people across 2 tracts\n",
      "    ├── Cameroonian (BSSAfCmrn): 54.0 people across 2 tracts\n",
      "    ├── Ethiopian (BSSAfEthpn): 506.0 people across 17 tracts\n",
      "    ├── Ghanaian (BSSAfGhn): 367.0 people across 14 tracts\n",
      "    ├── Guinean (BSSAfGnn): 398.0 people across 12 tracts\n",
      "    ├── Ivoirian (BSSAfIvrn): 448.0 people across 11 tracts\n",
      "    └── ... and 24 more subcategories\n",
      "\n",
      "ASIAN\n",
      "  MAIN TOTAL (A): 465,032.0 people across 297 tracts\n",
      "    ├── East Asian (AEA): 163,067.0 people across 265 tracts\n",
      "    ├── Chinese, except Taiwanese (AEAChnsNoT): 119,266.0 people across 295 tracts\n",
      "    ├── Japanese (AEAJpns): 17,733.0 people across 238 tracts\n",
      "    ├── Korean (AEAKrn): 23,881.0 people across 241 tracts\n",
      "    ├── Taiwanese (AEATwns): 4,041.0 people across 106 tracts\n",
      "    └── ... and 18 more subcategories\n",
      "\n",
      "AMERICAN INDIAN/ALASKA NATIVE\n",
      "  MAIN TOTAL (AIANA): 6,909.0 people across 81 tracts\n",
      "    ├── American Indian (AIANAIn): 1,091.0 people across 9 tracts\n",
      "    ├── Cherokee (AIANAInChr): 523.0 people across 18 tracts\n",
      "    ├── Mexican Indian (all tribes) (AIANMxIn): 771.0 people across 7 tracts\n",
      "    ├── Aztec (AIANMxInAz): 1,607.0 people across 34 tracts\n",
      "    └── ... and 5 more subcategories\n",
      "\n",
      "NATIVE HAWAIIAN/PACIFIC ISLANDER\n",
      "  MAIN TOTAL (NHPI): 1,320.0 people across 5 tracts\n",
      "    ├── Polynesian (NHPIPly): 206.0 people across 1 tracts\n",
      "    ├── Native Hawaiian (NHPIPlyNH): 402.0 people across 5 tracts\n",
      "    ├── Samoan (NHPIPlySmn): 221.0 people across 2 tracts\n",
      "    ├── Micronesian (NHPIMc): 235.0 people across 2 tracts\n",
      "    ├── Chamorro (NHPIMcChmr): 256.0 people across 3 tracts\n",
      "\n",
      "SOME OTHER RACE\n",
      "  MAIN TOTAL (SOR): 5,165.0 people across 132 tracts\n",
      "    ├── Belizean (SORBlzn): 115.0 people across 4 tracts\n",
      "    ├── Brazilian (SORBrzln): 4,759.0 people across 118 tracts\n",
      "    ├── Guyanese (SORGuyans): 291.0 people across 11 tracts\n"
     ]
    }
   ],
   "source": [
    "# Display demographic hierarchy\n",
    "for race_code, race_name in race_order:\n",
    "    columns = racial_groups[race_code]\n",
    "    \n",
    "    if columns and race_code in racial_totals:\n",
    "        total_pop = racial_totals[race_code].sum()\n",
    "        total_tracts = (racial_totals[race_code] > 0).sum()\n",
    "        \n",
    "        print(f\"\\n{race_name}\")\n",
    "        print(f\"  MAIN TOTAL ({race_code}): {total_pop:,} people across {total_tracts} tracts\")\n",
    "        \n",
    "        key_subcategories = columns[:10]\n",
    "        for col in key_subcategories:\n",
    "            if col in new_data.columns:\n",
    "                label_rows = ethnicity_key[ethnicity_key['Code'] == col]\n",
    "                if len(label_rows) > 0:\n",
    "                    label = label_rows.iloc[0]['Label']\n",
    "                    col_total = new_data[col].sum()\n",
    "                    col_tracts = (new_data[col] > 0).sum()\n",
    "                    if col_total > 0:\n",
    "                        print(f\"    ├── {label} ({col}): {col_total:,} people across {col_tracts} tracts\")\n",
    "        \n",
    "        if len(columns) > 10:\n",
    "            print(f\"    └── ... and {len(columns) - 10} more subcategories\")"
   ]
  },
  {
   "cell_type": "code",
   "execution_count": 32,
   "id": "41c5eaf4",
   "metadata": {},
   "outputs": [
    {
     "name": "stdout",
     "output_type": "stream",
     "text": [
      "\n",
      "Total Manhattan population: 1,694,251\n"
     ]
    }
   ],
   "source": [
    "# Calculate total Manhattan population\n",
    "total_manhattan_pop = new_data['total_population'].sum()\n",
    "print(f\"\\nTotal Manhattan population: {total_manhattan_pop:,}\")"
   ]
  },
  {
   "cell_type": "code",
   "execution_count": 33,
   "id": "9162879c",
   "metadata": {},
   "outputs": [
    {
     "name": "stdout",
     "output_type": "stream",
     "text": [
      "H total: 680,618.0\n",
      "W total: 1,820,164.0\n",
      "B total: 289,552.0\n",
      "A total: 465,032.0\n",
      "AIANA total: 6,909.0\n",
      "NHPI total: 1,320.0\n",
      "SOR total: 5,165.0\n"
     ]
    }
   ],
   "source": [
    "# Display racial counts\n",
    "for race_code in racial_totals:\n",
    "    race_total = racial_totals[race_code].sum()\n",
    "    print(f\"{race_code} total: {race_total:,}\")"
   ]
  },
  {
   "cell_type": "code",
   "execution_count": 34,
   "id": "d09ba856",
   "metadata": {},
   "outputs": [
    {
     "name": "stdout",
     "output_type": "stream",
     "text": [
      "\n",
      "Final dataset saved: manhattan_race_ethnicity_.csv ((310, 190))\n"
     ]
    }
   ],
   "source": [
    "# Summary\n",
    "print(f\"\\nFinal dataset saved: manhattan_race_ethnicity_.csv ({new_data.shape})\")"
   ]
  }
 ],
 "metadata": {
  "kernelspec": {
   "display_name": "base",
   "language": "python",
   "name": "python3"
  },
  "language_info": {
   "codemirror_mode": {
    "name": "ipython",
    "version": 3
   },
   "file_extension": ".py",
   "mimetype": "text/x-python",
   "name": "python",
   "nbconvert_exporter": "python",
   "pygments_lexer": "ipython3",
   "version": "3.12.4"
  }
 },
 "nbformat": 4,
 "nbformat_minor": 5
}
