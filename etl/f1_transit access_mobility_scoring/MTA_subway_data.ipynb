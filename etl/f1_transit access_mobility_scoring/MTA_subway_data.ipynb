{
 "cells": [
  {
   "cell_type": "code",
   "execution_count": 39,
   "id": "3735b4e0",
   "metadata": {},
   "outputs": [],
   "source": [
    "#Import the required packages\n",
    "#Import package pandas for data analysis\n",
    "import pandas as pd\n",
    "\n",
    "# Import package numpy for numeric computing\n",
    "import numpy as np\n",
    "\n",
    "# Import package matplotlib for visualisation/plotting\n",
    "import matplotlib.pyplot as plt\n",
    "\n",
    "#For showing plots directly in the notebook run the command below\n",
    "%matplotlib inline\n",
    "\n",
    "# For saving multiple plots into a single pdf file\n",
    "from matplotlib.backends.backend_pdf import PdfPages "
   ]
  },
  {
   "cell_type": "code",
   "execution_count": 40,
   "id": "2d1cd468",
   "metadata": {},
   "outputs": [
    {
     "data": {
      "text/html": [
       "<div>\n",
       "<style scoped>\n",
       "    .dataframe tbody tr th:only-of-type {\n",
       "        vertical-align: middle;\n",
       "    }\n",
       "\n",
       "    .dataframe tbody tr th {\n",
       "        vertical-align: top;\n",
       "    }\n",
       "\n",
       "    .dataframe thead th {\n",
       "        text-align: right;\n",
       "    }\n",
       "</style>\n",
       "<table border=\"1\" class=\"dataframe\">\n",
       "  <thead>\n",
       "    <tr style=\"text-align: right;\">\n",
       "      <th></th>\n",
       "      <th>Division</th>\n",
       "      <th>Line</th>\n",
       "      <th>Borough</th>\n",
       "      <th>Stop Name</th>\n",
       "      <th>Complex ID</th>\n",
       "      <th>Constituent Station Name</th>\n",
       "      <th>Station ID</th>\n",
       "      <th>GTFS Stop ID</th>\n",
       "      <th>Daytime Routes</th>\n",
       "      <th>Entrance Type</th>\n",
       "      <th>Entry Allowed</th>\n",
       "      <th>Exit Allowed</th>\n",
       "      <th>Entrance Latitude</th>\n",
       "      <th>Entrance Longitude</th>\n",
       "      <th>entrance_georeference</th>\n",
       "    </tr>\n",
       "  </thead>\n",
       "  <tbody>\n",
       "    <tr>\n",
       "      <th>0</th>\n",
       "      <td>BMT</td>\n",
       "      <td>4th Av</td>\n",
       "      <td>B</td>\n",
       "      <td>Atlantic Av-Barclays Ctr</td>\n",
       "      <td>617</td>\n",
       "      <td>Atlantic Av-Barclays Ctr</td>\n",
       "      <td>27</td>\n",
       "      <td>R31</td>\n",
       "      <td>2 3 4 5 B D N Q R</td>\n",
       "      <td>Stair</td>\n",
       "      <td>YES</td>\n",
       "      <td>YES</td>\n",
       "      <td>40.683905</td>\n",
       "      <td>-73.978879</td>\n",
       "      <td>POINT (-73.978879 40.683905)</td>\n",
       "    </tr>\n",
       "    <tr>\n",
       "      <th>1</th>\n",
       "      <td>BMT</td>\n",
       "      <td>4th Av</td>\n",
       "      <td>B</td>\n",
       "      <td>Atlantic Av-Barclays Ctr</td>\n",
       "      <td>617</td>\n",
       "      <td>Atlantic Av-Barclays Ctr</td>\n",
       "      <td>27</td>\n",
       "      <td>R31</td>\n",
       "      <td>2 3 4 5 B D N Q R</td>\n",
       "      <td>Elevator</td>\n",
       "      <td>YES</td>\n",
       "      <td>YES</td>\n",
       "      <td>40.683805</td>\n",
       "      <td>-73.978487</td>\n",
       "      <td>POINT (-73.978487 40.683805)</td>\n",
       "    </tr>\n",
       "    <tr>\n",
       "      <th>2</th>\n",
       "      <td>BMT</td>\n",
       "      <td>4th Av</td>\n",
       "      <td>B</td>\n",
       "      <td>Atlantic Av-Barclays Ctr</td>\n",
       "      <td>617</td>\n",
       "      <td>Atlantic Av-Barclays Ctr</td>\n",
       "      <td>27</td>\n",
       "      <td>R31</td>\n",
       "      <td>2 3 4 5 B D N Q R</td>\n",
       "      <td>Stair</td>\n",
       "      <td>YES</td>\n",
       "      <td>YES</td>\n",
       "      <td>40.683928</td>\n",
       "      <td>-73.978412</td>\n",
       "      <td>POINT (-73.978412 40.683928)</td>\n",
       "    </tr>\n",
       "    <tr>\n",
       "      <th>3</th>\n",
       "      <td>BMT</td>\n",
       "      <td>4th Av</td>\n",
       "      <td>B</td>\n",
       "      <td>Union St</td>\n",
       "      <td>28</td>\n",
       "      <td>Union St</td>\n",
       "      <td>28</td>\n",
       "      <td>R32</td>\n",
       "      <td>R</td>\n",
       "      <td>Stair</td>\n",
       "      <td>YES</td>\n",
       "      <td>YES</td>\n",
       "      <td>40.677154</td>\n",
       "      <td>-73.983430</td>\n",
       "      <td>POINT (-73.9834296 40.6771544)</td>\n",
       "    </tr>\n",
       "    <tr>\n",
       "      <th>4</th>\n",
       "      <td>BMT</td>\n",
       "      <td>4th Av</td>\n",
       "      <td>B</td>\n",
       "      <td>Union St</td>\n",
       "      <td>28</td>\n",
       "      <td>Union St</td>\n",
       "      <td>28</td>\n",
       "      <td>R32</td>\n",
       "      <td>R</td>\n",
       "      <td>Stair</td>\n",
       "      <td>YES</td>\n",
       "      <td>YES</td>\n",
       "      <td>40.677296</td>\n",
       "      <td>-73.983336</td>\n",
       "      <td>POINT (-73.9833364 40.6772958)</td>\n",
       "    </tr>\n",
       "  </tbody>\n",
       "</table>\n",
       "</div>"
      ],
      "text/plain": [
       "  Division    Line Borough                 Stop Name  Complex ID  \\\n",
       "0      BMT  4th Av       B  Atlantic Av-Barclays Ctr         617   \n",
       "1      BMT  4th Av       B  Atlantic Av-Barclays Ctr         617   \n",
       "2      BMT  4th Av       B  Atlantic Av-Barclays Ctr         617   \n",
       "3      BMT  4th Av       B                  Union St          28   \n",
       "4      BMT  4th Av       B                  Union St          28   \n",
       "\n",
       "   Constituent Station Name  Station ID GTFS Stop ID     Daytime Routes  \\\n",
       "0  Atlantic Av-Barclays Ctr          27          R31  2 3 4 5 B D N Q R   \n",
       "1  Atlantic Av-Barclays Ctr          27          R31  2 3 4 5 B D N Q R   \n",
       "2  Atlantic Av-Barclays Ctr          27          R31  2 3 4 5 B D N Q R   \n",
       "3                  Union St          28          R32                  R   \n",
       "4                  Union St          28          R32                  R   \n",
       "\n",
       "  Entrance Type Entry Allowed Exit Allowed  Entrance Latitude  \\\n",
       "0         Stair           YES          YES          40.683905   \n",
       "1      Elevator           YES          YES          40.683805   \n",
       "2         Stair           YES          YES          40.683928   \n",
       "3         Stair           YES          YES          40.677154   \n",
       "4         Stair           YES          YES          40.677296   \n",
       "\n",
       "   Entrance Longitude           entrance_georeference  \n",
       "0          -73.978879    POINT (-73.978879 40.683905)  \n",
       "1          -73.978487    POINT (-73.978487 40.683805)  \n",
       "2          -73.978412    POINT (-73.978412 40.683928)  \n",
       "3          -73.983430  POINT (-73.9834296 40.6771544)  \n",
       "4          -73.983336  POINT (-73.9833364 40.6772958)  "
      ]
     },
     "execution_count": 40,
     "metadata": {},
     "output_type": "execute_result"
    }
   ],
   "source": [
    "df = pd.read_csv('MTA_Subway_Entrances_and_Exits__2024_20250524.csv', keep_default_na=True, delimiter=',', skipinitialspace=True)\n",
    "#How many rows should be displayed in full\n",
    "pd.set_option('display.max_rows', 100)\n",
    "# Show data frame first few rows\n",
    "df.head()"
   ]
  },
  {
   "cell_type": "markdown",
   "id": "fc98daa5",
   "metadata": {},
   "source": [
    "For the Mobility Score we need the subway access. Therefore the following fetaures are relevant:\n",
    "- Stop Name\n",
    "- Entry Allowed\n",
    "- Emtrance Type (for accessibility)\n",
    "- Daytime Routes\n",
    "- Entrance Latitude\n",
    "- Entrance Longitude"
   ]
  },
  {
   "cell_type": "code",
   "execution_count": 41,
   "id": "db226337",
   "metadata": {},
   "outputs": [
    {
     "data": {
      "text/plain": [
       "array(['B', 'Q', 'M', 'Bx', 'SI'], dtype=object)"
      ]
     },
     "execution_count": 41,
     "metadata": {},
     "output_type": "execute_result"
    }
   ],
   "source": [
    "#filter for Manhatten first\n",
    "\n",
    "df['Borough'].unique()\n"
   ]
  },
  {
   "cell_type": "code",
   "execution_count": 42,
   "id": "b868ddd9",
   "metadata": {},
   "outputs": [],
   "source": [
    "df = df[df['Borough']== 'M']"
   ]
  },
  {
   "cell_type": "code",
   "execution_count": 43,
   "id": "b06f6ee5",
   "metadata": {},
   "outputs": [
    {
     "data": {
      "text/plain": [
       "(868, 15)"
      ]
     },
     "execution_count": 43,
     "metadata": {},
     "output_type": "execute_result"
    }
   ],
   "source": [
    "df.shape"
   ]
  },
  {
   "cell_type": "code",
   "execution_count": 44,
   "id": "3a48ec23",
   "metadata": {},
   "outputs": [],
   "source": [
    "df = df.drop('Borough', axis=1)"
   ]
  },
  {
   "cell_type": "code",
   "execution_count": 45,
   "id": "979955ca",
   "metadata": {},
   "outputs": [],
   "source": [
    "#only select relevant features\n",
    "df = df[['Stop Name','Entry Allowed', 'Entrance Type', 'Daytime Routes','Exit Allowed', 'Entrance Latitude', 'Entrance Longitude']]"
   ]
  },
  {
   "cell_type": "code",
   "execution_count": 46,
   "id": "5e0abd26",
   "metadata": {},
   "outputs": [
    {
     "data": {
      "text/plain": [
       "Stop Name              object\n",
       "Entry Allowed          object\n",
       "Entrance Type          object\n",
       "Daytime Routes         object\n",
       "Exit Allowed           object\n",
       "Entrance Latitude     float64\n",
       "Entrance Longitude    float64\n",
       "dtype: object"
      ]
     },
     "execution_count": 46,
     "metadata": {},
     "output_type": "execute_result"
    }
   ],
   "source": [
    "#change datatype\n",
    "df.dtypes"
   ]
  },
  {
   "cell_type": "code",
   "execution_count": 47,
   "id": "d9ca12be",
   "metadata": {},
   "outputs": [
    {
     "data": {
      "text/html": [
       "<div>\n",
       "<style scoped>\n",
       "    .dataframe tbody tr th:only-of-type {\n",
       "        vertical-align: middle;\n",
       "    }\n",
       "\n",
       "    .dataframe tbody tr th {\n",
       "        vertical-align: top;\n",
       "    }\n",
       "\n",
       "    .dataframe thead th {\n",
       "        text-align: right;\n",
       "    }\n",
       "</style>\n",
       "<table border=\"1\" class=\"dataframe\">\n",
       "  <thead>\n",
       "    <tr style=\"text-align: right;\">\n",
       "      <th></th>\n",
       "      <th>Stop Name</th>\n",
       "      <th>Entry Allowed</th>\n",
       "      <th>Entrance Type</th>\n",
       "      <th>Daytime Routes</th>\n",
       "      <th>Exit Allowed</th>\n",
       "      <th>Entrance Latitude</th>\n",
       "      <th>Entrance Longitude</th>\n",
       "    </tr>\n",
       "  </thead>\n",
       "  <tbody>\n",
       "    <tr>\n",
       "      <th>52</th>\n",
       "      <td>Roosevelt Island</td>\n",
       "      <td>YES</td>\n",
       "      <td>Station House</td>\n",
       "      <td>F</td>\n",
       "      <td>YES</td>\n",
       "      <td>40.759019</td>\n",
       "      <td>-73.953458</td>\n",
       "    </tr>\n",
       "    <tr>\n",
       "      <th>53</th>\n",
       "      <td>Lexington Av/63 St</td>\n",
       "      <td>YES</td>\n",
       "      <td>Easement - Street</td>\n",
       "      <td>F Q</td>\n",
       "      <td>YES</td>\n",
       "      <td>40.764968</td>\n",
       "      <td>-73.966679</td>\n",
       "    </tr>\n",
       "    <tr>\n",
       "      <th>54</th>\n",
       "      <td>Lexington Av/63 St</td>\n",
       "      <td>YES</td>\n",
       "      <td>Stair</td>\n",
       "      <td>F Q</td>\n",
       "      <td>YES</td>\n",
       "      <td>40.764738</td>\n",
       "      <td>-73.966553</td>\n",
       "    </tr>\n",
       "    <tr>\n",
       "      <th>55</th>\n",
       "      <td>Lexington Av/63 St</td>\n",
       "      <td>YES</td>\n",
       "      <td>Easement - Street</td>\n",
       "      <td>F Q</td>\n",
       "      <td>YES</td>\n",
       "      <td>40.764896</td>\n",
       "      <td>-73.966426</td>\n",
       "    </tr>\n",
       "    <tr>\n",
       "      <th>56</th>\n",
       "      <td>Lexington Av/63 St</td>\n",
       "      <td>YES</td>\n",
       "      <td>Stair</td>\n",
       "      <td>F Q</td>\n",
       "      <td>YES</td>\n",
       "      <td>40.764101</td>\n",
       "      <td>-73.965041</td>\n",
       "    </tr>\n",
       "  </tbody>\n",
       "</table>\n",
       "</div>"
      ],
      "text/plain": [
       "             Stop Name Entry Allowed      Entrance Type Daytime Routes  \\\n",
       "52    Roosevelt Island           YES      Station House              F   \n",
       "53  Lexington Av/63 St           YES  Easement - Street            F Q   \n",
       "54  Lexington Av/63 St           YES              Stair            F Q   \n",
       "55  Lexington Av/63 St           YES  Easement - Street            F Q   \n",
       "56  Lexington Av/63 St           YES              Stair            F Q   \n",
       "\n",
       "   Exit Allowed  Entrance Latitude  Entrance Longitude  \n",
       "52          YES          40.759019          -73.953458  \n",
       "53          YES          40.764968          -73.966679  \n",
       "54          YES          40.764738          -73.966553  \n",
       "55          YES          40.764896          -73.966426  \n",
       "56          YES          40.764101          -73.965041  "
      ]
     },
     "execution_count": 47,
     "metadata": {},
     "output_type": "execute_result"
    }
   ],
   "source": [
    "df.head()"
   ]
  },
  {
   "cell_type": "code",
   "execution_count": 48,
   "id": "de297acb",
   "metadata": {},
   "outputs": [
    {
     "data": {
      "text/html": [
       "<div>\n",
       "<style scoped>\n",
       "    .dataframe tbody tr th:only-of-type {\n",
       "        vertical-align: middle;\n",
       "    }\n",
       "\n",
       "    .dataframe tbody tr th {\n",
       "        vertical-align: top;\n",
       "    }\n",
       "\n",
       "    .dataframe thead th {\n",
       "        text-align: right;\n",
       "    }\n",
       "</style>\n",
       "<table border=\"1\" class=\"dataframe\">\n",
       "  <thead>\n",
       "    <tr style=\"text-align: right;\">\n",
       "      <th></th>\n",
       "      <th>Stop Name</th>\n",
       "      <th>Entry Allowed</th>\n",
       "      <th>Entrance Type</th>\n",
       "      <th>Daytime Routes</th>\n",
       "      <th>Exit Allowed</th>\n",
       "      <th>Entrance Latitude</th>\n",
       "      <th>Entrance Longitude</th>\n",
       "    </tr>\n",
       "  </thead>\n",
       "  <tbody>\n",
       "  </tbody>\n",
       "</table>\n",
       "</div>"
      ],
      "text/plain": [
       "Empty DataFrame\n",
       "Columns: [Stop Name, Entry Allowed, Entrance Type, Daytime Routes, Exit Allowed, Entrance Latitude, Entrance Longitude]\n",
       "Index: []"
      ]
     },
     "execution_count": 48,
     "metadata": {},
     "output_type": "execute_result"
    }
   ],
   "source": [
    "#check for duplicates\n",
    "df[df.duplicated()]"
   ]
  },
  {
   "cell_type": "code",
   "execution_count": 50,
   "id": "381f38a6",
   "metadata": {},
   "outputs": [
    {
     "data": {
      "text/html": [
       "<div>\n",
       "<style scoped>\n",
       "    .dataframe tbody tr th:only-of-type {\n",
       "        vertical-align: middle;\n",
       "    }\n",
       "\n",
       "    .dataframe tbody tr th {\n",
       "        vertical-align: top;\n",
       "    }\n",
       "\n",
       "    .dataframe thead th {\n",
       "        text-align: right;\n",
       "    }\n",
       "</style>\n",
       "<table border=\"1\" class=\"dataframe\">\n",
       "  <thead>\n",
       "    <tr style=\"text-align: right;\">\n",
       "      <th></th>\n",
       "      <th>Stop Name</th>\n",
       "      <th>Entry Allowed</th>\n",
       "      <th>Entrance Type</th>\n",
       "      <th>Daytime Routes</th>\n",
       "      <th>Exit Allowed</th>\n",
       "      <th>Entrance Latitude</th>\n",
       "      <th>Entrance Longitude</th>\n",
       "    </tr>\n",
       "  </thead>\n",
       "  <tbody>\n",
       "  </tbody>\n",
       "</table>\n",
       "</div>"
      ],
      "text/plain": [
       "Empty DataFrame\n",
       "Columns: [Stop Name, Entry Allowed, Entrance Type, Daytime Routes, Exit Allowed, Entrance Latitude, Entrance Longitude]\n",
       "Index: []"
      ]
     },
     "execution_count": 50,
     "metadata": {},
     "output_type": "execute_result"
    }
   ],
   "source": [
    "df[df['Stop Name']=='False']"
   ]
  },
  {
   "cell_type": "code",
   "execution_count": 52,
   "id": "de7c87cd",
   "metadata": {},
   "outputs": [
    {
     "data": {
      "text/plain": [
       "Stop Name             0\n",
       "Entry Allowed         0\n",
       "Entrance Type         0\n",
       "Daytime Routes        0\n",
       "Exit Allowed          0\n",
       "Entrance Latitude     0\n",
       "Entrance Longitude    0\n",
       "dtype: int64"
      ]
     },
     "execution_count": 52,
     "metadata": {},
     "output_type": "execute_result"
    }
   ],
   "source": [
    "df.isnull().sum()"
   ]
  },
  {
   "cell_type": "code",
   "execution_count": 35,
   "id": "ef5e848d",
   "metadata": {},
   "outputs": [
    {
     "data": {
      "text/plain": [
       "(868, 7)"
      ]
     },
     "execution_count": 35,
     "metadata": {},
     "output_type": "execute_result"
    }
   ],
   "source": [
    "df.shape"
   ]
  },
  {
   "cell_type": "code",
   "execution_count": 53,
   "id": "59871de4",
   "metadata": {},
   "outputs": [
    {
     "data": {
      "text/plain": [
       "Stop Name              object\n",
       "Entry Allowed          object\n",
       "Entrance Type          object\n",
       "Daytime Routes         object\n",
       "Exit Allowed           object\n",
       "Entrance Latitude     float64\n",
       "Entrance Longitude    float64\n",
       "dtype: object"
      ]
     },
     "execution_count": 53,
     "metadata": {},
     "output_type": "execute_result"
    }
   ],
   "source": [
    "df.dtypes"
   ]
  },
  {
   "cell_type": "code",
   "execution_count": 54,
   "id": "3184856c",
   "metadata": {},
   "outputs": [],
   "source": [
    "#Computing Nearby Access\n",
    "import haversine\n",
    "\n",
    "def count_entrances_near(lat, lon, entrances, radius_m=500):\n",
    "    count = 0\n",
    "    unique_lines = set()\n",
    "    ada_count = 0\n",
    "\n",
    "    for _, row in entrances.iterrows():\n",
    "        dist = haversine((lat, lon), (row[\"entrance_latitude\"], row[\"entrance_longitude\"]), unit=\"m\")\n",
    "        if dist <= radius_m:\n",
    "            count += 1\n",
    "            unique_lines.update(row[\"daytime_routes\"].split()) \n",
    "            if \"elevator\" in row[\"entrance_type\"].lower():\n",
    "                ada_count += 1\n",
    "\n",
    "    return count, len(unique_lines), ada_count\n"
   ]
  },
  {
   "cell_type": "code",
   "execution_count": null,
   "id": "4b86afa6",
   "metadata": {},
   "outputs": [],
   "source": [
    "#Get Subway Score\n"
   ]
  },
  {
   "cell_type": "code",
   "execution_count": null,
   "id": "9b7f2e54",
   "metadata": {},
   "outputs": [],
   "source": [
    "#store cleaned data set as json \n",
    "df.to_csv('subway_access_cleaned.csv')"
   ]
  }
 ],
 "metadata": {
  "kernelspec": {
   "display_name": "base",
   "language": "python",
   "name": "python3"
  },
  "language_info": {
   "codemirror_mode": {
    "name": "ipython",
    "version": 3
   },
   "file_extension": ".py",
   "mimetype": "text/x-python",
   "name": "python",
   "nbconvert_exporter": "python",
   "pygments_lexer": "ipython3",
   "version": "3.12.4"
  }
 },
 "nbformat": 4,
 "nbformat_minor": 5
}
