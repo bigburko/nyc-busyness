{
 "cells": [
  {
   "cell_type": "markdown",
   "id": "20937698",
   "metadata": {},
   "source": [
    "## Cleaning the taxi data \n",
    "\n",
    "Using the taxi data and cleaning it to get the foot traffic score"
   ]
  },
  {
   "cell_type": "code",
   "execution_count": null,
   "id": "416145a3",
   "metadata": {},
   "outputs": [],
   "source": [
    "# import packages\n",
    "import pandas as pd\n",
    "\n",
    "# Import package numpy for numeric computing\n",
    "import numpy as np\n",
    "\n",
    "# Import package matplotlib for visualisation/plotting\n",
    "import matplotlib.pyplot as plt\n",
    "\n",
    "#For showing plots directly in the notebook run the command below\n",
    "%matplotlib inline\n",
    "\n",
    "import geopandas as gpd\n",
    "\n",
    "from shapely.geometry import Point\n",
    "\n",
    "from haversine import haversine, Unit\n",
    "\n",
    "from sklearn.preprocessing import MinMaxScaler"
   ]
  },
  {
   "cell_type": "markdown",
   "id": "0b18160a",
   "metadata": {},
   "source": [
    "Get the Manhatten Zone IDs using taxi_zone_lookup.csv"
   ]
  },
  {
   "cell_type": "code",
   "execution_count": 3,
   "id": "2b2d12c3",
   "metadata": {},
   "outputs": [],
   "source": [
    "zone_lookup = pd.read_csv('taxi_zone_lookup.csv', keep_default_na=True, delimiter=',', skipinitialspace=True)"
   ]
  },
  {
   "cell_type": "code",
   "execution_count": 4,
   "id": "2c7b5d59",
   "metadata": {},
   "outputs": [
    {
     "data": {
      "text/html": [
       "<div>\n",
       "<style scoped>\n",
       "    .dataframe tbody tr th:only-of-type {\n",
       "        vertical-align: middle;\n",
       "    }\n",
       "\n",
       "    .dataframe tbody tr th {\n",
       "        vertical-align: top;\n",
       "    }\n",
       "\n",
       "    .dataframe thead th {\n",
       "        text-align: right;\n",
       "    }\n",
       "</style>\n",
       "<table border=\"1\" class=\"dataframe\">\n",
       "  <thead>\n",
       "    <tr style=\"text-align: right;\">\n",
       "      <th></th>\n",
       "      <th>LocationID</th>\n",
       "      <th>Borough</th>\n",
       "      <th>Zone</th>\n",
       "      <th>service_zone</th>\n",
       "    </tr>\n",
       "  </thead>\n",
       "  <tbody>\n",
       "    <tr>\n",
       "      <th>0</th>\n",
       "      <td>1</td>\n",
       "      <td>EWR</td>\n",
       "      <td>Newark Airport</td>\n",
       "      <td>EWR</td>\n",
       "    </tr>\n",
       "    <tr>\n",
       "      <th>1</th>\n",
       "      <td>2</td>\n",
       "      <td>Queens</td>\n",
       "      <td>Jamaica Bay</td>\n",
       "      <td>Boro Zone</td>\n",
       "    </tr>\n",
       "    <tr>\n",
       "      <th>2</th>\n",
       "      <td>3</td>\n",
       "      <td>Bronx</td>\n",
       "      <td>Allerton/Pelham Gardens</td>\n",
       "      <td>Boro Zone</td>\n",
       "    </tr>\n",
       "    <tr>\n",
       "      <th>3</th>\n",
       "      <td>4</td>\n",
       "      <td>Manhattan</td>\n",
       "      <td>Alphabet City</td>\n",
       "      <td>Yellow Zone</td>\n",
       "    </tr>\n",
       "    <tr>\n",
       "      <th>4</th>\n",
       "      <td>5</td>\n",
       "      <td>Staten Island</td>\n",
       "      <td>Arden Heights</td>\n",
       "      <td>Boro Zone</td>\n",
       "    </tr>\n",
       "  </tbody>\n",
       "</table>\n",
       "</div>"
      ],
      "text/plain": [
       "   LocationID        Borough                     Zone service_zone\n",
       "0           1            EWR           Newark Airport          EWR\n",
       "1           2         Queens              Jamaica Bay    Boro Zone\n",
       "2           3          Bronx  Allerton/Pelham Gardens    Boro Zone\n",
       "3           4      Manhattan            Alphabet City  Yellow Zone\n",
       "4           5  Staten Island            Arden Heights    Boro Zone"
      ]
     },
     "execution_count": 4,
     "metadata": {},
     "output_type": "execute_result"
    }
   ],
   "source": [
    "zone_lookup.head()"
   ]
  },
  {
   "cell_type": "code",
   "execution_count": 5,
   "id": "2c3bea68",
   "metadata": {},
   "outputs": [],
   "source": [
    "manhattan_zone_ids = zone_lookup[zone_lookup[\"Borough\"] == \"Manhattan\"][\"LocationID\"].tolist()"
   ]
  },
  {
   "cell_type": "code",
   "execution_count": null,
   "id": "5c7d435d",
   "metadata": {},
   "outputs": [],
   "source": [
    "yellow_taxi_data = pd.read_csv(\"yellow_tripdata_2023-01.csv\")"
   ]
  },
  {
   "cell_type": "code",
   "execution_count": null,
   "id": "45d96f0f",
   "metadata": {},
   "outputs": [],
   "source": [
    "yellow_taxi_data[\"hour\"] = pd.to_datetime(yellow_taxi_data[\"tpep_pickup_datetime\"]).dt.hour\n",
    "# Only Manhattan pickups during daytimeyellow = \n",
    "yellow_taxi_data= yellow_taxi_data[\n",
    "(yellow_taxi_data[\"PULocationID\"].isin(manhattan_zone_ids)) \n",
    "& (yellow_taxi_data[\"hour\"].between(7, 20)) & \n",
    "(yellow_taxi_data[\"passenger_count\"] > 0)\n",
    "]"
   ]
  },
  {
   "cell_type": "markdown",
   "id": "0a4ba612",
   "metadata": {},
   "source": [
    "Joining data with TLC zone shapefile"
   ]
  },
  {
   "cell_type": "code",
   "execution_count": null,
   "id": "eb8ba0f8",
   "metadata": {},
   "outputs": [],
   "source": [
    "pickup_counts = yellow_taxi_data.groupby(\"PULocationID\").size().reset_index(name=\"pickup_count\")\n",
    "zones = gpd.read_file(\"taxi_zones.shp\") # add the taxi zone shape file and after getting the score remove it\n"
   ]
  },
  {
   "cell_type": "code",
   "execution_count": null,
   "id": "32b073fa",
   "metadata": {},
   "outputs": [],
   "source": [
    "# Merge filtered zones and pickup datazones = zones.merge(zone_lookup, left_on=\"LocationID\", right_on=\"LocationID\")\n",
    "zones = zones[zones[\"Borough\"] == \"Manhattan\"]\n",
    "zones = zones.merge(pickup_counts, left_on=\"LocationID\", right_on=\"PULocationID\", how=\"left\").fillna(0)"
   ]
  },
  {
   "cell_type": "code",
   "execution_count": null,
   "id": "a951c9b2",
   "metadata": {},
   "outputs": [],
   "source": [
    "#Normaize Score\n",
    "from sklearn.preprocessing import MinMaxScaler\n",
    "scaler = MinMaxScaler((1, 10))\n",
    "zones[\"foot_traffic_score\"] = scaler.fit_transform(zones[[\"pickup_count\"]]).round(1)"
   ]
  },
  {
   "cell_type": "code",
   "execution_count": null,
   "id": "09a2c5c4",
   "metadata": {},
   "outputs": [],
   "source": [
    "#zones.to_file(\"manhatten_foot_traffic_scores.geojsn\", driver=GeoJSON)\n",
    "zones.to_csv(\"manhatten_foot_traffic_scores.csv\", index=False)"
   ]
  }
 ],
 "metadata": {
  "kernelspec": {
   "display_name": "base",
   "language": "python",
   "name": "python3"
  },
  "language_info": {
   "codemirror_mode": {
    "name": "ipython",
    "version": 3
   },
   "file_extension": ".py",
   "mimetype": "text/x-python",
   "name": "python",
   "nbconvert_exporter": "python",
   "pygments_lexer": "ipython3",
   "version": "3.12.4"
  }
 },
 "nbformat": 4,
 "nbformat_minor": 5
}
