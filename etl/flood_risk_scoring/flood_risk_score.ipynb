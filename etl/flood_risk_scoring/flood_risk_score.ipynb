{
 "cells": [
  {
   "cell_type": "markdown",
   "id": "bde4b7e4",
   "metadata": {},
   "source": [
    "## NYC Flood Vulnerability Index data\n",
    "\n",
    "use NYC Flood Vulnerability Index data to get the flood risk score"
   ]
  },
  {
   "cell_type": "code",
   "execution_count": 24,
   "id": "e35fb127",
   "metadata": {},
   "outputs": [],
   "source": [
    "# import packages\n",
    "import pandas as pd\n",
    "\n",
    "# Import package numpy for numeric computing\n",
    "import numpy as np\n",
    "\n",
    "# Import package matplotlib for visualisation/plotting\n",
    "import matplotlib.pyplot as plt\n",
    "\n",
    "#For showing plots directly in the notebook run the command below\n",
    "%matplotlib inline\n",
    "\n",
    "import geopandas as gpd\n",
    "\n",
    "from shapely.geometry import Point\n",
    "\n",
    "from haversine import haversine, Unit\n",
    "\n",
    "from sklearn.preprocessing import MinMaxScaler"
   ]
  },
  {
   "cell_type": "code",
   "execution_count": null,
   "id": "4da20714",
   "metadata": {},
   "outputs": [],
   "source": [
    "# flood_data = gpd.read_file(\"flood_index.geojson\")"
   ]
  },
  {
   "cell_type": "code",
   "execution_count": 22,
   "id": "bc4b134a",
   "metadata": {},
   "outputs": [
    {
     "name": "stderr",
     "output_type": "stream",
     "text": [
      "c:\\Users\\sweet\\anaconda3\\Lib\\site-packages\\pyogrio\\raw.py:198: RuntimeWarning: driver CSV does not support open option DELIMITER\n",
      "  return ogr_read(\n"
     ]
    }
   ],
   "source": [
    "flood_data = gpd.read_file('New_York_City_s_Flood_Vulnerability_Index_20250529.csv', delimiter=',')"
   ]
  },
  {
   "cell_type": "code",
   "execution_count": 25,
   "id": "779cf9cd",
   "metadata": {},
   "outputs": [],
   "source": [
    "flood_data = pd.read_csv('New_York_City_s_Flood_Vulnerability_Index_20250529.csv', keep_default_na=True, delimiter=',', skipinitialspace=True)"
   ]
  },
  {
   "cell_type": "code",
   "execution_count": 26,
   "id": "f791cc2e",
   "metadata": {},
   "outputs": [
    {
     "data": {
      "text/html": [
       "<div>\n",
       "<style scoped>\n",
       "    .dataframe tbody tr th:only-of-type {\n",
       "        vertical-align: middle;\n",
       "    }\n",
       "\n",
       "    .dataframe tbody tr th {\n",
       "        vertical-align: top;\n",
       "    }\n",
       "\n",
       "    .dataframe thead th {\n",
       "        text-align: right;\n",
       "    }\n",
       "</style>\n",
       "<table border=\"1\" class=\"dataframe\">\n",
       "  <thead>\n",
       "    <tr style=\"text-align: right;\">\n",
       "      <th></th>\n",
       "      <th>the_geom</th>\n",
       "      <th>GEOID</th>\n",
       "      <th>FSHRI</th>\n",
       "      <th>FVI_storm_surge_present</th>\n",
       "      <th>FVI_storm_surge_2050s</th>\n",
       "      <th>FVI_storm_surge_2080s</th>\n",
       "      <th>FVI_tidal_2020s</th>\n",
       "      <th>FVI_tidal_2050s</th>\n",
       "      <th>FVI_tidal_2080s</th>\n",
       "    </tr>\n",
       "  </thead>\n",
       "  <tbody>\n",
       "    <tr>\n",
       "      <th>0</th>\n",
       "      <td>MULTIPOLYGON (((-73.860344 40.83329400000001, ...</td>\n",
       "      <td>36005009200</td>\n",
       "      <td>4.0</td>\n",
       "      <td>NaN</td>\n",
       "      <td>NaN</td>\n",
       "      <td>NaN</td>\n",
       "      <td>NaN</td>\n",
       "      <td>NaN</td>\n",
       "      <td>NaN</td>\n",
       "    </tr>\n",
       "    <tr>\n",
       "      <th>1</th>\n",
       "      <td>MULTIPOLYGON (((-73.873954 40.83423700000001, ...</td>\n",
       "      <td>36005006400</td>\n",
       "      <td>5.0</td>\n",
       "      <td>NaN</td>\n",
       "      <td>NaN</td>\n",
       "      <td>5.0</td>\n",
       "      <td>NaN</td>\n",
       "      <td>NaN</td>\n",
       "      <td>NaN</td>\n",
       "    </tr>\n",
       "    <tr>\n",
       "      <th>2</th>\n",
       "      <td>MULTIPOLYGON (((-73.888319 40.84517900000001, ...</td>\n",
       "      <td>36005036501</td>\n",
       "      <td>3.0</td>\n",
       "      <td>NaN</td>\n",
       "      <td>NaN</td>\n",
       "      <td>NaN</td>\n",
       "      <td>NaN</td>\n",
       "      <td>NaN</td>\n",
       "      <td>NaN</td>\n",
       "    </tr>\n",
       "    <tr>\n",
       "      <th>3</th>\n",
       "      <td>MULTIPOLYGON (((-73.908225 40.816203, -73.9075...</td>\n",
       "      <td>36005007900</td>\n",
       "      <td>4.0</td>\n",
       "      <td>NaN</td>\n",
       "      <td>NaN</td>\n",
       "      <td>NaN</td>\n",
       "      <td>NaN</td>\n",
       "      <td>NaN</td>\n",
       "      <td>NaN</td>\n",
       "    </tr>\n",
       "    <tr>\n",
       "      <th>4</th>\n",
       "      <td>MULTIPOLYGON (((-73.920958 40.855112, -73.9200...</td>\n",
       "      <td>36005024700</td>\n",
       "      <td>1.0</td>\n",
       "      <td>NaN</td>\n",
       "      <td>NaN</td>\n",
       "      <td>NaN</td>\n",
       "      <td>NaN</td>\n",
       "      <td>NaN</td>\n",
       "      <td>NaN</td>\n",
       "    </tr>\n",
       "  </tbody>\n",
       "</table>\n",
       "</div>"
      ],
      "text/plain": [
       "                                            the_geom        GEOID  FSHRI  \\\n",
       "0  MULTIPOLYGON (((-73.860344 40.83329400000001, ...  36005009200    4.0   \n",
       "1  MULTIPOLYGON (((-73.873954 40.83423700000001, ...  36005006400    5.0   \n",
       "2  MULTIPOLYGON (((-73.888319 40.84517900000001, ...  36005036501    3.0   \n",
       "3  MULTIPOLYGON (((-73.908225 40.816203, -73.9075...  36005007900    4.0   \n",
       "4  MULTIPOLYGON (((-73.920958 40.855112, -73.9200...  36005024700    1.0   \n",
       "\n",
       "   FVI_storm_surge_present  FVI_storm_surge_2050s  FVI_storm_surge_2080s  \\\n",
       "0                      NaN                    NaN                    NaN   \n",
       "1                      NaN                    NaN                    5.0   \n",
       "2                      NaN                    NaN                    NaN   \n",
       "3                      NaN                    NaN                    NaN   \n",
       "4                      NaN                    NaN                    NaN   \n",
       "\n",
       "   FVI_tidal_2020s  FVI_tidal_2050s  FVI_tidal_2080s  \n",
       "0              NaN              NaN              NaN  \n",
       "1              NaN              NaN              NaN  \n",
       "2              NaN              NaN              NaN  \n",
       "3              NaN              NaN              NaN  \n",
       "4              NaN              NaN              NaN  "
      ]
     },
     "execution_count": 26,
     "metadata": {},
     "output_type": "execute_result"
    }
   ],
   "source": [
    "flood_data.head()"
   ]
  },
  {
   "cell_type": "code",
   "execution_count": 6,
   "id": "53bf58ca",
   "metadata": {},
   "outputs": [
    {
     "data": {
      "text/plain": [
       "the_geom                    object\n",
       "GEOID                        int64\n",
       "FSHRI                      float64\n",
       "FVI_storm_surge_present    float64\n",
       "FVI_storm_surge_2050s      float64\n",
       "FVI_storm_surge_2080s      float64\n",
       "FVI_tidal_2020s            float64\n",
       "FVI_tidal_2050s            float64\n",
       "FVI_tidal_2080s            float64\n",
       "dtype: object"
      ]
     },
     "execution_count": 6,
     "metadata": {},
     "output_type": "execute_result"
    }
   ],
   "source": [
    "flood_data.dtypes"
   ]
  },
  {
   "cell_type": "code",
   "execution_count": 27,
   "id": "618326b5",
   "metadata": {},
   "outputs": [],
   "source": [
    "flood_manhattan = flood_data[flood_data[\"GEOID\"].astype(str).str.startswith(\"36061\")]\n"
   ]
  },
  {
   "cell_type": "code",
   "execution_count": 28,
   "id": "a137f9fd",
   "metadata": {},
   "outputs": [
    {
     "data": {
      "text/html": [
       "<div>\n",
       "<style scoped>\n",
       "    .dataframe tbody tr th:only-of-type {\n",
       "        vertical-align: middle;\n",
       "    }\n",
       "\n",
       "    .dataframe tbody tr th {\n",
       "        vertical-align: top;\n",
       "    }\n",
       "\n",
       "    .dataframe thead th {\n",
       "        text-align: right;\n",
       "    }\n",
       "</style>\n",
       "<table border=\"1\" class=\"dataframe\">\n",
       "  <thead>\n",
       "    <tr style=\"text-align: right;\">\n",
       "      <th></th>\n",
       "      <th>the_geom</th>\n",
       "      <th>GEOID</th>\n",
       "      <th>FSHRI</th>\n",
       "      <th>FVI_storm_surge_present</th>\n",
       "      <th>FVI_storm_surge_2050s</th>\n",
       "      <th>FVI_storm_surge_2080s</th>\n",
       "      <th>FVI_tidal_2020s</th>\n",
       "      <th>FVI_tidal_2050s</th>\n",
       "      <th>FVI_tidal_2080s</th>\n",
       "    </tr>\n",
       "  </thead>\n",
       "  <tbody>\n",
       "    <tr>\n",
       "      <th>116</th>\n",
       "      <td>MULTIPOLYGON (((-73.98701500000001 40.76103799...</td>\n",
       "      <td>36061012500</td>\n",
       "      <td>1.0</td>\n",
       "      <td>NaN</td>\n",
       "      <td>NaN</td>\n",
       "      <td>NaN</td>\n",
       "      <td>NaN</td>\n",
       "      <td>NaN</td>\n",
       "      <td>NaN</td>\n",
       "    </tr>\n",
       "    <tr>\n",
       "      <th>117</th>\n",
       "      <td>MULTIPOLYGON (((-73.969337 40.763546999999996,...</td>\n",
       "      <td>36061011402</td>\n",
       "      <td>1.0</td>\n",
       "      <td>NaN</td>\n",
       "      <td>NaN</td>\n",
       "      <td>NaN</td>\n",
       "      <td>NaN</td>\n",
       "      <td>NaN</td>\n",
       "      <td>NaN</td>\n",
       "    </tr>\n",
       "    <tr>\n",
       "      <th>118</th>\n",
       "      <td>MULTIPOLYGON (((-73.989297 40.75790699999999, ...</td>\n",
       "      <td>36061011900</td>\n",
       "      <td>2.0</td>\n",
       "      <td>NaN</td>\n",
       "      <td>NaN</td>\n",
       "      <td>NaN</td>\n",
       "      <td>NaN</td>\n",
       "      <td>NaN</td>\n",
       "      <td>NaN</td>\n",
       "    </tr>\n",
       "    <tr>\n",
       "      <th>119</th>\n",
       "      <td>MULTIPOLYGON (((-73.954482 40.77813900000001, ...</td>\n",
       "      <td>36061014601</td>\n",
       "      <td>1.0</td>\n",
       "      <td>NaN</td>\n",
       "      <td>NaN</td>\n",
       "      <td>NaN</td>\n",
       "      <td>NaN</td>\n",
       "      <td>NaN</td>\n",
       "      <td>NaN</td>\n",
       "    </tr>\n",
       "    <tr>\n",
       "      <th>120</th>\n",
       "      <td>MULTIPOLYGON (((-73.940861 40.808334, -73.9404...</td>\n",
       "      <td>36061020600</td>\n",
       "      <td>2.0</td>\n",
       "      <td>NaN</td>\n",
       "      <td>1.0</td>\n",
       "      <td>2.0</td>\n",
       "      <td>NaN</td>\n",
       "      <td>NaN</td>\n",
       "      <td>NaN</td>\n",
       "    </tr>\n",
       "  </tbody>\n",
       "</table>\n",
       "</div>"
      ],
      "text/plain": [
       "                                              the_geom        GEOID  FSHRI  \\\n",
       "116  MULTIPOLYGON (((-73.98701500000001 40.76103799...  36061012500    1.0   \n",
       "117  MULTIPOLYGON (((-73.969337 40.763546999999996,...  36061011402    1.0   \n",
       "118  MULTIPOLYGON (((-73.989297 40.75790699999999, ...  36061011900    2.0   \n",
       "119  MULTIPOLYGON (((-73.954482 40.77813900000001, ...  36061014601    1.0   \n",
       "120  MULTIPOLYGON (((-73.940861 40.808334, -73.9404...  36061020600    2.0   \n",
       "\n",
       "     FVI_storm_surge_present  FVI_storm_surge_2050s  FVI_storm_surge_2080s  \\\n",
       "116                      NaN                    NaN                    NaN   \n",
       "117                      NaN                    NaN                    NaN   \n",
       "118                      NaN                    NaN                    NaN   \n",
       "119                      NaN                    NaN                    NaN   \n",
       "120                      NaN                    1.0                    2.0   \n",
       "\n",
       "     FVI_tidal_2020s  FVI_tidal_2050s  FVI_tidal_2080s  \n",
       "116              NaN              NaN              NaN  \n",
       "117              NaN              NaN              NaN  \n",
       "118              NaN              NaN              NaN  \n",
       "119              NaN              NaN              NaN  \n",
       "120              NaN              NaN              NaN  "
      ]
     },
     "execution_count": 28,
     "metadata": {},
     "output_type": "execute_result"
    }
   ],
   "source": [
    "flood_manhattan.head()"
   ]
  },
  {
   "cell_type": "code",
   "execution_count": 13,
   "id": "a6c8ab74",
   "metadata": {},
   "outputs": [
    {
     "data": {
      "text/plain": [
       "(300, 9)"
      ]
     },
     "execution_count": 13,
     "metadata": {},
     "output_type": "execute_result"
    }
   ],
   "source": [
    "flood_manhattan.shape"
   ]
  },
  {
   "cell_type": "code",
   "execution_count": 29,
   "id": "14d3fc7f",
   "metadata": {},
   "outputs": [
    {
     "name": "stdout",
     "output_type": "stream",
     "text": [
      "the_geom                     0\n",
      "GEOID                        0\n",
      "FSHRI                        0\n",
      "FVI_storm_surge_present    224\n",
      "FVI_storm_surge_2050s      197\n",
      "FVI_storm_surge_2080s      185\n",
      "FVI_tidal_2020s            292\n",
      "FVI_tidal_2050s            289\n",
      "FVI_tidal_2080s            271\n",
      "dtype: int64\n"
     ]
    }
   ],
   "source": [
    "missing_values = flood_manhattan.isna().sum()\n",
    "print(missing_values)"
   ]
  },
  {
   "cell_type": "code",
   "execution_count": 31,
   "id": "010c91f9",
   "metadata": {},
   "outputs": [
    {
     "data": {
      "text/plain": [
       "the_geom                    object\n",
       "GEOID                        int64\n",
       "FSHRI                      float64\n",
       "FVI_storm_surge_present    float64\n",
       "FVI_storm_surge_2050s      float64\n",
       "FVI_storm_surge_2080s      float64\n",
       "FVI_tidal_2020s            float64\n",
       "FVI_tidal_2050s            float64\n",
       "FVI_tidal_2080s            float64\n",
       "dtype: object"
      ]
     },
     "execution_count": 31,
     "metadata": {},
     "output_type": "execute_result"
    }
   ],
   "source": [
    "flood_manhattan.dtypes"
   ]
  },
  {
   "cell_type": "code",
   "execution_count": 32,
   "id": "c2e4f80a",
   "metadata": {},
   "outputs": [],
   "source": [
    "#Missing values will be imputed with 0\n",
    "flood_manhattan=flood_manhattan.fillna(0)"
   ]
  },
  {
   "cell_type": "code",
   "execution_count": null,
   "id": "ad4f636b",
   "metadata": {},
   "outputs": [],
   "source": [
    "#Normalize and Score"
   ]
  },
  {
   "cell_type": "code",
   "execution_count": null,
   "id": "d6435fac",
   "metadata": {},
   "outputs": [],
   "source": [
    "#Export Results into csv"
   ]
  }
 ],
 "metadata": {
  "kernelspec": {
   "display_name": "base",
   "language": "python",
   "name": "python3"
  },
  "language_info": {
   "codemirror_mode": {
    "name": "ipython",
    "version": 3
   },
   "file_extension": ".py",
   "mimetype": "text/x-python",
   "name": "python",
   "nbconvert_exporter": "python",
   "pygments_lexer": "ipython3",
   "version": "3.12.4"
  }
 },
 "nbformat": 4,
 "nbformat_minor": 5
}
