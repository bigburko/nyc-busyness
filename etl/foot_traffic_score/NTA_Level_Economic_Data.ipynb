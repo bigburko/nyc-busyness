{
 "cells": [
  {
   "cell_type": "code",
   "execution_count": 2,
   "metadata": {},
   "outputs": [],
   "source": [
    "import pandas as pd\n",
    "dem = pd.read_excel(\"/Users/jennifercasavantes/Downloads/Dem_1822_NTA (1).xlsx\")\n",
    "econ = pd.read_excel(\"/Users/jennifercasavantes/Downloads/Econ_1822_NTA.xlsx\")\n",
    "dem = dem[dem[\"GeoID\"].str.startswith(\"MN\")]\n",
    "econ = econ[econ[\"GeoID\"].str.startswith(\"MN\")]"
   ]
  },
  {
   "cell_type": "code",
   "execution_count": 3,
   "metadata": {},
   "outputs": [],
   "source": [
    "dem = dem[[\"GeoID\", \"GeogName\", \"Pop_1E\", \"MdAgeE\", \"WtNHE\", \"BlNHE\", \"AsnNHE\", \"Hsp1E\"]]\n",
    "econ = econ[[\"GeoID\", \"MdHHIncE\", \"PerCapIncE\", \"PopPvU1E\", \"PBwPvE\"]]"
   ]
  },
  {
   "cell_type": "code",
   "execution_count": 4,
   "metadata": {},
   "outputs": [],
   "source": [
    "acs = pd.merge(dem, econ, on=\"GeoID\")"
   ]
  },
  {
   "cell_type": "code",
   "execution_count": 5,
   "metadata": {},
   "outputs": [],
   "source": [
    "acs[\"% below poverty\"] = acs[\"PBwPvE\"] / acs[\"PopPvU1E\"]\n",
    "acs[\"% White\"] = acs[\"WtNHE\"] / acs[\"Pop_1E\"]\n",
    "acs[\"% Black\"] = acs[\"BlNHE\"] / acs[\"Pop_1E\"]\n",
    "acs[\"% Asian\"] = acs[\"AsnNHE\"] / acs[\"Pop_1E\"]\n",
    "acs[\"% Hispanic\"] = acs[\"Hsp1E\"] / acs[\"Pop_1E\"]"
   ]
  },
  {
   "cell_type": "code",
   "execution_count": 6,
   "metadata": {},
   "outputs": [],
   "source": [
    "acs = acs.rename(columns={\"GeoID\": \"nta_code\"})\n",
    "acs.to_csv(\"/Users/jennifercasavantes/Downloads/acs_by_nta.csv\", index=False)"
   ]
  }
 ],
 "metadata": {
  "kernelspec": {
   "display_name": "comp47350py311",
   "language": "python",
   "name": "python3"
  },
  "language_info": {
   "codemirror_mode": {
    "name": "ipython",
    "version": 3
   },
   "file_extension": ".py",
   "mimetype": "text/x-python",
   "name": "python",
   "nbconvert_exporter": "python",
   "pygments_lexer": "ipython3",
   "version": "3.11.11"
  }
 },
 "nbformat": 4,
 "nbformat_minor": 2
}
