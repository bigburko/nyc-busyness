{
 "cells": [
  {
   "cell_type": "markdown",
   "id": "72d8a784",
   "metadata": {},
   "source": [
    "## Mobility Score\n",
    "Combining Foot traffic and Subway score with a 65 / 35 weighting to get a combined Mobility score per census tract"
   ]
  },
  {
   "cell_type": "code",
   "execution_count": 3,
   "id": "cc29b08b",
   "metadata": {},
   "outputs": [],
   "source": [
    "import pandas as pd\n",
    "\n",
    "# Load the CSVs\n",
    "foot_traffic_df = pd.read_csv(\"foot_traffic_scores_by_tract.csv\")\n",
    "subway_score_df = pd.read_csv(\"subway_score_by_tract.csv\")\n",
    "\n",
    "# Merge on GEOID\n",
    "combined_df = pd.merge(foot_traffic_df, subway_score_df, on=\"GEOID\", how=\"inner\")\n",
    "\n",
    "# Compute combined score (65% foot traffic, 35% subway access)\n",
    "combined_df[\"combined_score\"] = (\n",
    "    0.65 * combined_df[\"foot_traffic_score\"] +\n",
    "    0.35 * combined_df[\"subway_score\"]\n",
    ").round(2)\n",
    "\n",
    "# Reorder columns\n",
    "combined_df = combined_df[[\"GEOID\", \"combined_score\", \"foot_traffic_score\", \"subway_score\"]]\n",
    "\n",
    "# Save to CSV\n",
    "combined_df.to_csv(\"combined_scores.csv\", index=False)\n"
   ]
  }
 ],
 "metadata": {
  "kernelspec": {
   "display_name": "base",
   "language": "python",
   "name": "python3"
  },
  "language_info": {
   "codemirror_mode": {
    "name": "ipython",
    "version": 3
   },
   "file_extension": ".py",
   "mimetype": "text/x-python",
   "name": "python",
   "nbconvert_exporter": "python",
   "pygments_lexer": "ipython3",
   "version": "3.12.7"
  }
 },
 "nbformat": 4,
 "nbformat_minor": 5
}
