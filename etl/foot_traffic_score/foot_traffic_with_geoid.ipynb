{
 "cells": [
  {
   "cell_type": "code",
   "execution_count": 33,
   "id": "d35854ce",
   "metadata": {},
   "outputs": [],
   "source": [
    "# Import required packages\n",
    "import pandas as pd\n",
    "import json\n"
   ]
  },
  {
   "cell_type": "code",
   "execution_count": 34,
   "id": "313c034a",
   "metadata": {},
   "outputs": [
    {
     "name": "stdout",
     "output_type": "stream",
     "text": [
      "Found 310 census tracts\n"
     ]
    }
   ],
   "source": [
    "# Read GEOID\n",
    "with open(r'C:\\Users\\lukej\\OneDrive\\Desktop\\nyc-busyness\\etl\\census tract geofiles\\manhattan_census_tracts.geojson', 'r') as f:\n",
    "    geojson = json.load(f)\n",
    "\n",
    "real_geoids = [feature['properties']['GEOID'] for feature in geojson['features']]\n",
    "print(f\"Found {len(real_geoids)} census tracts\")"
   ]
  },
  {
   "cell_type": "code",
   "execution_count": 35,
   "id": "64ecba84",
   "metadata": {},
   "outputs": [
    {
     "name": "stdout",
     "output_type": "stream",
     "text": [
      "Years in historical data before filtering: [2001, 2002, 2003, 2004, 2008, 2009, 2011, 2019, 2020, 2021, 2022, 2023, 2098]\n",
      "Years in historical data after filtering: [2019, 2020, 2021, 2022, 2023]\n",
      "Historical data shape: (67, 16)\n",
      "Historical columns: ['afternoon_2019', 'afternoon_2020', 'afternoon_2021', 'afternoon_2022', 'afternoon_2023']\n"
     ]
    }
   ],
   "source": [
    "# Process historical foot traffic data\n",
    "hist = pd.read_csv('foot_scores_years/all_foot_traffic_scores_with_daytime_category.csv')\n",
    "hist['year'] = pd.to_datetime(hist['trip_date']).dt.year\n",
    "\n",
    "print(\"Years in historical data before filtering:\", sorted(hist['year'].unique()))\n",
    "hist = hist[(hist['year'] >= 2019) & (hist['year'] <= 2030)]  # Keep only 2019-2023\n",
    "print(\"Years in historical data after filtering:\", sorted(hist['year'].unique()))\n",
    "\n",
    "hist['col'] = hist['daytime_category'] + '_' + hist['year'].astype(str)\n",
    "hist_wide = hist.pivot_table(index='LocationID', columns='col', values='daily_foot_traffic_score').reset_index()\n",
    "\n",
    "print(f\"Historical data shape: {hist_wide.shape}\")\n",
    "print(\"Historical columns:\", [col for col in hist_wide.columns if col != 'LocationID'][:5])"
   ]
  },
  {
   "cell_type": "code",
   "execution_count": 36,
   "id": "7c4557ab",
   "metadata": {},
   "outputs": [
    {
     "name": "stdout",
     "output_type": "stream",
     "text": [
      "Years in future data before filtering: [2025, 2026, 2027]\n",
      "Years in future data after filtering: [2025, 2026, 2027]\n"
     ]
    }
   ],
   "source": [
    "# Handle future data\n",
    "\n",
    "future = pd.read_csv('future_foot_traffic.csv')\n",
    "print(\"Years in future data before filtering:\", sorted(future['year'].unique()))\n",
    "future = future[future['year'] <= 2030]  # This line is fine\n",
    "print(\"Years in future data after filtering:\", sorted(future['year'].unique()))"
   ]
  },
  {
   "cell_type": "code",
   "execution_count": 37,
   "id": "2fdac69e",
   "metadata": {},
   "outputs": [
    {
     "name": "stdout",
     "output_type": "stream",
     "text": [
      "Combined data shape: (67, 25)\n",
      "Unique LocationIDs: [4, 12, 13, 24, 41, 42, 43, 45, 48, 50, 68, 74, 75, 79, 87, 88, 90, 100, 103, 107, 113, 114, 116, 120, 125, 127, 128, 137, 140, 141, 142, 143, 144, 148, 151, 152, 153, 158, 161, 162, 163, 164, 166, 170, 186, 194, 202, 209, 211, 224, 229, 230, 231, 232, 233, 234, 236, 237, 238, 239, 243, 244, 246, 249, 261, 262, 263]\n",
      "All columns: ['LocationID', 'afternoon_2019', 'afternoon_2020', 'afternoon_2021', 'afternoon_2022', 'afternoon_2023', 'evening_2019', 'evening_2020', 'evening_2021', 'evening_2022', 'evening_2023', 'morning_2019', 'morning_2020', 'morning_2021', 'morning_2022', 'morning_2023', 'afternoon_pred_2025', 'afternoon_pred_2026', 'afternoon_pred_2027', 'evening_pred_2025', 'evening_pred_2026', 'evening_pred_2027', 'morning_pred_2025', 'morning_pred_2026', 'morning_pred_2027']\n"
     ]
    }
   ],
   "source": [
    "# Combine historical and future data\n",
    "foot_traffic = hist_wide.merge(future_wide, on='LocationID', how='outer').fillna(0)\n",
    "unique_locations = sorted(foot_traffic['LocationID'].unique())\n",
    "print(f\"Combined data shape: {foot_traffic.shape}\")\n",
    "print(f\"Unique LocationIDs: {unique_locations}\")\n",
    "print(\"All columns:\", foot_traffic.columns.tolist())"
   ]
  },
  {
   "cell_type": "code",
   "execution_count": 38,
   "id": "99c23c13",
   "metadata": {},
   "outputs": [
    {
     "name": "stdout",
     "output_type": "stream",
     "text": [
      "Mapping 67 LocationIDs to 310 GEOIDs\n",
      "Approximately 4 census tracts per LocationID\n",
      "Created 310 rows for GEOID mapping\n"
     ]
    }
   ],
   "source": [
    "# Map LocationIDs to GEOIDs\n",
    "result_rows = []\n",
    "locations = sorted(foot_traffic['LocationID'].unique())\n",
    "tracts_per_location = len(real_geoids) // len(locations)\n",
    "\n",
    "print(f\"Mapping {len(locations)} LocationIDs to {len(real_geoids)} GEOIDs\")\n",
    "print(f\"Approximately {tracts_per_location} census tracts per LocationID\")\n",
    "\n",
    "geoid_index = 0\n",
    "for i, location_id in enumerate(locations):\n",
    "    location_data = foot_traffic[foot_traffic['LocationID'] == location_id].iloc[0]\n",
    "    num_geoids = tracts_per_location + (1 if i < len(real_geoids) % len(locations) else 0)\n",
    "    \n",
    "    for j in range(num_geoids):\n",
    "        if geoid_index < len(real_geoids):\n",
    "            row = {'GEOID': real_geoids[geoid_index]}\n",
    "            for col in foot_traffic.columns:\n",
    "                if col != 'LocationID':\n",
    "                    row[col] = location_data[col]\n",
    "            result_rows.append(row)\n",
    "            geoid_index += 1\n",
    "\n",
    "print(f\"Created {len(result_rows)} rows for GEOID mapping\")"
   ]
  },
  {
   "cell_type": "code",
   "execution_count": 39,
   "id": "0ee31177",
   "metadata": {},
   "outputs": [],
   "source": [
    "# Create and save final csv\n",
    "result_df = pd.DataFrame(result_rows)"
   ]
  },
  {
   "cell_type": "code",
   "execution_count": 40,
   "id": "9ea1a643",
   "metadata": {},
   "outputs": [],
   "source": [
    "# Sort columns\n",
    "cols = ['GEOID'] + sorted([col for col in result_df.columns if col != 'GEOID'])\n",
    "result_df = result_df[cols]"
   ]
  },
  {
   "cell_type": "code",
   "execution_count": 43,
   "id": "f9d2d04e",
   "metadata": {},
   "outputs": [],
   "source": [
    "# Round values and sort by GEOID\n",
    "result_df = result_df.round(2).sort_values('GEOID').reset_index(drop=True)"
   ]
  },
  {
   "cell_type": "code",
   "execution_count": 44,
   "id": "147c62ef",
   "metadata": {},
   "outputs": [],
   "source": [
    "# Save to csv\n",
    "result_df.to_csv('brickwyze_foot_traffic_real_geoid.csv', index=False)"
   ]
  }
 ],
 "metadata": {
  "kernelspec": {
   "display_name": "base",
   "language": "python",
   "name": "python3"
  },
  "language_info": {
   "codemirror_mode": {
    "name": "ipython",
    "version": 3
   },
   "file_extension": ".py",
   "mimetype": "text/x-python",
   "name": "python",
   "nbconvert_exporter": "python",
   "pygments_lexer": "ipython3",
   "version": "3.12.4"
  }
 },
 "nbformat": 4,
 "nbformat_minor": 5
}
