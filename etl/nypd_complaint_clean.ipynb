{
 "cells": [
  {
   "cell_type": "code",
   "execution_count": 2,
   "id": "f01e09ec",
   "metadata": {},
   "outputs": [],
   "source": [
    "#Import the required packages\n",
    "#Import package pandas for data analysis\n",
    "import pandas as pd\n",
    "\n",
    "# Import package numpy for numeric computing\n",
    "import numpy as np\n"
   ]
  },
  {
   "cell_type": "markdown",
   "id": "b752e2a9",
   "metadata": {},
   "source": [
    "The downloaded csv loaded in the next cell was filtered by for \"Manhattan\" so that only records related to Manhattan are present. No filtering for Manhattan within the notebook is therefore required."
   ]
  },
  {
   "cell_type": "code",
   "execution_count": 3,
   "id": "8a953797",
   "metadata": {},
   "outputs": [
    {
     "name": "stderr",
     "output_type": "stream",
     "text": [
      "C:\\Users\\lukej\\AppData\\Local\\Temp\\ipykernel_19676\\251043343.py:2: DtypeWarning: Columns (20) have mixed types. Specify dtype option on import or set low_memory=False.\n",
      "  df = pd.read_csv('NYPD_Complaint_Data_Historic_20250529.csv', keep_default_na=True, delimiter=',', skipinitialspace=True)\n"
     ]
    }
   ],
   "source": [
    "# Read csv file\n",
    "df = pd.read_csv('NYPD_Complaint_Data_Historic_20250529.csv', keep_default_na=True, delimiter=',', skipinitialspace=True)"
   ]
  },
  {
   "cell_type": "code",
   "execution_count": 4,
   "id": "ad4443cd",
   "metadata": {},
   "outputs": [],
   "source": [
    "#How many rows should be displayed in full\n",
    "pd.set_option('display.max_rows', 100)"
   ]
  },
  {
   "cell_type": "code",
   "execution_count": 5,
   "id": "5dc4fc62",
   "metadata": {},
   "outputs": [
    {
     "data": {
      "text/html": [
       "<div>\n",
       "<style scoped>\n",
       "    .dataframe tbody tr th:only-of-type {\n",
       "        vertical-align: middle;\n",
       "    }\n",
       "\n",
       "    .dataframe tbody tr th {\n",
       "        vertical-align: top;\n",
       "    }\n",
       "\n",
       "    .dataframe thead th {\n",
       "        text-align: right;\n",
       "    }\n",
       "</style>\n",
       "<table border=\"1\" class=\"dataframe\">\n",
       "  <thead>\n",
       "    <tr style=\"text-align: right;\">\n",
       "      <th></th>\n",
       "      <th>CMPLNT_NUM</th>\n",
       "      <th>CMPLNT_FR_DT</th>\n",
       "      <th>CMPLNT_FR_TM</th>\n",
       "      <th>CMPLNT_TO_DT</th>\n",
       "      <th>CMPLNT_TO_TM</th>\n",
       "      <th>ADDR_PCT_CD</th>\n",
       "      <th>RPT_DT</th>\n",
       "      <th>KY_CD</th>\n",
       "      <th>OFNS_DESC</th>\n",
       "      <th>PD_CD</th>\n",
       "      <th>...</th>\n",
       "      <th>SUSP_SEX</th>\n",
       "      <th>TRANSIT_DISTRICT</th>\n",
       "      <th>Latitude</th>\n",
       "      <th>Longitude</th>\n",
       "      <th>Lat_Lon</th>\n",
       "      <th>PATROL_BORO</th>\n",
       "      <th>STATION_NAME</th>\n",
       "      <th>VIC_AGE_GROUP</th>\n",
       "      <th>VIC_RACE</th>\n",
       "      <th>VIC_SEX</th>\n",
       "    </tr>\n",
       "  </thead>\n",
       "  <tbody>\n",
       "    <tr>\n",
       "      <th>0</th>\n",
       "      <td>298702363</td>\n",
       "      <td>12/31/2024</td>\n",
       "      <td>21:40:00</td>\n",
       "      <td>12/31/2024</td>\n",
       "      <td>21:48:00</td>\n",
       "      <td>34.0</td>\n",
       "      <td>12/31/2024</td>\n",
       "      <td>344</td>\n",
       "      <td>ASSAULT 3 &amp; RELATED OFFENSES</td>\n",
       "      <td>101.0</td>\n",
       "      <td>...</td>\n",
       "      <td>M</td>\n",
       "      <td>NaN</td>\n",
       "      <td>40.863997</td>\n",
       "      <td>-73.924890</td>\n",
       "      <td>(40.863997, -73.92489)</td>\n",
       "      <td>PATROL BORO MAN NORTH</td>\n",
       "      <td>(null)</td>\n",
       "      <td>25-44</td>\n",
       "      <td>BLACK HISPANIC</td>\n",
       "      <td>M</td>\n",
       "    </tr>\n",
       "    <tr>\n",
       "      <th>1</th>\n",
       "      <td>298744735</td>\n",
       "      <td>12/31/2024</td>\n",
       "      <td>17:45:00</td>\n",
       "      <td>12/31/2024</td>\n",
       "      <td>17:50:00</td>\n",
       "      <td>34.0</td>\n",
       "      <td>12/31/2024</td>\n",
       "      <td>578</td>\n",
       "      <td>HARRASSMENT 2</td>\n",
       "      <td>638.0</td>\n",
       "      <td>...</td>\n",
       "      <td>U</td>\n",
       "      <td>NaN</td>\n",
       "      <td>40.860560</td>\n",
       "      <td>-73.925726</td>\n",
       "      <td>(40.86056, -73.925726)</td>\n",
       "      <td>PATROL BORO MAN NORTH</td>\n",
       "      <td>(null)</td>\n",
       "      <td>45-64</td>\n",
       "      <td>WHITE</td>\n",
       "      <td>M</td>\n",
       "    </tr>\n",
       "    <tr>\n",
       "      <th>2</th>\n",
       "      <td>298703736</td>\n",
       "      <td>12/31/2024</td>\n",
       "      <td>21:40:00</td>\n",
       "      <td>12/31/2024</td>\n",
       "      <td>21:48:00</td>\n",
       "      <td>34.0</td>\n",
       "      <td>12/31/2024</td>\n",
       "      <td>344</td>\n",
       "      <td>ASSAULT 3 &amp; RELATED OFFENSES</td>\n",
       "      <td>101.0</td>\n",
       "      <td>...</td>\n",
       "      <td>M</td>\n",
       "      <td>NaN</td>\n",
       "      <td>40.863997</td>\n",
       "      <td>-73.924890</td>\n",
       "      <td>(40.863997, -73.92489)</td>\n",
       "      <td>PATROL BORO MAN NORTH</td>\n",
       "      <td>(null)</td>\n",
       "      <td>25-44</td>\n",
       "      <td>BLACK HISPANIC</td>\n",
       "      <td>M</td>\n",
       "    </tr>\n",
       "    <tr>\n",
       "      <th>3</th>\n",
       "      <td>298686998</td>\n",
       "      <td>12/31/2024</td>\n",
       "      <td>04:00:00</td>\n",
       "      <td>12/31/2024</td>\n",
       "      <td>04:08:00</td>\n",
       "      <td>34.0</td>\n",
       "      <td>12/31/2024</td>\n",
       "      <td>344</td>\n",
       "      <td>ASSAULT 3 &amp; RELATED OFFENSES</td>\n",
       "      <td>101.0</td>\n",
       "      <td>...</td>\n",
       "      <td>F</td>\n",
       "      <td>NaN</td>\n",
       "      <td>40.865311</td>\n",
       "      <td>-73.919680</td>\n",
       "      <td>(40.865311, -73.91968)</td>\n",
       "      <td>PATROL BORO MAN NORTH</td>\n",
       "      <td>(null)</td>\n",
       "      <td>25-44</td>\n",
       "      <td>WHITE HISPANIC</td>\n",
       "      <td>F</td>\n",
       "    </tr>\n",
       "    <tr>\n",
       "      <th>4</th>\n",
       "      <td>298697870</td>\n",
       "      <td>12/01/2024</td>\n",
       "      <td>13:33:00</td>\n",
       "      <td>12/31/2024</td>\n",
       "      <td>08:30:00</td>\n",
       "      <td>30.0</td>\n",
       "      <td>12/31/2024</td>\n",
       "      <td>112</td>\n",
       "      <td>THEFT-FRAUD</td>\n",
       "      <td>739.0</td>\n",
       "      <td>...</td>\n",
       "      <td>(null)</td>\n",
       "      <td>NaN</td>\n",
       "      <td>40.829688</td>\n",
       "      <td>-73.940649</td>\n",
       "      <td>(40.829688, -73.940649)</td>\n",
       "      <td>PATROL BORO MAN NORTH</td>\n",
       "      <td>(null)</td>\n",
       "      <td>65+</td>\n",
       "      <td>BLACK</td>\n",
       "      <td>M</td>\n",
       "    </tr>\n",
       "  </tbody>\n",
       "</table>\n",
       "<p>5 rows × 35 columns</p>\n",
       "</div>"
      ],
      "text/plain": [
       "  CMPLNT_NUM CMPLNT_FR_DT CMPLNT_FR_TM CMPLNT_TO_DT CMPLNT_TO_TM  ADDR_PCT_CD  \\\n",
       "0  298702363   12/31/2024     21:40:00   12/31/2024     21:48:00         34.0   \n",
       "1  298744735   12/31/2024     17:45:00   12/31/2024     17:50:00         34.0   \n",
       "2  298703736   12/31/2024     21:40:00   12/31/2024     21:48:00         34.0   \n",
       "3  298686998   12/31/2024     04:00:00   12/31/2024     04:08:00         34.0   \n",
       "4  298697870   12/01/2024     13:33:00   12/31/2024     08:30:00         30.0   \n",
       "\n",
       "       RPT_DT  KY_CD                     OFNS_DESC  PD_CD  ... SUSP_SEX  \\\n",
       "0  12/31/2024    344  ASSAULT 3 & RELATED OFFENSES  101.0  ...        M   \n",
       "1  12/31/2024    578                 HARRASSMENT 2  638.0  ...        U   \n",
       "2  12/31/2024    344  ASSAULT 3 & RELATED OFFENSES  101.0  ...        M   \n",
       "3  12/31/2024    344  ASSAULT 3 & RELATED OFFENSES  101.0  ...        F   \n",
       "4  12/31/2024    112                   THEFT-FRAUD  739.0  ...   (null)   \n",
       "\n",
       "  TRANSIT_DISTRICT   Latitude  Longitude                  Lat_Lon  \\\n",
       "0              NaN  40.863997 -73.924890   (40.863997, -73.92489)   \n",
       "1              NaN  40.860560 -73.925726   (40.86056, -73.925726)   \n",
       "2              NaN  40.863997 -73.924890   (40.863997, -73.92489)   \n",
       "3              NaN  40.865311 -73.919680   (40.865311, -73.91968)   \n",
       "4              NaN  40.829688 -73.940649  (40.829688, -73.940649)   \n",
       "\n",
       "             PATROL_BORO STATION_NAME  VIC_AGE_GROUP        VIC_RACE VIC_SEX  \n",
       "0  PATROL BORO MAN NORTH       (null)          25-44  BLACK HISPANIC       M  \n",
       "1  PATROL BORO MAN NORTH       (null)          45-64           WHITE       M  \n",
       "2  PATROL BORO MAN NORTH       (null)          25-44  BLACK HISPANIC       M  \n",
       "3  PATROL BORO MAN NORTH       (null)          25-44  WHITE HISPANIC       F  \n",
       "4  PATROL BORO MAN NORTH       (null)            65+           BLACK       M  \n",
       "\n",
       "[5 rows x 35 columns]"
      ]
     },
     "execution_count": 5,
     "metadata": {},
     "output_type": "execute_result"
    }
   ],
   "source": [
    "# Show data frame first few rows\n",
    "df.head()"
   ]
  },
  {
   "cell_type": "code",
   "execution_count": 6,
   "id": "2ab76dbb",
   "metadata": {},
   "outputs": [
    {
     "name": "stdout",
     "output_type": "stream",
     "text": [
      "Selected 5 columns: ['CMPLNT_FR_DT', 'OFNS_DESC', 'LAW_CAT_CD', 'Latitude', 'Longitude']\n"
     ]
    }
   ],
   "source": [
    "# Keep only relevant columns for Brickwyze crime scoring\n",
    "required_columns = [\"CMPLNT_FR_DT\", \"OFNS_DESC\", \"LAW_CAT_CD\", \"Latitude\", \"Longitude\"]\n",
    "\n",
    "# Check if all required columns exist\n",
    "missing_cols = [col for col in required_columns if col not in df.columns]\n",
    "if missing_cols:\n",
    "    print(f\"Warning: Missing columns: {missing_cols}\")\n",
    "    # Use only available columns\n",
    "    available_cols = [col for col in required_columns if col in df.columns]\n",
    "    df_cleaned = df[available_cols]\n",
    "else:\n",
    "    df_cleaned = df[required_columns]\n",
    "\n",
    "print(f\"Selected {len(df_cleaned.columns)} columns: {list(df_cleaned.columns)}\")\n"
   ]
  },
  {
   "cell_type": "code",
   "execution_count": 7,
   "id": "5fe3b6ec",
   "metadata": {},
   "outputs": [
    {
     "name": "stdout",
     "output_type": "stream",
     "text": [
      "Removed 73 records with null coordinates\n",
      "Remaining records: 2,288,039\n"
     ]
    }
   ],
   "source": [
    "# Remove rows with null coordinates\n",
    "initial_count = len(df_cleaned)\n",
    "df_cleaned = df_cleaned.dropna(subset=[\"Latitude\", \"Longitude\"])\n",
    "removed_count = initial_count - len(df_cleaned)\n",
    "print(f\"Removed {removed_count:,} records with null coordinates\")\n",
    "print(f\"Remaining records: {len(df_cleaned):,}\")"
   ]
  },
  {
   "cell_type": "code",
   "execution_count": 8,
   "id": "daf7d60f",
   "metadata": {},
   "outputs": [],
   "source": [
    "# Add crime severity weights\n",
    "\n",
    "def assign_severity_weight(law_cat):\n",
    "    \"\"\"\n",
    "    Assign numerical weight based on crime severity:\n",
    "    FELONY = 3 points\n",
    "    MISDEMEANOR = 2 points\n",
    "    VIOLATION = 1 point\n",
    "    \"\"\"\n",
    "    if pd.isna(law_cat):\n",
    "        return 0\n",
    "    law_cat = str(law_cat).upper()\n",
    "    if law_cat == \"FELONY\":\n",
    "        return 3\n",
    "    elif law_cat == \"MISDEMEANOR\":\n",
    "        return 2\n",
    "    elif law_cat == \"VIOLATION\":\n",
    "        return 1\n",
    "    else:\n",
    "        return 0\n",
    "\n",
    "df_cleaned[\"severity_weight\"] = df_cleaned[\"LAW_CAT_CD\"].apply(assign_severity_weight)\n"
   ]
  },
  {
   "cell_type": "code",
   "execution_count": 9,
   "id": "53e47d36",
   "metadata": {},
   "outputs": [],
   "source": [
    "# Rename columns\n",
    "column_mapping = {\n",
    "    \"CMPLNT_FR_DT\": \"Date\",\n",
    "    \"OFNS_DESC\": \"Crime_Type\", \n",
    "    \"LAW_CAT_CD\": \"Severity\",\n",
    "    \"Latitude\": \"Latitude\",\n",
    "    \"Longitude\": \"Longitude\"\n",
    "}\n",
    "\n",
    "df_final = df_cleaned.rename(columns=column_mapping)\n"
   ]
  },
  {
   "cell_type": "code",
   "execution_count": 10,
   "id": "be6b2d1c",
   "metadata": {},
   "outputs": [],
   "source": [
    "# Clean data types and remove invalid rows\n",
    "# Convert date column to datetime\n",
    "if \"Date\" in df_final.columns:\n",
    "    df_final[\"Date\"] = pd.to_datetime(df_final[\"Date\"], errors='coerce')\n",
    "\n",
    "# Drop any rows with missing critical values\n",
    "df_final = df_final.dropna(subset=[\"Date\", \"Crime_Type\", \"Severity\"])\n",
    "\n",
    "# Sort by date (most recent first)\n",
    "df_final = df_final.sort_values(\"Date\", ascending=False)\n"
   ]
  },
  {
   "cell_type": "code",
   "execution_count": 11,
   "id": "994736f7",
   "metadata": {},
   "outputs": [
    {
     "name": "stdout",
     "output_type": "stream",
     "text": [
      "Fixing date range...\n",
      "Before date filter: 2,287,851 records\n",
      "Date range: 1900-05-08 00:00:00 to 2024-12-31 00:00:00\n",
      "After date filter: 839,316 records\n",
      "New date range: 2018-01-01 00:00:00 to 2024-12-31 00:00:00\n"
     ]
    }
   ],
   "source": [
    "# Remove obviously incorrect dates\n",
    "print(\"Fixing date range...\")\n",
    "print(f\"Before date filter: {len(df_final):,} records\")\n",
    "print(f\"Date range: {df_final['Date'].min()} to {df_final['Date'].max()}\")\n",
    "\n",
    "# Remove dates before 2000 (data entry errors)\n",
    "df_final = df_final[df_final['Date'] >= '2018-01-01']\n",
    "\n",
    "print(f\"After date filter: {len(df_final):,} records\") \n",
    "print(f\"New date range: {df_final['Date'].min()} to {df_final['Date'].max()}\")"
   ]
  },
  {
   "cell_type": "code",
   "execution_count": 12,
   "id": "94fca389",
   "metadata": {},
   "outputs": [
    {
     "name": "stdout",
     "output_type": "stream",
     "text": [
      "Cleaning coordinate data...\n",
      "Removed 28,932 records with invalid Manhattan coordinates\n",
      "Remaining records: 810,384\n"
     ]
    }
   ],
   "source": [
    "# Remove invalid coordinates (outside Manhattan bounds)\n",
    "print(\"Cleaning coordinate data...\")\n",
    "\n",
    "# Manhattan approximate bounds: \n",
    "# Latitude: 40.70 to 40.88\n",
    "# Longitude: -74.02 to -73.93\n",
    "before_coord_clean = len(df_final)\n",
    "df_final = df_final[\n",
    "    (df_final[\"Latitude\"] >= 40.70) & (df_final[\"Latitude\"] <= 40.88) &\n",
    "    (df_final[\"Longitude\"] >= -74.02) & (df_final[\"Longitude\"] <= -73.93)\n",
    "]\n",
    "coord_removed = before_coord_clean - len(df_final)\n",
    "print(f\"Removed {coord_removed:,} records with invalid Manhattan coordinates\")\n",
    "print(f\"Remaining records: {len(df_final):,}\")"
   ]
  },
  {
   "cell_type": "code",
   "execution_count": 13,
   "id": "3568cd64",
   "metadata": {},
   "outputs": [
    {
     "name": "stdout",
     "output_type": "stream",
     "text": [
      "Removing duplicate incidents...\n",
      "Removed 61,168 duplicate records\n",
      "Cleaned records: 749,216\n"
     ]
    }
   ],
   "source": [
    "# Remove duplicate incidents (same crime, same location, same date)\n",
    "print(\"Removing duplicate incidents...\")\n",
    "before_dedup = len(df_final)\n",
    "df_final = df_final.drop_duplicates(\n",
    "    subset=[\"Date\", \"Crime_Type\", \"Severity\", \"Latitude\", \"Longitude\"]\n",
    ")\n",
    "dedup_removed = before_dedup - len(df_final)\n",
    "print(f\"Removed {dedup_removed:,} duplicate records\")\n",
    "print(f\"Cleaned records: {len(df_final):,}\")"
   ]
  },
  {
   "cell_type": "code",
   "execution_count": 14,
   "id": "39e3e3b6",
   "metadata": {},
   "outputs": [
    {
     "name": "stdout",
     "output_type": "stream",
     "text": [
      "Standardizing crime types...\n",
      "Sample of standardized crime types:\n",
      "Crime_Type\n",
      "PETIT LARCENY                     175686\n",
      "GRAND LARCENY                     106234\n",
      "HARRASSMENT 2                      98388\n",
      "ASSAULT 3 & RELATED OFFENSES       68553\n",
      "CRIMINAL MISCHIEF & RELATED OF     60669\n",
      "FELONY ASSAULT                     28167\n",
      "OFF. AGNST PUB ORD SENSBLTY &      25367\n",
      "BURGLARY                           23691\n",
      "ROBBERY                            23047\n",
      "DANGEROUS DRUGS                    22050\n",
      "Name: count, dtype: int64\n"
     ]
    }
   ],
   "source": [
    "# Clean and standardize crime type descriptions\n",
    "print(\"Standardizing crime types...\")\n",
    "df_final[\"Crime_Type\"] = df_final[\"Crime_Type\"].str.strip().str.upper()\n",
    "\n",
    "# Show the effect\n",
    "print(\"Sample of standardized crime types:\")\n",
    "print(df_final[\"Crime_Type\"].value_counts().head(10))"
   ]
  },
  {
   "cell_type": "code",
   "execution_count": 15,
   "id": "c5a15a63",
   "metadata": {},
   "outputs": [
    {
     "name": "stdout",
     "output_type": "stream",
     "text": [
      "Adding time-based features...\n",
      "Time features added: Year, Month, DayOfWeek, Hour\n",
      "Date range by year:\n",
      "Year\n",
      "2020     88533\n",
      "2021     98967\n",
      "2022    117216\n",
      "2023    117117\n",
      "2024    118498\n",
      "Name: count, dtype: int64\n"
     ]
    }
   ],
   "source": [
    "# Add time-based features for analysis\n",
    "print(\"Adding time-based features...\")\n",
    "\n",
    "df_final[\"Year\"] = df_final[\"Date\"].dt.year\n",
    "df_final[\"Month\"] = df_final[\"Date\"].dt.month\n",
    "df_final[\"DayOfWeek\"] = df_final[\"Date\"].dt.dayofweek  # 0=Monday, 6=Sunday\n",
    "df_final[\"Hour\"] = df_final[\"Date\"].dt.hour\n",
    "\n",
    "print(\"Time features added: Year, Month, DayOfWeek, Hour\")\n",
    "print(f\"Date range by year:\")\n",
    "print(df_final[\"Year\"].value_counts().sort_index().tail())"
   ]
  },
  {
   "cell_type": "code",
   "execution_count": 16,
   "id": "fc874276",
   "metadata": {},
   "outputs": [
    {
     "name": "stdout",
     "output_type": "stream",
     "text": [
      "=== FINAL DATA QUALITY SUMMARY ===\n",
      "Total records: 749,216\n",
      "Columns: ['Date', 'Crime_Type', 'Severity', 'Latitude', 'Longitude', 'severity_weight', 'Year', 'Month', 'DayOfWeek', 'Hour']\n",
      "Date range: 2018-01-01 00:00:00 to 2024-12-31 00:00:00\n",
      "Coordinate bounds:\n",
      "  Latitude: 40.701132 to 40.869042\n",
      "  Longitude: -74.018156 to -73.930009\n",
      "Missing values per column:\n",
      "Date               0\n",
      "Crime_Type         0\n",
      "Severity           0\n",
      "Latitude           0\n",
      "Longitude          0\n",
      "severity_weight    0\n",
      "Year               0\n",
      "Month              0\n",
      "DayOfWeek          0\n",
      "Hour               0\n",
      "dtype: int64\n"
     ]
    }
   ],
   "source": [
    "# Final data quality summary\n",
    "print(\"=== FINAL DATA QUALITY SUMMARY ===\")\n",
    "print(f\"Total records: {len(df_final):,}\")\n",
    "print(f\"Columns: {list(df_final.columns)}\")\n",
    "print(f\"Date range: {df_final['Date'].min()} to {df_final['Date'].max()}\")\n",
    "print(f\"Coordinate bounds:\")\n",
    "print(f\"  Latitude: {df_final['Latitude'].min():.6f} to {df_final['Latitude'].max():.6f}\")\n",
    "print(f\"  Longitude: {df_final['Longitude'].min():.6f} to {df_final['Longitude'].max():.6f}\")\n",
    "print(f\"Missing values per column:\")\n",
    "print(df_final.isnull().sum())"
   ]
  },
  {
   "cell_type": "code",
   "execution_count": 17,
   "id": "f723da08",
   "metadata": {},
   "outputs": [
    {
     "name": "stdout",
     "output_type": "stream",
     "text": [
      "Saved: nypd_complaints_cleaned.csv\n"
     ]
    }
   ],
   "source": [
    "# Save the clean csv file\n",
    "df_final.to_csv(\"nypd_complaints_cleaned.csv\", index=False)\n",
    "print(\"Saved: nypd_complaints_cleaned.csv\")"
   ]
  }
 ],
 "metadata": {
  "kernelspec": {
   "display_name": "base",
   "language": "python",
   "name": "python3"
  },
  "language_info": {
   "codemirror_mode": {
    "name": "ipython",
    "version": 3
   },
   "file_extension": ".py",
   "mimetype": "text/x-python",
   "name": "python",
   "nbconvert_exporter": "python",
   "pygments_lexer": "ipython3",
   "version": "3.12.4"
  }
 },
 "nbformat": 4,
 "nbformat_minor": 5
}
