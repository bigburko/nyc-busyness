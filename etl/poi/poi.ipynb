{
 "cells": [
  {
   "cell_type": "markdown",
   "id": "37f8c732",
   "metadata": {},
   "source": [
    "## Relevant POI data\n",
    "\n",
    "dataset from Geofabric (http://download.geofabrik.de/north-america/us.html)"
   ]
  },
  {
   "cell_type": "code",
   "execution_count": 87,
   "id": "328aa94a",
   "metadata": {},
   "outputs": [],
   "source": [
    "#import necessary packages\n",
    "import pandas as pd\n",
    "\n",
    "# Import package numpy for numeric computing\n",
    "import numpy as np\n",
    "\n",
    "# Import package matplotlib for visualisation/plotting\n",
    "import matplotlib.pyplot as plt\n",
    "\n",
    "import geopandas as gpd\n",
    "\n",
    "from shapely.geometry import Point\n"
   ]
  },
  {
   "cell_type": "code",
   "execution_count": 88,
   "id": "9d656d96",
   "metadata": {},
   "outputs": [],
   "source": [
    "pd.set_option('display.max_rows', None)\n",
    "pd.set_option('display.max_columns', None)"
   ]
  },
  {
   "cell_type": "code",
   "execution_count": 89,
   "id": "62118fb4",
   "metadata": {},
   "outputs": [],
   "source": [
    "poi_data = gpd.read_file('poi_shapefiles/gis_osm_pois_free_1.shp')"
   ]
  },
  {
   "cell_type": "code",
   "execution_count": 90,
   "id": "9ecfcf40",
   "metadata": {},
   "outputs": [
    {
     "data": {
      "text/html": [
       "<div>\n",
       "<style scoped>\n",
       "    .dataframe tbody tr th:only-of-type {\n",
       "        vertical-align: middle;\n",
       "    }\n",
       "\n",
       "    .dataframe tbody tr th {\n",
       "        vertical-align: top;\n",
       "    }\n",
       "\n",
       "    .dataframe thead th {\n",
       "        text-align: right;\n",
       "    }\n",
       "</style>\n",
       "<table border=\"1\" class=\"dataframe\">\n",
       "  <thead>\n",
       "    <tr style=\"text-align: right;\">\n",
       "      <th></th>\n",
       "      <th>osm_id</th>\n",
       "      <th>code</th>\n",
       "      <th>fclass</th>\n",
       "      <th>name</th>\n",
       "      <th>geometry</th>\n",
       "    </tr>\n",
       "  </thead>\n",
       "  <tbody>\n",
       "    <tr>\n",
       "      <th>0</th>\n",
       "      <td>42105926</td>\n",
       "      <td>2907</td>\n",
       "      <td>camera_surveillance</td>\n",
       "      <td>None</td>\n",
       "      <td>POINT (-73.72159 43.05355)</td>\n",
       "    </tr>\n",
       "    <tr>\n",
       "      <th>1</th>\n",
       "      <td>42503788</td>\n",
       "      <td>2907</td>\n",
       "      <td>camera_surveillance</td>\n",
       "      <td>None</td>\n",
       "      <td>POINT (-73.89108 40.65626)</td>\n",
       "    </tr>\n",
       "    <tr>\n",
       "      <th>2</th>\n",
       "      <td>42503792</td>\n",
       "      <td>2907</td>\n",
       "      <td>camera_surveillance</td>\n",
       "      <td>None</td>\n",
       "      <td>POINT (-73.88998 40.65478)</td>\n",
       "    </tr>\n",
       "    <tr>\n",
       "      <th>3</th>\n",
       "      <td>42538083</td>\n",
       "      <td>2902</td>\n",
       "      <td>bench</td>\n",
       "      <td>None</td>\n",
       "      <td>POINT (-73.9707 40.67335)</td>\n",
       "    </tr>\n",
       "    <tr>\n",
       "      <th>4</th>\n",
       "      <td>43058007</td>\n",
       "      <td>2204</td>\n",
       "      <td>park</td>\n",
       "      <td>Kibler Park</td>\n",
       "      <td>POINT (-78.67233 43.16559)</td>\n",
       "    </tr>\n",
       "  </tbody>\n",
       "</table>\n",
       "</div>"
      ],
      "text/plain": [
       "     osm_id  code               fclass         name  \\\n",
       "0  42105926  2907  camera_surveillance         None   \n",
       "1  42503788  2907  camera_surveillance         None   \n",
       "2  42503792  2907  camera_surveillance         None   \n",
       "3  42538083  2902                bench         None   \n",
       "4  43058007  2204                 park  Kibler Park   \n",
       "\n",
       "                     geometry  \n",
       "0  POINT (-73.72159 43.05355)  \n",
       "1  POINT (-73.89108 40.65626)  \n",
       "2  POINT (-73.88998 40.65478)  \n",
       "3   POINT (-73.9707 40.67335)  \n",
       "4  POINT (-78.67233 43.16559)  "
      ]
     },
     "execution_count": 90,
     "metadata": {},
     "output_type": "execute_result"
    }
   ],
   "source": [
    "poi_data.head()"
   ]
  },
  {
   "cell_type": "code",
   "execution_count": 91,
   "id": "13a281d9",
   "metadata": {},
   "outputs": [
    {
     "data": {
      "text/plain": [
       "(119510, 5)"
      ]
     },
     "execution_count": 91,
     "metadata": {},
     "output_type": "execute_result"
    }
   ],
   "source": [
    "poi_data.shape"
   ]
  },
  {
   "cell_type": "code",
   "execution_count": 92,
   "id": "c350fd48",
   "metadata": {},
   "outputs": [
    {
     "data": {
      "text/plain": [
       "osm_id          0\n",
       "code            0\n",
       "fclass          0\n",
       "name        51148\n",
       "geometry        0\n",
       "dtype: int64"
      ]
     },
     "execution_count": 92,
     "metadata": {},
     "output_type": "execute_result"
    }
   ],
   "source": [
    "poi_data.isnull().sum()"
   ]
  },
  {
   "cell_type": "code",
   "execution_count": 93,
   "id": "d2472289",
   "metadata": {},
   "outputs": [
    {
     "name": "stdout",
     "output_type": "stream",
     "text": [
      "      osm_id  code               fclass  name                    geometry\n",
      "0   42105926  2907  camera_surveillance  None  POINT (-73.72159 43.05355)\n",
      "1   42503788  2907  camera_surveillance  None  POINT (-73.89108 40.65626)\n",
      "2   42503792  2907  camera_surveillance  None  POINT (-73.88998 40.65478)\n",
      "3   42538083  2902                bench  None   POINT (-73.9707 40.67335)\n",
      "9  111266407  2742            viewpoint  None  POINT (-78.90175 42.89644)\n"
     ]
    }
   ],
   "source": [
    "missing_poi=poi_data[poi_data['name'].isnull()]\n",
    "print(missing_poi.head())"
   ]
  },
  {
   "cell_type": "code",
   "execution_count": 94,
   "id": "0439e277",
   "metadata": {},
   "outputs": [
    {
     "data": {
      "text/plain": [
       "array(['camera_surveillance', 'bench', 'viewpoint', 'tourist_info',\n",
       "       'fire_station', 'memorial', 'tower', 'ruins', 'toilet',\n",
       "       'lighthouse', 'water_tower', 'drinking_water', 'convenience',\n",
       "       'bank', 'post_office', 'school', 'comms_tower', 'post_box',\n",
       "       'artwork', 'fountain', 'playground', 'prison', 'theatre',\n",
       "       'restaurant', 'museum', 'waste_basket', 'recycling_glass', 'atm',\n",
       "       'telephone', 'picnic_site', 'hotel', 'shelter', 'recycling',\n",
       "       'supermarket', 'police', 'pub', 'water_mill', 'laundry',\n",
       "       'gift_shop', 'optician', 'hostel', 'garden_centre', 'pharmacy',\n",
       "       'bar', 'fast_food', 'cafe', 'hairdresser', 'courthouse', 'bakery',\n",
       "       'vending_machine', 'monument', 'guesthouse', 'graveyard',\n",
       "       'vending_any', 'dentist', 'car_sharing', 'florist', 'water_well',\n",
       "       'car_dealership', 'beverages', 'clothes', 'market_place',\n",
       "       'camp_site', 'pitch', 'car_wash', 'library', 'doityourself',\n",
       "       'caravan_site', 'observation_tower', 'kiosk', 'bicycle_shop',\n",
       "       'hospital', 'jeweller', 'doctors', 'windmill', 'wayside_shrine',\n",
       "       'hunting_stand', 'travel_agent', 'chemist', 'beauty_shop',\n",
       "       'clinic', 'mobile_phone_shop', 'toy_shop', 'butcher', 'motel',\n",
       "       'vending_parking', 'newsagent', 'kindergarten', 'greengrocer',\n",
       "       'community_centre', 'sports_centre', 'alpine_hut',\n",
       "       'recycling_paper', 'bookshop', 'food_court', 'recycling_clothes',\n",
       "       'park', 'track', 'cinema', 'golf_course', 'attraction',\n",
       "       'car_rental', 'chalet', 'sports_shop', 'castle', 'swimming_pool',\n",
       "       'wayside_cross', 'bicycle_rental', 'computer_shop',\n",
       "       'department_store', 'veterinary', 'water_works', 'arts_centre',\n",
       "       'ice_rink', 'nursing_home', 'outdoor_shop', 'furniture_shop',\n",
       "       'shoe_shop', 'dog_park', 'stationery', 'general', 'town_hall',\n",
       "       'stadium', 'zoo', 'video_shop', 'university'], dtype=object)"
      ]
     },
     "execution_count": 94,
     "metadata": {},
     "output_type": "execute_result"
    }
   ],
   "source": [
    "missing_poi['fclass'].unique()"
   ]
  },
  {
   "cell_type": "code",
   "execution_count": 95,
   "id": "c6eff0b7",
   "metadata": {},
   "outputs": [
    {
     "data": {
      "text/html": [
       "<div>\n",
       "<style scoped>\n",
       "    .dataframe tbody tr th:only-of-type {\n",
       "        vertical-align: middle;\n",
       "    }\n",
       "\n",
       "    .dataframe tbody tr th {\n",
       "        vertical-align: top;\n",
       "    }\n",
       "\n",
       "    .dataframe thead th {\n",
       "        text-align: right;\n",
       "    }\n",
       "</style>\n",
       "<table border=\"1\" class=\"dataframe\">\n",
       "  <thead>\n",
       "    <tr style=\"text-align: right;\">\n",
       "      <th></th>\n",
       "      <th>osm_id</th>\n",
       "      <th>code</th>\n",
       "      <th>fclass</th>\n",
       "      <th>name</th>\n",
       "      <th>geometry</th>\n",
       "    </tr>\n",
       "  </thead>\n",
       "  <tbody>\n",
       "    <tr>\n",
       "      <th>4</th>\n",
       "      <td>43058007</td>\n",
       "      <td>2204</td>\n",
       "      <td>park</td>\n",
       "      <td>Kibler Park</td>\n",
       "      <td>POINT (-78.67233 43.16559)</td>\n",
       "    </tr>\n",
       "    <tr>\n",
       "      <th>5</th>\n",
       "      <td>60700639</td>\n",
       "      <td>2404</td>\n",
       "      <td>guesthouse</td>\n",
       "      <td>Inn By The Park</td>\n",
       "      <td>POINT (-75.17913 44.8968)</td>\n",
       "    </tr>\n",
       "    <tr>\n",
       "      <th>6</th>\n",
       "      <td>75427609</td>\n",
       "      <td>2723</td>\n",
       "      <td>monument</td>\n",
       "      <td>Tri-State Marker</td>\n",
       "      <td>POINT (-73.48734 42.04954)</td>\n",
       "    </tr>\n",
       "    <tr>\n",
       "      <th>7</th>\n",
       "      <td>75427609</td>\n",
       "      <td>2721</td>\n",
       "      <td>attraction</td>\n",
       "      <td>Tri-State Marker</td>\n",
       "      <td>POINT (-73.48734 42.04954)</td>\n",
       "    </tr>\n",
       "    <tr>\n",
       "      <th>8</th>\n",
       "      <td>103786325</td>\n",
       "      <td>2082</td>\n",
       "      <td>school</td>\n",
       "      <td>Northwood Elementary School</td>\n",
       "      <td>POINT (-78.74288 42.86341)</td>\n",
       "    </tr>\n",
       "  </tbody>\n",
       "</table>\n",
       "</div>"
      ],
      "text/plain": [
       "      osm_id  code      fclass                         name  \\\n",
       "4   43058007  2204        park                  Kibler Park   \n",
       "5   60700639  2404  guesthouse              Inn By The Park   \n",
       "6   75427609  2723    monument             Tri-State Marker   \n",
       "7   75427609  2721  attraction             Tri-State Marker   \n",
       "8  103786325  2082      school  Northwood Elementary School   \n",
       "\n",
       "                     geometry  \n",
       "4  POINT (-78.67233 43.16559)  \n",
       "5   POINT (-75.17913 44.8968)  \n",
       "6  POINT (-73.48734 42.04954)  \n",
       "7  POINT (-73.48734 42.04954)  \n",
       "8  POINT (-78.74288 42.86341)  "
      ]
     },
     "execution_count": 95,
     "metadata": {},
     "output_type": "execute_result"
    }
   ],
   "source": [
    "poi_data[poi_data['name'].notnull()].head()\n"
   ]
  },
  {
   "cell_type": "code",
   "execution_count": 96,
   "id": "a0b235cf",
   "metadata": {},
   "outputs": [],
   "source": [
    "#Replace missing values with the fclass\n",
    "poi_data['name'] = poi_data['name'].fillna(poi_data['fclass'])"
   ]
  },
  {
   "cell_type": "code",
   "execution_count": 97,
   "id": "00aa56c4",
   "metadata": {},
   "outputs": [
    {
     "data": {
      "text/plain": [
       "osm_id      0\n",
       "code        0\n",
       "fclass      0\n",
       "name        0\n",
       "geometry    0\n",
       "dtype: int64"
      ]
     },
     "execution_count": 97,
     "metadata": {},
     "output_type": "execute_result"
    }
   ],
   "source": [
    "poi_data.isnull().sum()"
   ]
  },
  {
   "cell_type": "code",
   "execution_count": 98,
   "id": "3ddb527c",
   "metadata": {},
   "outputs": [],
   "source": [
    "tracts = gpd.read_file('../census tract geofiles/manhattan_census_tracts.geojson')"
   ]
  },
  {
   "cell_type": "code",
   "execution_count": 99,
   "id": "8eeba73a",
   "metadata": {},
   "outputs": [
    {
     "data": {
      "text/html": [
       "<div>\n",
       "<style scoped>\n",
       "    .dataframe tbody tr th:only-of-type {\n",
       "        vertical-align: middle;\n",
       "    }\n",
       "\n",
       "    .dataframe tbody tr th {\n",
       "        vertical-align: top;\n",
       "    }\n",
       "\n",
       "    .dataframe thead th {\n",
       "        text-align: right;\n",
       "    }\n",
       "</style>\n",
       "<table border=\"1\" class=\"dataframe\">\n",
       "  <thead>\n",
       "    <tr style=\"text-align: right;\">\n",
       "      <th></th>\n",
       "      <th>GEOID</th>\n",
       "      <th>CTLabel</th>\n",
       "      <th>NTAName</th>\n",
       "      <th>NTA2020</th>\n",
       "      <th>CDTA2020</th>\n",
       "      <th>CDTANAME</th>\n",
       "      <th>BoroName</th>\n",
       "      <th>CT2020</th>\n",
       "      <th>BoroCT2020</th>\n",
       "      <th>geometry</th>\n",
       "    </tr>\n",
       "  </thead>\n",
       "  <tbody>\n",
       "    <tr>\n",
       "      <th>0</th>\n",
       "      <td>36061000100</td>\n",
       "      <td>1.00</td>\n",
       "      <td>The Battery-Governors Island-Ellis Island-Libe...</td>\n",
       "      <td>MN0191</td>\n",
       "      <td>MN01</td>\n",
       "      <td>MN01 Financial District-Tribeca (CD 1 Equivalent)</td>\n",
       "      <td>Manhattan</td>\n",
       "      <td>100</td>\n",
       "      <td>1000100</td>\n",
       "      <td>MULTIPOLYGON (((-74.04388 40.69019, -74.04351 ...</td>\n",
       "    </tr>\n",
       "    <tr>\n",
       "      <th>1</th>\n",
       "      <td>36061001401</td>\n",
       "      <td>14.01</td>\n",
       "      <td>Lower East Side</td>\n",
       "      <td>MN0302</td>\n",
       "      <td>MN03</td>\n",
       "      <td>MN03 Lower East Side-Chinatown (CD 3 Equivalent)</td>\n",
       "      <td>Manhattan</td>\n",
       "      <td>1401</td>\n",
       "      <td>1001401</td>\n",
       "      <td>MULTIPOLYGON (((-73.98837 40.71645, -73.98754 ...</td>\n",
       "    </tr>\n",
       "    <tr>\n",
       "      <th>2</th>\n",
       "      <td>36061001402</td>\n",
       "      <td>14.02</td>\n",
       "      <td>Lower East Side</td>\n",
       "      <td>MN0302</td>\n",
       "      <td>MN03</td>\n",
       "      <td>MN03 Lower East Side-Chinatown (CD 3 Equivalent)</td>\n",
       "      <td>Manhattan</td>\n",
       "      <td>1402</td>\n",
       "      <td>1001402</td>\n",
       "      <td>MULTIPOLYGON (((-73.98507 40.71908, -73.98423 ...</td>\n",
       "    </tr>\n",
       "    <tr>\n",
       "      <th>3</th>\n",
       "      <td>36061001800</td>\n",
       "      <td>18.00</td>\n",
       "      <td>Lower East Side</td>\n",
       "      <td>MN0302</td>\n",
       "      <td>MN03</td>\n",
       "      <td>MN03 Lower East Side-Chinatown (CD 3 Equivalent)</td>\n",
       "      <td>Manhattan</td>\n",
       "      <td>1800</td>\n",
       "      <td>1001800</td>\n",
       "      <td>MULTIPOLYGON (((-73.98985 40.72052, -73.98972 ...</td>\n",
       "    </tr>\n",
       "    <tr>\n",
       "      <th>4</th>\n",
       "      <td>36061002201</td>\n",
       "      <td>22.01</td>\n",
       "      <td>Lower East Side</td>\n",
       "      <td>MN0302</td>\n",
       "      <td>MN03</td>\n",
       "      <td>MN03 Lower East Side-Chinatown (CD 3 Equivalent)</td>\n",
       "      <td>Manhattan</td>\n",
       "      <td>2201</td>\n",
       "      <td>1002201</td>\n",
       "      <td>MULTIPOLYGON (((-73.97875 40.71993, -73.97879 ...</td>\n",
       "    </tr>\n",
       "  </tbody>\n",
       "</table>\n",
       "</div>"
      ],
      "text/plain": [
       "         GEOID  CTLabel                                            NTAName  \\\n",
       "0  36061000100     1.00  The Battery-Governors Island-Ellis Island-Libe...   \n",
       "1  36061001401    14.01                                    Lower East Side   \n",
       "2  36061001402    14.02                                    Lower East Side   \n",
       "3  36061001800    18.00                                    Lower East Side   \n",
       "4  36061002201    22.01                                    Lower East Side   \n",
       "\n",
       "  NTA2020 CDTA2020                                           CDTANAME  \\\n",
       "0  MN0191     MN01  MN01 Financial District-Tribeca (CD 1 Equivalent)   \n",
       "1  MN0302     MN03   MN03 Lower East Side-Chinatown (CD 3 Equivalent)   \n",
       "2  MN0302     MN03   MN03 Lower East Side-Chinatown (CD 3 Equivalent)   \n",
       "3  MN0302     MN03   MN03 Lower East Side-Chinatown (CD 3 Equivalent)   \n",
       "4  MN0302     MN03   MN03 Lower East Side-Chinatown (CD 3 Equivalent)   \n",
       "\n",
       "    BoroName  CT2020  BoroCT2020  \\\n",
       "0  Manhattan     100     1000100   \n",
       "1  Manhattan    1401     1001401   \n",
       "2  Manhattan    1402     1001402   \n",
       "3  Manhattan    1800     1001800   \n",
       "4  Manhattan    2201     1002201   \n",
       "\n",
       "                                            geometry  \n",
       "0  MULTIPOLYGON (((-74.04388 40.69019, -74.04351 ...  \n",
       "1  MULTIPOLYGON (((-73.98837 40.71645, -73.98754 ...  \n",
       "2  MULTIPOLYGON (((-73.98507 40.71908, -73.98423 ...  \n",
       "3  MULTIPOLYGON (((-73.98985 40.72052, -73.98972 ...  \n",
       "4  MULTIPOLYGON (((-73.97875 40.71993, -73.97879 ...  "
      ]
     },
     "execution_count": 99,
     "metadata": {},
     "output_type": "execute_result"
    }
   ],
   "source": [
    "tracts.head()"
   ]
  },
  {
   "cell_type": "code",
   "execution_count": 100,
   "id": "fca505d4",
   "metadata": {},
   "outputs": [
    {
     "name": "stdout",
     "output_type": "stream",
     "text": [
      "EPSG:4326\n",
      "EPSG:4326\n"
     ]
    }
   ],
   "source": [
    "print(tracts.crs)\n",
    "print(poi_data.crs)"
   ]
  },
  {
   "cell_type": "code",
   "execution_count": 101,
   "id": "ddec2ab1",
   "metadata": {},
   "outputs": [],
   "source": [
    "#Only keep tracts that have a POI\n",
    "joined = gpd.sjoin(tracts, poi_data, how= 'inner', predicate='intersects')"
   ]
  },
  {
   "cell_type": "code",
   "execution_count": 102,
   "id": "4de5b032",
   "metadata": {},
   "outputs": [
    {
     "data": {
      "text/html": [
       "<div>\n",
       "<style scoped>\n",
       "    .dataframe tbody tr th:only-of-type {\n",
       "        vertical-align: middle;\n",
       "    }\n",
       "\n",
       "    .dataframe tbody tr th {\n",
       "        vertical-align: top;\n",
       "    }\n",
       "\n",
       "    .dataframe thead th {\n",
       "        text-align: right;\n",
       "    }\n",
       "</style>\n",
       "<table border=\"1\" class=\"dataframe\">\n",
       "  <thead>\n",
       "    <tr style=\"text-align: right;\">\n",
       "      <th></th>\n",
       "      <th>GEOID</th>\n",
       "      <th>CTLabel</th>\n",
       "      <th>NTAName</th>\n",
       "      <th>NTA2020</th>\n",
       "      <th>CDTA2020</th>\n",
       "      <th>CDTANAME</th>\n",
       "      <th>BoroName</th>\n",
       "      <th>CT2020</th>\n",
       "      <th>BoroCT2020</th>\n",
       "      <th>geometry</th>\n",
       "      <th>index_right</th>\n",
       "      <th>osm_id</th>\n",
       "      <th>code</th>\n",
       "      <th>fclass</th>\n",
       "      <th>name</th>\n",
       "    </tr>\n",
       "  </thead>\n",
       "  <tbody>\n",
       "    <tr>\n",
       "      <th>1</th>\n",
       "      <td>36061001401</td>\n",
       "      <td>14.01</td>\n",
       "      <td>Lower East Side</td>\n",
       "      <td>MN0302</td>\n",
       "      <td>MN03</td>\n",
       "      <td>MN03 Lower East Side-Chinatown (CD 3 Equivalent)</td>\n",
       "      <td>Manhattan</td>\n",
       "      <td>1401</td>\n",
       "      <td>1001401</td>\n",
       "      <td>MULTIPOLYGON (((-73.98837 40.71645, -73.98754 ...</td>\n",
       "      <td>88712</td>\n",
       "      <td>11038072613</td>\n",
       "      <td>2906</td>\n",
       "      <td>waste_basket</td>\n",
       "      <td>waste_basket</td>\n",
       "    </tr>\n",
       "    <tr>\n",
       "      <th>1</th>\n",
       "      <td>36061001401</td>\n",
       "      <td>14.01</td>\n",
       "      <td>Lower East Side</td>\n",
       "      <td>MN0302</td>\n",
       "      <td>MN03</td>\n",
       "      <td>MN03 Lower East Side-Chinatown (CD 3 Equivalent)</td>\n",
       "      <td>Manhattan</td>\n",
       "      <td>1401</td>\n",
       "      <td>1001401</td>\n",
       "      <td>MULTIPOLYGON (((-73.98837 40.71645, -73.98754 ...</td>\n",
       "      <td>88705</td>\n",
       "      <td>11038072593</td>\n",
       "      <td>2902</td>\n",
       "      <td>bench</td>\n",
       "      <td>bench</td>\n",
       "    </tr>\n",
       "    <tr>\n",
       "      <th>1</th>\n",
       "      <td>36061001401</td>\n",
       "      <td>14.01</td>\n",
       "      <td>Lower East Side</td>\n",
       "      <td>MN0302</td>\n",
       "      <td>MN03</td>\n",
       "      <td>MN03 Lower East Side-Chinatown (CD 3 Equivalent)</td>\n",
       "      <td>Manhattan</td>\n",
       "      <td>1401</td>\n",
       "      <td>1001401</td>\n",
       "      <td>MULTIPOLYGON (((-73.98837 40.71645, -73.98754 ...</td>\n",
       "      <td>88706</td>\n",
       "      <td>11038072594</td>\n",
       "      <td>2902</td>\n",
       "      <td>bench</td>\n",
       "      <td>bench</td>\n",
       "    </tr>\n",
       "    <tr>\n",
       "      <th>1</th>\n",
       "      <td>36061001401</td>\n",
       "      <td>14.01</td>\n",
       "      <td>Lower East Side</td>\n",
       "      <td>MN0302</td>\n",
       "      <td>MN03</td>\n",
       "      <td>MN03 Lower East Side-Chinatown (CD 3 Equivalent)</td>\n",
       "      <td>Manhattan</td>\n",
       "      <td>1401</td>\n",
       "      <td>1001401</td>\n",
       "      <td>MULTIPOLYGON (((-73.98837 40.71645, -73.98754 ...</td>\n",
       "      <td>88710</td>\n",
       "      <td>11038072598</td>\n",
       "      <td>2902</td>\n",
       "      <td>bench</td>\n",
       "      <td>bench</td>\n",
       "    </tr>\n",
       "    <tr>\n",
       "      <th>1</th>\n",
       "      <td>36061001401</td>\n",
       "      <td>14.01</td>\n",
       "      <td>Lower East Side</td>\n",
       "      <td>MN0302</td>\n",
       "      <td>MN03</td>\n",
       "      <td>MN03 Lower East Side-Chinatown (CD 3 Equivalent)</td>\n",
       "      <td>Manhattan</td>\n",
       "      <td>1401</td>\n",
       "      <td>1001401</td>\n",
       "      <td>MULTIPOLYGON (((-73.98837 40.71645, -73.98754 ...</td>\n",
       "      <td>88711</td>\n",
       "      <td>11038072612</td>\n",
       "      <td>2906</td>\n",
       "      <td>waste_basket</td>\n",
       "      <td>waste_basket</td>\n",
       "    </tr>\n",
       "  </tbody>\n",
       "</table>\n",
       "</div>"
      ],
      "text/plain": [
       "         GEOID  CTLabel          NTAName NTA2020 CDTA2020  \\\n",
       "1  36061001401    14.01  Lower East Side  MN0302     MN03   \n",
       "1  36061001401    14.01  Lower East Side  MN0302     MN03   \n",
       "1  36061001401    14.01  Lower East Side  MN0302     MN03   \n",
       "1  36061001401    14.01  Lower East Side  MN0302     MN03   \n",
       "1  36061001401    14.01  Lower East Side  MN0302     MN03   \n",
       "\n",
       "                                           CDTANAME   BoroName  CT2020  \\\n",
       "1  MN03 Lower East Side-Chinatown (CD 3 Equivalent)  Manhattan    1401   \n",
       "1  MN03 Lower East Side-Chinatown (CD 3 Equivalent)  Manhattan    1401   \n",
       "1  MN03 Lower East Side-Chinatown (CD 3 Equivalent)  Manhattan    1401   \n",
       "1  MN03 Lower East Side-Chinatown (CD 3 Equivalent)  Manhattan    1401   \n",
       "1  MN03 Lower East Side-Chinatown (CD 3 Equivalent)  Manhattan    1401   \n",
       "\n",
       "   BoroCT2020                                           geometry  index_right  \\\n",
       "1     1001401  MULTIPOLYGON (((-73.98837 40.71645, -73.98754 ...        88712   \n",
       "1     1001401  MULTIPOLYGON (((-73.98837 40.71645, -73.98754 ...        88705   \n",
       "1     1001401  MULTIPOLYGON (((-73.98837 40.71645, -73.98754 ...        88706   \n",
       "1     1001401  MULTIPOLYGON (((-73.98837 40.71645, -73.98754 ...        88710   \n",
       "1     1001401  MULTIPOLYGON (((-73.98837 40.71645, -73.98754 ...        88711   \n",
       "\n",
       "        osm_id  code        fclass          name  \n",
       "1  11038072613  2906  waste_basket  waste_basket  \n",
       "1  11038072593  2902         bench         bench  \n",
       "1  11038072594  2902         bench         bench  \n",
       "1  11038072598  2902         bench         bench  \n",
       "1  11038072612  2906  waste_basket  waste_basket  "
      ]
     },
     "execution_count": 102,
     "metadata": {},
     "output_type": "execute_result"
    }
   ],
   "source": [
    "joined.head()"
   ]
  },
  {
   "cell_type": "code",
   "execution_count": 103,
   "id": "5ba9d98f",
   "metadata": {},
   "outputs": [],
   "source": [
    "# ✅ Count POIs per tract\n",
    "tract_poi_counts = joined.groupby(\"GEOID\").size().reset_index(name=\"poi_count\")\n",
    "\n",
    "# ✅ Merge with original tracts (to retain those with 0 POIs)\n",
    "tracts_with_poi = tracts.merge(tract_poi_counts, on=\"GEOID\", how=\"left\")\n",
    "tracts_with_poi[\"poi_count\"] = tracts_with_poi[\"poi_count\"].fillna(0).astype(int)\n",
    "\n",
    "# ✅ Normalize to 0–10 score (min-max scaling)\n",
    "max_poi = tracts_with_poi[\"poi_count\"].max()\n",
    "min_poi = tracts_with_poi[\"poi_count\"].min()\n",
    "tracts_with_poi[\"poi_score\"] = ((tracts_with_poi[\"poi_count\"] - min_poi) / (max_poi - min_poi) * 10).round(2)\n",
    "\n",
    "# ✅ Export only relevant columns to CSV\n",
    "tracts_with_poi[[\"GEOID\", \"poi_count\", \"poi_score\"]].to_csv(\"tract_level_poi.csv\", index=False)\n"
   ]
  }
 ],
 "metadata": {
  "kernelspec": {
   "display_name": "comp47350py311",
   "language": "python",
   "name": "python3"
  },
  "language_info": {
   "codemirror_mode": {
    "name": "ipython",
    "version": 3
   },
   "file_extension": ".py",
   "mimetype": "text/x-python",
   "name": "python",
   "nbconvert_exporter": "python",
   "pygments_lexer": "ipython3",
   "version": "3.11.11"
  }
 },
 "nbformat": 4,
 "nbformat_minor": 5
}
