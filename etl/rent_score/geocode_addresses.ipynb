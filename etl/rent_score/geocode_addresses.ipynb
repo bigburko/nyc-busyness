{
 "cells": [
  {
   "cell_type": "code",
   "execution_count": null,
   "id": "0c33fd02",
   "metadata": {},
   "outputs": [
    {
     "name": "stdout",
     "output_type": "stream",
     "text": [
      "Collecting geopy\n",
      "  Using cached geopy-2.4.1-py3-none-any.whl.metadata (6.8 kB)\n",
      "Collecting geographiclib<3,>=1.52 (from geopy)\n",
      "  Using cached geographiclib-2.0-py3-none-any.whl.metadata (1.4 kB)\n",
      "Using cached geopy-2.4.1-py3-none-any.whl (125 kB)\n",
      "Using cached geographiclib-2.0-py3-none-any.whl (40 kB)\n",
      "Installing collected packages: geographiclib, geopy\n",
      "Successfully installed geographiclib-2.0 geopy-2.4.1\n"
     ]
    }
   ],
   "source": [
    "# Install geopy packages\n",
    "!pip install geopy"
   ]
  },
  {
   "cell_type": "code",
   "execution_count": null,
   "id": "85c12526",
   "metadata": {},
   "outputs": [],
   "source": [
    "# Import required packages\n",
    "import pandas as pd\n",
    "import requests\n",
    "import time\n",
    "from geopy.geocoders import Nominatim\n",
    "from geopy.exc import GeocoderTimedOut, GeocoderServiceError"
   ]
  },
  {
   "cell_type": "code",
   "execution_count": 10,
   "id": "9b8d7936",
   "metadata": {},
   "outputs": [],
   "source": [
    "def get_geocoordinates(address):\n",
    "    geolocator = Nominatim(user_agent = \"property_geocoder\")\n",
    "    \n",
    "    try:\n",
    "        time.sleep(1)\n",
    "        location = geolocator.geocode(address + \", Manhattan, NY, USA\")\n",
    "        if location:\n",
    "            return location.latitude, location.longitude\n",
    "        else:\n",
    "            return None, None\n",
    "    except (GeocoderTimedOut, GeocoderServiceError):\n",
    "        return None, None"
   ]
  },
  {
   "cell_type": "code",
   "execution_count": 11,
   "id": "9e3837e9",
   "metadata": {},
   "outputs": [],
   "source": [
    "def geocode_csv_addresses(csv_file, method = 'geopy'):\n",
    "    \n",
    "    # Read the CSV file\n",
    "    df = pd.read_csv(csv_file)\n",
    "    \n",
    "    # Add coordinate columns\n",
    "    df['latitude'] = None\n",
    "    df['longitude'] = None\n",
    "    \n",
    "    # Iterate through each row\n",
    "    for index, row in df.iterrows():\n",
    "        address = row['address']\n",
    "        print(f\"Processing {index + 1}/{len(df)}: {address}\")\n",
    "       \n",
    "        latitude, longitude = get_geocoordinates(address)\n",
    "        \n",
    "        # Store results\n",
    "        df.at[index, 'latitude'] = latitude\n",
    "        df.at[index, 'longitude'] = longitude\n",
    "        \n",
    "    return df"
   ]
  }
 ],
 "metadata": {
  "kernelspec": {
   "display_name": "base",
   "language": "python",
   "name": "python3"
  },
  "language_info": {
   "codemirror_mode": {
    "name": "ipython",
    "version": 3
   },
   "file_extension": ".py",
   "mimetype": "text/x-python",
   "name": "python",
   "nbconvert_exporter": "python",
   "pygments_lexer": "ipython3",
   "version": "3.12.4"
  }
 },
 "nbformat": 4,
 "nbformat_minor": 5
}
