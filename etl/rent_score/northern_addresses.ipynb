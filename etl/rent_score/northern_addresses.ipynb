{
 "cells": [
  {
   "cell_type": "code",
   "execution_count": 26,
   "id": "f5e20c47",
   "metadata": {},
   "outputs": [],
   "source": [
    "# Import required packages\n",
    "import pandas as pd\n",
    "import time\n",
    "from geopy.geocoders import Nominatim\n",
    "from geopy.exc import GeocoderTimedOut, GeocoderServiceError"
   ]
  },
  {
   "cell_type": "code",
   "execution_count": 27,
   "id": "089582bd",
   "metadata": {},
   "outputs": [],
   "source": [
    "def get_geocoordinates(address):\n",
    "    geolocator = Nominatim(user_agent=\"property_geocoder\")\n",
    "    try:\n",
    "        time.sleep(1)\n",
    "        if \"New York, NY\" not in address:\n",
    "            full_address = address + \", Manhattan, NY, USA\"\n",
    "        else:\n",
    "            full_address = address\n",
    "        location = geolocator.geocode(full_address)\n",
    "        if location:\n",
    "            return location.latitude, location.longitude\n",
    "        else:\n",
    "            return None, None\n",
    "    except (GeocoderTimedOut, GeocoderServiceError):\n",
    "        return None, None"
   ]
  },
  {
   "cell_type": "code",
   "execution_count": 28,
   "id": "e81763e3",
   "metadata": {},
   "outputs": [],
   "source": [
    "# Load current data and add 5 new addresses\n",
    "df = pd.read_csv('manhattan_listings_with_coordinates.csv')\n",
    "\n",
    "new_addresses = [\n",
    "    (\"31 W 125th St, New York, NY 10027\", \"$40.21 SF/YR\"),\n",
    "    (\"16 E 98th St, New York, NY 10029\", \"$52.00 SF/YR\"),\n",
    "    (\"7-11 W 96th St, New York, NY 10025\", \"$150.00 SF/YR\"),\n",
    "    (\"2028 Second Ave, New York, NY 10029\", \"$69.95 SF/YR\"),\n",
    "    (\"2315 2nd Ave, New York, NY 10035\", \"$78.16 SF/YR\"),\n",
    "    (\"599 W 187th St, New York, NY\", \"$47.14 SF/YR\"),\n",
    "    (\"3410-3418 Broadway, New York, NY\", \"$165.00 SF/YR\"),\n",
    "    (\"3845-3487 Tenth Ave, New York, NY\", \"$67.86 SF/YR\"),\n",
    "    (\"92 Wadsworth Ave, New York, NY\", \"$50.00 SF/YR\"),\n",
    "    (\"2140 Amsterdam Ave, New York, NY\", \"$73.84 SF/YR\"),\n",
    "    (\"3910-3918 Broadway, New York, NY\", \"$139.64 SF/YR\"),\n",
    "    (\"3860-3866 Broadway, New York, NY\", \"$145.11 SF/YR\"),\n",
    "    (\"3781-3799 Broadway, New York, NY\", \"$169.00 SF/YR\"),\n",
    "    (\"620 W 152nd St, New York, NY\", \"$42.00 SF/YR\"),\n",
    "    (\"2916 Frederick Douglass Blvd, New York, NY\", \"$30.00 SF/YR\"),\n",
    "    (\"2855 Frederick Douglass Blvd, New York, NY\", \"$45.00 SF/YR\"),\n",
    "    (\"500 W 148th St, New York, NY\", \"$67.43 SF/YR\"),\n",
    "    (\"3430-3438 Broadway, New York, NY\", \"$43.70 SF/YR\"),\n",
    "    (\"508 W 139 St, New York, NY\", \"$70.00 SF/YR\"),\n",
    "    (\"300 140th St, New York, NY\", \"$40.00 SF/YR\"),\n",
    "    (\"2613 Frederick Douglas Blvd, New York, NY\", \"$42.00 SF/YR\"),\n",
    "    (\"231 W 148th St, New York, NY\", \"$67.50 SF/YR\"),\n",
    "    (\"900-908 Saint Nicholas Ave, New York, NY\", \"$97.00 SF/YR\"),\n",
    "    (\"2094 Amsterdam Ave, New York, NY\", \"$60.00-$108.00 SF/YR\"),\n",
    "    (\"83-87 Audubon Ave, New York, NY\", \"$96.00 SF/YR\"),\n",
    "    (\"286 Fort Washington Ave, New York, NY\", \"$60.00 SF/YR\"),\n",
    "    (\"554 W 174th St, New York, NY\", \"$30.00 SF/YR\"),\n",
    "    (\"500 W 175th St, New York, NY\", \"$35.05-$85.20 SF/YR\"),\n",
    "    (\"1365 Saint Nicholas Ave, New York, NY\", \"$95.00-$99.00 SF/YR\"),\n",
    "    (\"561 W 180th St, New York, NY\", \"$86.00 SF/YR\"),\n",
    "    (\"516 W 181st St, New York, NY\", \"$110.00 SF/YR\"),\n",
    "    (\"512 W 181st St, New York, NY\", \"$40.00 SF/YR\"),\n",
    "    (\"552 W 184th St, New York, NY\", \"$48.50 SF/YR\"),\n",
    "    (\"1631-1637 Saint Nicholas Ave, New York, NY\", \"$133.33 SF/YR\"),\n",
    "    (\"122 Dyckman Street, New York, NY\", \"$59.00 SF/YR\"),\n",
    "    (\"31-39 Sherman Ave, New York, NY\", \"$62.00 SF/YR\"),\n",
    "    (\"5025-5035 Broadway Café, New York, NY\", \"$80.00 SF/YR\")\n",
    "]"
   ]
  },
  {
   "cell_type": "code",
   "execution_count": 29,
   "id": "e6e3ecc8",
   "metadata": {},
   "outputs": [
    {
     "name": "stdout",
     "output_type": "stream",
     "text": [
      "Added: 31 W 125th St, New York, NY 10027\n",
      "Added: 16 E 98th St, New York, NY 10029\n",
      "Added: 7-11 W 96th St, New York, NY 10025\n",
      "Added: 2028 Second Ave, New York, NY 10029\n",
      "Added: 2315 2nd Ave, New York, NY 10035\n",
      "Added: 599 W 187th St, New York, NY\n",
      "Added: 92 Wadsworth Ave, New York, NY\n",
      "Added: 2140 Amsterdam Ave, New York, NY\n",
      "Added: 3860-3866 Broadway, New York, NY\n",
      "Added: 620 W 152nd St, New York, NY\n",
      "Added: 2916 Frederick Douglass Blvd, New York, NY\n",
      "Added: 2855 Frederick Douglass Blvd, New York, NY\n",
      "Added: 500 W 148th St, New York, NY\n",
      "Added: 3430-3438 Broadway, New York, NY\n",
      "Added: 300 140th St, New York, NY\n",
      "Added: 231 W 148th St, New York, NY\n",
      "Added: 900-908 Saint Nicholas Ave, New York, NY\n",
      "Added: 2094 Amsterdam Ave, New York, NY\n",
      "Added: 83-87 Audubon Ave, New York, NY\n",
      "Added: 286 Fort Washington Ave, New York, NY\n",
      "Added: 554 W 174th St, New York, NY\n",
      "Added: 500 W 175th St, New York, NY\n",
      "Added: 1365 Saint Nicholas Ave, New York, NY\n",
      "Added: 561 W 180th St, New York, NY\n",
      "Added: 516 W 181st St, New York, NY\n",
      "Added: 512 W 181st St, New York, NY\n",
      "Added: 552 W 184th St, New York, NY\n",
      "Added: 1631-1637 Saint Nicholas Ave, New York, NY\n",
      "Added: 122 Dyckman Street, New York, NY\n",
      "Added: 31-39 Sherman Ave, New York, NY\n"
     ]
    }
   ],
   "source": [
    "# Geocode and append each address\n",
    "for address, price in new_addresses:\n",
    "    lat, lng = get_geocoordinates(address)\n",
    "    if lat and lng:\n",
    "        # Check if address already exists before adding\n",
    "        if not df[df['address'] == address].any().any():\n",
    "            new_row = pd.DataFrame({'address': [address], 'price': [price], 'latitude': [lat], 'longitude': [lng]})\n",
    "            df = pd.concat([df, new_row], ignore_index=True)\n",
    "            print(f\"Added: {address}\")\n",
    "        else:\n",
    "            print(f\"Skipped duplicate: {address}\")"
   ]
  },
  {
   "cell_type": "code",
   "execution_count": 30,
   "id": "f2cdc471",
   "metadata": {},
   "outputs": [
    {
     "name": "stdout",
     "output_type": "stream",
     "text": [
      "CSV now has 237 addresses\n"
     ]
    }
   ],
   "source": [
    "# Save csv with northern addresses added\n",
    "df.to_csv('manhattan_listings_with_coordinates.csv', index=False)\n",
    "print(f\"CSV now has {len(df)} addresses\")"
   ]
  }
 ],
 "metadata": {
  "kernelspec": {
   "display_name": "base",
   "language": "python",
   "name": "python3"
  },
  "language_info": {
   "codemirror_mode": {
    "name": "ipython",
    "version": 3
   },
   "file_extension": ".py",
   "mimetype": "text/x-python",
   "name": "python",
   "nbconvert_exporter": "python",
   "pygments_lexer": "ipython3",
   "version": "3.12.4"
  }
 },
 "nbformat": 4,
 "nbformat_minor": 5
}
